{
 "cells": [
  {
   "cell_type": "markdown",
   "source": [
    "Steps:\n",
    "- Scarping Job postings with Selenium and bs4\n",
    "- Visualize in Tableau or PowerBI"
   ],
   "metadata": {
    "collapsed": false
   }
  },
  {
   "cell_type": "markdown",
   "source": [
    "import necessary modules - first try with BeautifulSoup"
   ],
   "metadata": {
    "collapsed": false
   }
  },
  {
   "cell_type": "code",
   "execution_count": 150,
   "outputs": [],
   "source": [
    "import driver as driver\n",
    "import pandas as pd\n",
    "import re\n",
    "import lxml\n",
    "from bs4 import BeautifulSoup\n",
    "from datetime import date, timedelta, datetime\n",
    "from IPython.core.display import clear_output\n",
    "from random import randint\n",
    "from requests import get\n",
    "from selenium import webdriver\n",
    "from selenium.webdriver.common.action_chains import ActionChains\n",
    "from time import sleep\n",
    "from time import time\n",
    "import datetime\n",
    "start_time = time()\n",
    "\n",
    "from warnings import warn\n"
   ],
   "metadata": {
    "collapsed": false,
    "pycharm": {
     "name": "#%%\n"
    }
   }
  },
  {
   "cell_type": "markdown",
   "source": [
    "Select wanted url"
   ],
   "metadata": {
    "collapsed": false
   }
  },
  {
   "cell_type": "code",
   "execution_count": 151,
   "outputs": [
    {
     "data": {
      "text/plain": "'https://www.linkedin.com/jobs/search?keywords=Data%20Analyst&location=Zürich%2C%20Zurich%2C%20Switzerland'"
     },
     "execution_count": 151,
     "metadata": {},
     "output_type": "execute_result"
    }
   ],
   "source": [
    "city = str(input('Please enter the city you want to work in'))\n",
    "state = str(input('Please enter the state you want to work in'))\n",
    "country = str(input('Please enter the country you want to work in'))\n",
    "url = 'https://www.linkedin.com/jobs/search?keywords=Data%20Analyst&location='+ city + '%2C%20'+ state +'%2C%20'+ country\n",
    "url2 = 'https://www.linkedin.com/jobs/search?keywords=Data%20Analyst&location=Geneva%2C%20Geneva%2C%20Switzerland&geoId=107814425&trk=public_jobs_jobs-search-bar_search-submit&redirect=false&position=1&pageNum=0'\n",
    "no_of_jobs = 50\n",
    "\n",
    "url\n",
    "\n"
   ],
   "metadata": {
    "collapsed": false,
    "pycharm": {
     "name": "#%%\n"
    }
   }
  },
  {
   "cell_type": "markdown",
   "source": [
    "open windows with url stated above in"
   ],
   "metadata": {
    "collapsed": false
   }
  },
  {
   "cell_type": "code",
   "execution_count": 152,
   "outputs": [],
   "source": [
    "driver = webdriver.Chrome()\n",
    "driver.get(url)\n",
    "sleep(3)\n",
    "action = ActionChains(driver)"
   ],
   "metadata": {
    "collapsed": false,
    "pycharm": {
     "name": "#%%\n"
    }
   }
  },
  {
   "cell_type": "markdown",
   "source": [
    "to show more jobs than the initial 25"
   ],
   "metadata": {
    "collapsed": false
   }
  },
  {
   "cell_type": "code",
   "execution_count": 153,
   "outputs": [],
   "source": [
    "driver.execute_script(\"window.scrollTo(0,document.body.scrollHeight)\")\n",
    "sleep(20)\n",
    "\n"
   ],
   "metadata": {
    "collapsed": false,
    "pycharm": {
     "name": "#%%\n"
    }
   }
  },
  {
   "cell_type": "markdown",
   "source": [
    "parsing the visible webpage"
   ],
   "metadata": {
    "collapsed": false
   }
  },
  {
   "cell_type": "code",
   "execution_count": 154,
   "outputs": [],
   "source": [
    "pageSource = driver.page_source\n",
    "soup = BeautifulSoup(pageSource,  \"html.parser\")\n",
    "\n"
   ],
   "metadata": {
    "collapsed": false,
    "pycharm": {
     "name": "#%%\n"
    }
   }
  },
  {
   "cell_type": "markdown",
   "source": [
    "Parsing content"
   ],
   "metadata": {
    "collapsed": false
   }
  },
  {
   "cell_type": "code",
   "execution_count": 155,
   "outputs": [
    {
     "name": "stdout",
     "output_type": "stream",
     "text": [
      "Business Intelligence Analyst (80%)\n",
      "Spitex Zürich Limmat\n"
     ]
    }
   ],
   "source": [
    "first_job = soup.find('h3', class_ = 'result-card__title job-result-card__title').text\n",
    "print(first_job)\n",
    "\n",
    "first_company = soup.find('a', class_ = 'result-card__subtitle-link job-result-card__subtitle-link').text\n",
    "print(first_company)"
   ],
   "metadata": {
    "collapsed": false,
    "pycharm": {
     "name": "#%%\n"
    }
   }
  },
  {
   "cell_type": "markdown",
   "source": [
    "Create job container"
   ],
   "metadata": {
    "collapsed": false
   }
  },
  {
   "cell_type": "code",
   "execution_count": 156,
   "outputs": [
    {
     "name": "stdout",
     "output_type": "stream",
     "text": [
      "48\n"
     ]
    }
   ],
   "source": [
    "job_container = soup.find('ul', class_=\"jobs-search__results-list\")\n",
    "print(len(job_container))"
   ],
   "metadata": {
    "collapsed": false,
    "pycharm": {
     "name": "#%%\n"
    }
   }
  },
  {
   "cell_type": "markdown",
   "source": [
    "create for loop to look for all jobs"
   ],
   "metadata": {
    "collapsed": false
   }
  },
  {
   "cell_type": "code",
   "execution_count": 157,
   "outputs": [
    {
     "name": "stdout",
     "output_type": "stream",
     "text": [
      "You are scraping information about 48 jobs.\n"
     ]
    }
   ],
   "source": [
    "print('You are scraping information about {} jobs.'.format(len(job_container)))"
   ],
   "metadata": {
    "collapsed": false,
    "pycharm": {
     "name": "#%%\n"
    }
   }
  },
  {
   "cell_type": "code",
   "execution_count": 158,
   "outputs": [],
   "source": [
    "job_titles = []\n",
    "companies = []\n",
    "locations = []\n",
    "time = []\n",
    "date = []\n",
    "\n",
    "\n",
    "for jobs in job_container:\n",
    "    post_title = jobs.find('h3', class_ = 'result-card__title job-result-card__title').text\n",
    "    job_titles.append(post_title)\n",
    "\n",
    "    post_company = jobs.find('h4', class_ = 'result-card__subtitle job-result-card__subtitle').text\n",
    "    companies.append(post_company)\n",
    "\n",
    "    post_locations = jobs.find('span', class_ = 'job-result-card__location').text\n",
    "    locations.append(post_locations)\n",
    "\n",
    "    post_date = jobs.select_one('time')['datetime']\n",
    "    date.append(post_date)\n"
   ],
   "metadata": {
    "collapsed": false,
    "pycharm": {
     "name": "#%%\n"
    }
   }
  },
  {
   "cell_type": "code",
   "execution_count": 159,
   "outputs": [
    {
     "name": "stdout",
     "output_type": "stream",
     "text": [
      "{'Title': ['Business Intelligence Analyst (80%)', 'Data Analyst', 'Data Engineer (80 - 100%)', 'Business Analyst (m/w), Zurich', 'Global Digital Data Analyst', 'Data Scientist - Zurich', 'Data Scientist 100% (w/m) 100%', 'Data Analyst (BI / Digital Analytics) (w/m) 80-100%', 'Data Scientist', 'Data Engineer', 'Data Analyst (temporary)', 'Product Analyst, Calendar and Tasks', 'Business Analyst', 'HR Data Administrator & Analyst (50% - 60%)', 'Business Analyst 100% (m/w)', 'Data Consultant', 'Data Scientist - QuantumBlack', 'Data Engineer', 'Business/Data Analyst Basel IV #154939', 'Analytics Engineer (m/f/d)', 'Business Analyst', 'Reporting/ Data Analyst (Banking - Operations)', 'Digital Analyst (w/m/d)', 'Data Scientist Personalisierung - Zürich', 'Junior Business Analyst', 'Data scientist for AI and Monitoring Models Validation', 'Data Science Analyst (AA/AI) 100% (f/m/d)', 'Business Analyst', 'Business Insights Analyst, Direct-to-Consumer - Global', 'Business Analyst 80 - 100%', 'Data Engineer', 'Big Data Analyst/Developer - Big Data, Hadoop, Spark, Python', 'Business Analyst/in', 'Business Analyst Data Privacy & Deletion (m/w) 80-100%', 'Data Scientist – Machine Learning & Forecasting', 'Data Engineer - Pyspark, Databricks', 'Business Analyst Kundenstamm / Kernbankenapplikation (w/m)', 'Business Analyst / Consultant Digitalisierung', 'Data Engineer, Python, Pyspark', 'Product Owner / Requirements Analyst (80-100%)', 'Data Engineer (m/f)', 'Business Analyst Finanzinformationen', 'Business Analyst', 'Graduate Artificial Intelligence and Analytics (Data Engineering Focussed)', 'Business Analyst', ' e-Commerce Business Analyst and Product manager (100%)', 'Business Analyst / Consultant EasyTax', 'Business Analyst (m/w/d) mit Projektleitungserfahrung'], 'Company': ['Spitex Zürich Limmat', 'EPAM Systems', 'Swiss Re', 'MoneyPark', 'La Prairie Group AG', 'Freshtechit', 'Properti AG', 'NZZ', 'Tata Consultancy Services', 'Verity', 'kessler.vogler', 'Google', 'additiv', 'Steiner AG', 'ADMEIRA', 'Onedot', 'QuantumBlack', 'Empiric', 'Credit Suisse', 'On', 'S&P Global Ratings', 'Experis Switzerland', 'Migros-Genossenschafts-Bund', 'SRF - Schweizer Radio und Fernsehen', 'SIX', 'UBS', 'Mettler-Toledo International, Inc', 'Pickwings', 'Plume Design, Inc', 'Swiss Life', 'Digitec Galaxus AG', 'Luxoft', 'Braingroup AG', 'Zurich Insurance Company Ltd', 'EF Education First', 'Darwin Recruitment', 'Migros Bank', 'Nordwand Group AG', 'CareerAddict', 'Ava Women', ' 2parse.it gmbh', 'VP Bank AG', 'SELISE rockin’ software', 'Cognizant', 'Credit Now', 'BREITLING', 'BearingPoint', 'DZ PRIVATBANK S.A.'], 'Locations': ['Zurich, Zurich, Switzerland', 'Zurich, Zurich, Switzerland', 'Zurich, Zurich, Switzerland', 'Schlatt (Zürich), Zurich, Switzerland', 'Zurich, Switzerland', 'Zurich, Switzerland', 'Horgen, Zurich, Switzerland', 'Zurich, Zurich, Switzerland', 'Zurich, Switzerland', 'Zurich, Switzerland', 'Zurich, Zurich, Switzerland', 'Schlatt (Zürich), Zurich, Switzerland', 'Zurich, Switzerland', 'Zurich, Switzerland', 'Zurich, Zurich, Switzerland', 'Schlieren, Zurich, Switzerland', 'Zurich, Zurich, Switzerland', 'Zurich, Switzerland', 'Zurich, Zurich, Switzerland', 'Zurich, Zurich, Switzerland', 'Zurich, Zurich, Switzerland', 'Zurich, Zurich, Switzerland', 'Schlatt (Zürich), Zurich, Switzerland', 'Schlatt (Zürich), Zurich, Switzerland', 'Zurich, Zurich, Switzerland', 'Zurich, Zurich, Switzerland', 'Greifensee, Zurich, Switzerland', 'Schlatt (Zürich), Zurich, Switzerland', 'Zurich, Zurich, Switzerland', 'Schlatt (Zürich), Zurich, Switzerland', 'Zurich, Switzerland', 'Zurich, Switzerland', 'Zurich, Zurich, Switzerland', 'Zurich, Zurich, Switzerland', 'Zurich, Zurich, Switzerland', 'Zurich, Switzerland', 'Wallisellen, Zurich, Switzerland', 'Egg, Zurich, Switzerland', 'Schlatt (Zürich), Zurich, Switzerland', 'Schlatt (Zürich), Zurich, Switzerland', 'Schlatt (Zürich), Zurich, Switzerland', 'Zurich, Zurich, Switzerland', 'Kloten, Zurich, Switzerland', 'Zurich, Zurich, Switzerland', 'Horgen, Zurich, Switzerland', 'Zurich, Switzerland', 'Schlatt (Zürich), Zurich, Switzerland', 'Zurich, Zurich, Switzerland'], 'Post Date': ['2021-01-22', '2021-01-15', '2021-01-16', '2021-01-22', '2021-01-17', '2021-01-21', '2021-01-10', '2021-01-17', '2021-01-14', '2021-01-21', '2021-01-14', '2021-01-08', '2021-01-21', '2020-12-24', '2021-01-20', '2021-01-11', '2020-12-25', '2021-01-18', '2021-01-21', '2020-11-17', '2021-01-06', '2021-01-12', '2021-01-19', '2020-11-27', '2021-01-15', '2021-01-11', '2020-12-19', '2021-01-14', '2020-12-29', '2020-12-09', '2021-01-18', '2021-01-21', '2021-01-20', '2021-01-07', '2020-11-24', '2021-01-20', '2021-01-05', '2021-01-21', '2021-01-21', '2021-01-21', '2021-01-22', '2020-11-02', '2021-01-20', '2020-10-18', '2020-12-17', '2021-01-15', '2021-01-15', '2020-11-14']}\n"
     ]
    }
   ],
   "source": [
    "ml = {'Title': job_titles, 'Company': companies, 'Locations': locations, 'Post Date': date}\n",
    "print(ml)"
   ],
   "metadata": {
    "collapsed": false,
    "pycharm": {
     "name": "#%%\n"
    }
   }
  },
  {
   "cell_type": "code",
   "execution_count": 160,
   "outputs": [
    {
     "data": {
      "text/plain": "                                 Title               Company  \\\n0  Business Intelligence Analyst (80%)  Spitex Zürich Limmat   \n\n                     Locations   Post Date  \n0  Zurich, Zurich, Switzerland  2021-01-22  ",
      "text/html": "<div>\n<style scoped>\n    .dataframe tbody tr th:only-of-type {\n        vertical-align: middle;\n    }\n\n    .dataframe tbody tr th {\n        vertical-align: top;\n    }\n\n    .dataframe thead th {\n        text-align: right;\n    }\n</style>\n<table border=\"1\" class=\"dataframe\">\n  <thead>\n    <tr style=\"text-align: right;\">\n      <th></th>\n      <th>Title</th>\n      <th>Company</th>\n      <th>Locations</th>\n      <th>Post Date</th>\n    </tr>\n  </thead>\n  <tbody>\n    <tr>\n      <th>0</th>\n      <td>Business Intelligence Analyst (80%)</td>\n      <td>Spitex Zürich Limmat</td>\n      <td>Zurich, Zurich, Switzerland</td>\n      <td>2021-01-22</td>\n    </tr>\n  </tbody>\n</table>\n</div>"
     },
     "execution_count": 160,
     "metadata": {},
     "output_type": "execute_result"
    }
   ],
   "source": [
    "df = pd.DataFrame(ml)\n",
    "df.head(1)"
   ],
   "metadata": {
    "collapsed": false,
    "pycharm": {
     "name": "#%%\n"
    }
   }
  },
  {
   "cell_type": "markdown",
   "source": [
    "Separate City from State and Country\n"
   ],
   "metadata": {
    "collapsed": false
   }
  },
  {
   "cell_type": "code",
   "execution_count": 161,
   "outputs": [],
   "source": [
    "new = df.Locations.str.split(',', n = 0, expand = True)"
   ],
   "metadata": {
    "collapsed": false,
    "pycharm": {
     "name": "#%%\n"
    }
   }
  },
  {
   "cell_type": "code",
   "execution_count": 162,
   "outputs": [],
   "source": [
    "new2 = new.rename(columns = {0: 'City2'})"
   ],
   "metadata": {
    "collapsed": false,
    "pycharm": {
     "name": "#%%\n"
    }
   }
  },
  {
   "cell_type": "code",
   "execution_count": 163,
   "outputs": [
    {
     "data": {
      "text/plain": "               City2             1             2\n0             Zurich        Zurich   Switzerland\n1             Zurich        Zurich   Switzerland\n2             Zurich        Zurich   Switzerland\n3   Schlatt (Zürich)        Zurich   Switzerland\n4             Zurich   Switzerland          None\n5             Zurich   Switzerland          None\n6             Horgen        Zurich   Switzerland\n7             Zurich        Zurich   Switzerland\n8             Zurich   Switzerland          None\n9             Zurich   Switzerland          None\n10            Zurich        Zurich   Switzerland\n11  Schlatt (Zürich)        Zurich   Switzerland\n12            Zurich   Switzerland          None\n13            Zurich   Switzerland          None\n14            Zurich        Zurich   Switzerland\n15         Schlieren        Zurich   Switzerland\n16            Zurich        Zurich   Switzerland\n17            Zurich   Switzerland          None\n18            Zurich        Zurich   Switzerland\n19            Zurich        Zurich   Switzerland\n20            Zurich        Zurich   Switzerland\n21            Zurich        Zurich   Switzerland\n22  Schlatt (Zürich)        Zurich   Switzerland\n23  Schlatt (Zürich)        Zurich   Switzerland\n24            Zurich        Zurich   Switzerland\n25            Zurich        Zurich   Switzerland\n26        Greifensee        Zurich   Switzerland\n27  Schlatt (Zürich)        Zurich   Switzerland\n28            Zurich        Zurich   Switzerland\n29  Schlatt (Zürich)        Zurich   Switzerland\n30            Zurich   Switzerland          None\n31            Zurich   Switzerland          None\n32            Zurich        Zurich   Switzerland\n33            Zurich        Zurich   Switzerland\n34            Zurich        Zurich   Switzerland\n35            Zurich   Switzerland          None\n36       Wallisellen        Zurich   Switzerland\n37               Egg        Zurich   Switzerland\n38  Schlatt (Zürich)        Zurich   Switzerland\n39  Schlatt (Zürich)        Zurich   Switzerland\n40  Schlatt (Zürich)        Zurich   Switzerland\n41            Zurich        Zurich   Switzerland\n42            Kloten        Zurich   Switzerland\n43            Zurich        Zurich   Switzerland\n44            Horgen        Zurich   Switzerland\n45            Zurich   Switzerland          None\n46  Schlatt (Zürich)        Zurich   Switzerland\n47            Zurich        Zurich   Switzerland",
      "text/html": "<div>\n<style scoped>\n    .dataframe tbody tr th:only-of-type {\n        vertical-align: middle;\n    }\n\n    .dataframe tbody tr th {\n        vertical-align: top;\n    }\n\n    .dataframe thead th {\n        text-align: right;\n    }\n</style>\n<table border=\"1\" class=\"dataframe\">\n  <thead>\n    <tr style=\"text-align: right;\">\n      <th></th>\n      <th>City2</th>\n      <th>1</th>\n      <th>2</th>\n    </tr>\n  </thead>\n  <tbody>\n    <tr>\n      <th>0</th>\n      <td>Zurich</td>\n      <td>Zurich</td>\n      <td>Switzerland</td>\n    </tr>\n    <tr>\n      <th>1</th>\n      <td>Zurich</td>\n      <td>Zurich</td>\n      <td>Switzerland</td>\n    </tr>\n    <tr>\n      <th>2</th>\n      <td>Zurich</td>\n      <td>Zurich</td>\n      <td>Switzerland</td>\n    </tr>\n    <tr>\n      <th>3</th>\n      <td>Schlatt (Zürich)</td>\n      <td>Zurich</td>\n      <td>Switzerland</td>\n    </tr>\n    <tr>\n      <th>4</th>\n      <td>Zurich</td>\n      <td>Switzerland</td>\n      <td>None</td>\n    </tr>\n    <tr>\n      <th>5</th>\n      <td>Zurich</td>\n      <td>Switzerland</td>\n      <td>None</td>\n    </tr>\n    <tr>\n      <th>6</th>\n      <td>Horgen</td>\n      <td>Zurich</td>\n      <td>Switzerland</td>\n    </tr>\n    <tr>\n      <th>7</th>\n      <td>Zurich</td>\n      <td>Zurich</td>\n      <td>Switzerland</td>\n    </tr>\n    <tr>\n      <th>8</th>\n      <td>Zurich</td>\n      <td>Switzerland</td>\n      <td>None</td>\n    </tr>\n    <tr>\n      <th>9</th>\n      <td>Zurich</td>\n      <td>Switzerland</td>\n      <td>None</td>\n    </tr>\n    <tr>\n      <th>10</th>\n      <td>Zurich</td>\n      <td>Zurich</td>\n      <td>Switzerland</td>\n    </tr>\n    <tr>\n      <th>11</th>\n      <td>Schlatt (Zürich)</td>\n      <td>Zurich</td>\n      <td>Switzerland</td>\n    </tr>\n    <tr>\n      <th>12</th>\n      <td>Zurich</td>\n      <td>Switzerland</td>\n      <td>None</td>\n    </tr>\n    <tr>\n      <th>13</th>\n      <td>Zurich</td>\n      <td>Switzerland</td>\n      <td>None</td>\n    </tr>\n    <tr>\n      <th>14</th>\n      <td>Zurich</td>\n      <td>Zurich</td>\n      <td>Switzerland</td>\n    </tr>\n    <tr>\n      <th>15</th>\n      <td>Schlieren</td>\n      <td>Zurich</td>\n      <td>Switzerland</td>\n    </tr>\n    <tr>\n      <th>16</th>\n      <td>Zurich</td>\n      <td>Zurich</td>\n      <td>Switzerland</td>\n    </tr>\n    <tr>\n      <th>17</th>\n      <td>Zurich</td>\n      <td>Switzerland</td>\n      <td>None</td>\n    </tr>\n    <tr>\n      <th>18</th>\n      <td>Zurich</td>\n      <td>Zurich</td>\n      <td>Switzerland</td>\n    </tr>\n    <tr>\n      <th>19</th>\n      <td>Zurich</td>\n      <td>Zurich</td>\n      <td>Switzerland</td>\n    </tr>\n    <tr>\n      <th>20</th>\n      <td>Zurich</td>\n      <td>Zurich</td>\n      <td>Switzerland</td>\n    </tr>\n    <tr>\n      <th>21</th>\n      <td>Zurich</td>\n      <td>Zurich</td>\n      <td>Switzerland</td>\n    </tr>\n    <tr>\n      <th>22</th>\n      <td>Schlatt (Zürich)</td>\n      <td>Zurich</td>\n      <td>Switzerland</td>\n    </tr>\n    <tr>\n      <th>23</th>\n      <td>Schlatt (Zürich)</td>\n      <td>Zurich</td>\n      <td>Switzerland</td>\n    </tr>\n    <tr>\n      <th>24</th>\n      <td>Zurich</td>\n      <td>Zurich</td>\n      <td>Switzerland</td>\n    </tr>\n    <tr>\n      <th>25</th>\n      <td>Zurich</td>\n      <td>Zurich</td>\n      <td>Switzerland</td>\n    </tr>\n    <tr>\n      <th>26</th>\n      <td>Greifensee</td>\n      <td>Zurich</td>\n      <td>Switzerland</td>\n    </tr>\n    <tr>\n      <th>27</th>\n      <td>Schlatt (Zürich)</td>\n      <td>Zurich</td>\n      <td>Switzerland</td>\n    </tr>\n    <tr>\n      <th>28</th>\n      <td>Zurich</td>\n      <td>Zurich</td>\n      <td>Switzerland</td>\n    </tr>\n    <tr>\n      <th>29</th>\n      <td>Schlatt (Zürich)</td>\n      <td>Zurich</td>\n      <td>Switzerland</td>\n    </tr>\n    <tr>\n      <th>30</th>\n      <td>Zurich</td>\n      <td>Switzerland</td>\n      <td>None</td>\n    </tr>\n    <tr>\n      <th>31</th>\n      <td>Zurich</td>\n      <td>Switzerland</td>\n      <td>None</td>\n    </tr>\n    <tr>\n      <th>32</th>\n      <td>Zurich</td>\n      <td>Zurich</td>\n      <td>Switzerland</td>\n    </tr>\n    <tr>\n      <th>33</th>\n      <td>Zurich</td>\n      <td>Zurich</td>\n      <td>Switzerland</td>\n    </tr>\n    <tr>\n      <th>34</th>\n      <td>Zurich</td>\n      <td>Zurich</td>\n      <td>Switzerland</td>\n    </tr>\n    <tr>\n      <th>35</th>\n      <td>Zurich</td>\n      <td>Switzerland</td>\n      <td>None</td>\n    </tr>\n    <tr>\n      <th>36</th>\n      <td>Wallisellen</td>\n      <td>Zurich</td>\n      <td>Switzerland</td>\n    </tr>\n    <tr>\n      <th>37</th>\n      <td>Egg</td>\n      <td>Zurich</td>\n      <td>Switzerland</td>\n    </tr>\n    <tr>\n      <th>38</th>\n      <td>Schlatt (Zürich)</td>\n      <td>Zurich</td>\n      <td>Switzerland</td>\n    </tr>\n    <tr>\n      <th>39</th>\n      <td>Schlatt (Zürich)</td>\n      <td>Zurich</td>\n      <td>Switzerland</td>\n    </tr>\n    <tr>\n      <th>40</th>\n      <td>Schlatt (Zürich)</td>\n      <td>Zurich</td>\n      <td>Switzerland</td>\n    </tr>\n    <tr>\n      <th>41</th>\n      <td>Zurich</td>\n      <td>Zurich</td>\n      <td>Switzerland</td>\n    </tr>\n    <tr>\n      <th>42</th>\n      <td>Kloten</td>\n      <td>Zurich</td>\n      <td>Switzerland</td>\n    </tr>\n    <tr>\n      <th>43</th>\n      <td>Zurich</td>\n      <td>Zurich</td>\n      <td>Switzerland</td>\n    </tr>\n    <tr>\n      <th>44</th>\n      <td>Horgen</td>\n      <td>Zurich</td>\n      <td>Switzerland</td>\n    </tr>\n    <tr>\n      <th>45</th>\n      <td>Zurich</td>\n      <td>Switzerland</td>\n      <td>None</td>\n    </tr>\n    <tr>\n      <th>46</th>\n      <td>Schlatt (Zürich)</td>\n      <td>Zurich</td>\n      <td>Switzerland</td>\n    </tr>\n    <tr>\n      <th>47</th>\n      <td>Zurich</td>\n      <td>Zurich</td>\n      <td>Switzerland</td>\n    </tr>\n  </tbody>\n</table>\n</div>"
     },
     "execution_count": 163,
     "metadata": {},
     "output_type": "execute_result"
    }
   ],
   "source": [
    "new2\n"
   ],
   "metadata": {
    "collapsed": false,
    "pycharm": {
     "name": "#%%\n"
    }
   }
  },
  {
   "cell_type": "markdown",
   "source": [
    "merge df and new, drop Locations as it is redundant now"
   ],
   "metadata": {
    "collapsed": false
   }
  },
  {
   "cell_type": "code",
   "execution_count": 164,
   "outputs": [
    {
     "data": {
      "text/plain": "                                 Title               Company   Post Date  \\\n0  Business Intelligence Analyst (80%)  Spitex Zürich Limmat  2021-01-22   \n1                         Data Analyst          EPAM Systems  2021-01-15   \n2            Data Engineer (80 - 100%)              Swiss Re  2021-01-16   \n3       Business Analyst (m/w), Zurich             MoneyPark  2021-01-22   \n\n              City2  \n0            Zurich  \n1            Zurich  \n2            Zurich  \n3  Schlatt (Zürich)  ",
      "text/html": "<div>\n<style scoped>\n    .dataframe tbody tr th:only-of-type {\n        vertical-align: middle;\n    }\n\n    .dataframe tbody tr th {\n        vertical-align: top;\n    }\n\n    .dataframe thead th {\n        text-align: right;\n    }\n</style>\n<table border=\"1\" class=\"dataframe\">\n  <thead>\n    <tr style=\"text-align: right;\">\n      <th></th>\n      <th>Title</th>\n      <th>Company</th>\n      <th>Post Date</th>\n      <th>City2</th>\n    </tr>\n  </thead>\n  <tbody>\n    <tr>\n      <th>0</th>\n      <td>Business Intelligence Analyst (80%)</td>\n      <td>Spitex Zürich Limmat</td>\n      <td>2021-01-22</td>\n      <td>Zurich</td>\n    </tr>\n    <tr>\n      <th>1</th>\n      <td>Data Analyst</td>\n      <td>EPAM Systems</td>\n      <td>2021-01-15</td>\n      <td>Zurich</td>\n    </tr>\n    <tr>\n      <th>2</th>\n      <td>Data Engineer (80 - 100%)</td>\n      <td>Swiss Re</td>\n      <td>2021-01-16</td>\n      <td>Zurich</td>\n    </tr>\n    <tr>\n      <th>3</th>\n      <td>Business Analyst (m/w), Zurich</td>\n      <td>MoneyPark</td>\n      <td>2021-01-22</td>\n      <td>Schlatt (Zürich)</td>\n    </tr>\n  </tbody>\n</table>\n</div>"
     },
     "execution_count": 164,
     "metadata": {},
     "output_type": "execute_result"
    }
   ],
   "source": [
    "df2 = df.join(new2, how = 'left')\n",
    "df2.drop(columns = ['Locations',1 , 2], inplace = True)\n",
    "df2.head(4)"
   ],
   "metadata": {
    "collapsed": false,
    "pycharm": {
     "name": "#%%\n"
    }
   }
  },
  {
   "cell_type": "code",
   "execution_count": 165,
   "outputs": [
    {
     "data": {
      "text/plain": "0     Zurich\n1     Zurich\n2     Zurich\n3    Schlatt\n4     Zurich\nName: City, dtype: object"
     },
     "execution_count": 165,
     "metadata": {},
     "output_type": "execute_result"
    }
   ],
   "source": [
    "new3 = df2.City2.str.split(' ', expand=True)\n",
    "new4 = new3.rename(columns = {0: 'City'})\n",
    "new5 = new4.City\n",
    "new5.head()"
   ],
   "metadata": {
    "collapsed": false,
    "pycharm": {
     "name": "#%%\n"
    }
   }
  },
  {
   "cell_type": "code",
   "execution_count": 166,
   "outputs": [
    {
     "data": {
      "text/plain": "                                                                                Company  \\\nTitle                                                                                     \nBusiness Intelligence Analyst (80%)                                Spitex Zürich Limmat   \nData Analyst                                                               EPAM Systems   \nData Engineer (80 - 100%)                                                      Swiss Re   \nBusiness Analyst (m/w), Zurich                                                MoneyPark   \nGlobal Digital Data Analyst                                         La Prairie Group AG   \nData Scientist - Zurich                                                     Freshtechit   \nData Scientist 100% (w/m) 100%                                              Properti AG   \nData Analyst (BI / Digital Analytics) (w/m) 80-...                                  NZZ   \nData Scientist                                                Tata Consultancy Services   \nData Engineer                                                                    Verity   \nData Analyst (temporary)                                                 kessler.vogler   \nProduct Analyst, Calendar and Tasks                                              Google   \nBusiness Analyst                                                                additiv   \nHR Data Administrator & Analyst (50% - 60%)                                  Steiner AG   \nBusiness Analyst 100% (m/w)                                                     ADMEIRA   \nData Consultant                                                                  Onedot   \nData Scientist - QuantumBlack                                              QuantumBlack   \nData Engineer                                                                   Empiric   \nBusiness/Data Analyst Basel IV #154939                                    Credit Suisse   \nAnalytics Engineer (m/f/d)                                                           On   \nBusiness Analyst                                                     S&P Global Ratings   \nReporting/ Data Analyst (Banking - Operations)                      Experis Switzerland   \nDigital Analyst (w/m/d)                                     Migros-Genossenschafts-Bund   \nData Scientist Personalisierung - Zürich            SRF - Schweizer Radio und Fernsehen   \nJunior Business Analyst                                                             SIX   \nData scientist for AI and Monitoring Models Val...                                  UBS   \nData Science Analyst (AA/AI) 100% (f/m/d)             Mettler-Toledo International, Inc   \nBusiness Analyst                                                              Pickwings   \nBusiness Insights Analyst, Direct-to-Consumer -...                    Plume Design, Inc   \nBusiness Analyst 80 - 100%                                                   Swiss Life   \nData Engineer                                                        Digitec Galaxus AG   \nBig Data Analyst/Developer - Big Data, Hadoop, ...                               Luxoft   \nBusiness Analyst/in                                                       Braingroup AG   \nBusiness Analyst Data Privacy & Deletion (m/w) ...         Zurich Insurance Company Ltd   \nData Scientist – Machine Learning & Forecasting                      EF Education First   \nData Engineer - Pyspark, Databricks                                  Darwin Recruitment   \nBusiness Analyst Kundenstamm / Kernbankenapplik...                          Migros Bank   \nBusiness Analyst / Consultant Digitalisierung                         Nordwand Group AG   \nData Engineer, Python, Pyspark                                             CareerAddict   \nProduct Owner / Requirements Analyst (80-100%)                                Ava Women   \nData Engineer (m/f)                                                      2parse.it gmbh   \nBusiness Analyst Finanzinformationen                                         VP Bank AG   \nBusiness Analyst                                                SELISE rockin’ software   \nGraduate Artificial Intelligence and Analytics ...                            Cognizant   \nBusiness Analyst                                                             Credit Now   \n e-Commerce Business Analyst and Product manage...                            BREITLING   \nBusiness Analyst / Consultant EasyTax                                      BearingPoint   \nBusiness Analyst (m/w/d) mit Projektleitungserf...                   DZ PRIVATBANK S.A.   \n\n                                                     Post Date         City  \nTitle                                                                        \nBusiness Intelligence Analyst (80%)                 2021-01-22       Zurich  \nData Analyst                                        2021-01-15       Zurich  \nData Engineer (80 - 100%)                           2021-01-16       Zurich  \nBusiness Analyst (m/w), Zurich                      2021-01-22      Schlatt  \nGlobal Digital Data Analyst                         2021-01-17       Zurich  \nData Scientist - Zurich                             2021-01-21       Zurich  \nData Scientist 100% (w/m) 100%                      2021-01-10       Horgen  \nData Analyst (BI / Digital Analytics) (w/m) 80-...  2021-01-17       Zurich  \nData Scientist                                      2021-01-14       Zurich  \nData Engineer                                       2021-01-21       Zurich  \nData Analyst (temporary)                            2021-01-14       Zurich  \nProduct Analyst, Calendar and Tasks                 2021-01-08      Schlatt  \nBusiness Analyst                                    2021-01-21       Zurich  \nHR Data Administrator & Analyst (50% - 60%)         2020-12-24       Zurich  \nBusiness Analyst 100% (m/w)                         2021-01-20       Zurich  \nData Consultant                                     2021-01-11    Schlieren  \nData Scientist - QuantumBlack                       2020-12-25       Zurich  \nData Engineer                                       2021-01-18       Zurich  \nBusiness/Data Analyst Basel IV #154939              2021-01-21       Zurich  \nAnalytics Engineer (m/f/d)                          2020-11-17       Zurich  \nBusiness Analyst                                    2021-01-06       Zurich  \nReporting/ Data Analyst (Banking - Operations)      2021-01-12       Zurich  \nDigital Analyst (w/m/d)                             2021-01-19      Schlatt  \nData Scientist Personalisierung - Zürich            2020-11-27      Schlatt  \nJunior Business Analyst                             2021-01-15       Zurich  \nData scientist for AI and Monitoring Models Val...  2021-01-11       Zurich  \nData Science Analyst (AA/AI) 100% (f/m/d)           2020-12-19   Greifensee  \nBusiness Analyst                                    2021-01-14      Schlatt  \nBusiness Insights Analyst, Direct-to-Consumer -...  2020-12-29       Zurich  \nBusiness Analyst 80 - 100%                          2020-12-09      Schlatt  \nData Engineer                                       2021-01-18       Zurich  \nBig Data Analyst/Developer - Big Data, Hadoop, ...  2021-01-21       Zurich  \nBusiness Analyst/in                                 2021-01-20       Zurich  \nBusiness Analyst Data Privacy & Deletion (m/w) ...  2021-01-07       Zurich  \nData Scientist – Machine Learning & Forecasting     2020-11-24       Zurich  \nData Engineer - Pyspark, Databricks                 2021-01-20       Zurich  \nBusiness Analyst Kundenstamm / Kernbankenapplik...  2021-01-05  Wallisellen  \nBusiness Analyst / Consultant Digitalisierung       2021-01-21          Egg  \nData Engineer, Python, Pyspark                      2021-01-21      Schlatt  \nProduct Owner / Requirements Analyst (80-100%)      2021-01-21      Schlatt  \nData Engineer (m/f)                                 2021-01-22      Schlatt  \nBusiness Analyst Finanzinformationen                2020-11-02       Zurich  \nBusiness Analyst                                    2021-01-20       Kloten  \nGraduate Artificial Intelligence and Analytics ...  2020-10-18       Zurich  \nBusiness Analyst                                    2020-12-17       Horgen  \n e-Commerce Business Analyst and Product manage...  2021-01-15       Zurich  \nBusiness Analyst / Consultant EasyTax               2021-01-15      Schlatt  \nBusiness Analyst (m/w/d) mit Projektleitungserf...  2020-11-14       Zurich  ",
      "text/html": "<div>\n<style scoped>\n    .dataframe tbody tr th:only-of-type {\n        vertical-align: middle;\n    }\n\n    .dataframe tbody tr th {\n        vertical-align: top;\n    }\n\n    .dataframe thead th {\n        text-align: right;\n    }\n</style>\n<table border=\"1\" class=\"dataframe\">\n  <thead>\n    <tr style=\"text-align: right;\">\n      <th></th>\n      <th>Company</th>\n      <th>Post Date</th>\n      <th>City</th>\n    </tr>\n    <tr>\n      <th>Title</th>\n      <th></th>\n      <th></th>\n      <th></th>\n    </tr>\n  </thead>\n  <tbody>\n    <tr>\n      <th>Business Intelligence Analyst (80%)</th>\n      <td>Spitex Zürich Limmat</td>\n      <td>2021-01-22</td>\n      <td>Zurich</td>\n    </tr>\n    <tr>\n      <th>Data Analyst</th>\n      <td>EPAM Systems</td>\n      <td>2021-01-15</td>\n      <td>Zurich</td>\n    </tr>\n    <tr>\n      <th>Data Engineer (80 - 100%)</th>\n      <td>Swiss Re</td>\n      <td>2021-01-16</td>\n      <td>Zurich</td>\n    </tr>\n    <tr>\n      <th>Business Analyst (m/w), Zurich</th>\n      <td>MoneyPark</td>\n      <td>2021-01-22</td>\n      <td>Schlatt</td>\n    </tr>\n    <tr>\n      <th>Global Digital Data Analyst</th>\n      <td>La Prairie Group AG</td>\n      <td>2021-01-17</td>\n      <td>Zurich</td>\n    </tr>\n    <tr>\n      <th>Data Scientist - Zurich</th>\n      <td>Freshtechit</td>\n      <td>2021-01-21</td>\n      <td>Zurich</td>\n    </tr>\n    <tr>\n      <th>Data Scientist 100% (w/m) 100%</th>\n      <td>Properti AG</td>\n      <td>2021-01-10</td>\n      <td>Horgen</td>\n    </tr>\n    <tr>\n      <th>Data Analyst (BI / Digital Analytics) (w/m) 80-100%</th>\n      <td>NZZ</td>\n      <td>2021-01-17</td>\n      <td>Zurich</td>\n    </tr>\n    <tr>\n      <th>Data Scientist</th>\n      <td>Tata Consultancy Services</td>\n      <td>2021-01-14</td>\n      <td>Zurich</td>\n    </tr>\n    <tr>\n      <th>Data Engineer</th>\n      <td>Verity</td>\n      <td>2021-01-21</td>\n      <td>Zurich</td>\n    </tr>\n    <tr>\n      <th>Data Analyst (temporary)</th>\n      <td>kessler.vogler</td>\n      <td>2021-01-14</td>\n      <td>Zurich</td>\n    </tr>\n    <tr>\n      <th>Product Analyst, Calendar and Tasks</th>\n      <td>Google</td>\n      <td>2021-01-08</td>\n      <td>Schlatt</td>\n    </tr>\n    <tr>\n      <th>Business Analyst</th>\n      <td>additiv</td>\n      <td>2021-01-21</td>\n      <td>Zurich</td>\n    </tr>\n    <tr>\n      <th>HR Data Administrator &amp; Analyst (50% - 60%)</th>\n      <td>Steiner AG</td>\n      <td>2020-12-24</td>\n      <td>Zurich</td>\n    </tr>\n    <tr>\n      <th>Business Analyst 100% (m/w)</th>\n      <td>ADMEIRA</td>\n      <td>2021-01-20</td>\n      <td>Zurich</td>\n    </tr>\n    <tr>\n      <th>Data Consultant</th>\n      <td>Onedot</td>\n      <td>2021-01-11</td>\n      <td>Schlieren</td>\n    </tr>\n    <tr>\n      <th>Data Scientist - QuantumBlack</th>\n      <td>QuantumBlack</td>\n      <td>2020-12-25</td>\n      <td>Zurich</td>\n    </tr>\n    <tr>\n      <th>Data Engineer</th>\n      <td>Empiric</td>\n      <td>2021-01-18</td>\n      <td>Zurich</td>\n    </tr>\n    <tr>\n      <th>Business/Data Analyst Basel IV #154939</th>\n      <td>Credit Suisse</td>\n      <td>2021-01-21</td>\n      <td>Zurich</td>\n    </tr>\n    <tr>\n      <th>Analytics Engineer (m/f/d)</th>\n      <td>On</td>\n      <td>2020-11-17</td>\n      <td>Zurich</td>\n    </tr>\n    <tr>\n      <th>Business Analyst</th>\n      <td>S&amp;P Global Ratings</td>\n      <td>2021-01-06</td>\n      <td>Zurich</td>\n    </tr>\n    <tr>\n      <th>Reporting/ Data Analyst (Banking - Operations)</th>\n      <td>Experis Switzerland</td>\n      <td>2021-01-12</td>\n      <td>Zurich</td>\n    </tr>\n    <tr>\n      <th>Digital Analyst (w/m/d)</th>\n      <td>Migros-Genossenschafts-Bund</td>\n      <td>2021-01-19</td>\n      <td>Schlatt</td>\n    </tr>\n    <tr>\n      <th>Data Scientist Personalisierung - Zürich</th>\n      <td>SRF - Schweizer Radio und Fernsehen</td>\n      <td>2020-11-27</td>\n      <td>Schlatt</td>\n    </tr>\n    <tr>\n      <th>Junior Business Analyst</th>\n      <td>SIX</td>\n      <td>2021-01-15</td>\n      <td>Zurich</td>\n    </tr>\n    <tr>\n      <th>Data scientist for AI and Monitoring Models Validation</th>\n      <td>UBS</td>\n      <td>2021-01-11</td>\n      <td>Zurich</td>\n    </tr>\n    <tr>\n      <th>Data Science Analyst (AA/AI) 100% (f/m/d)</th>\n      <td>Mettler-Toledo International, Inc</td>\n      <td>2020-12-19</td>\n      <td>Greifensee</td>\n    </tr>\n    <tr>\n      <th>Business Analyst</th>\n      <td>Pickwings</td>\n      <td>2021-01-14</td>\n      <td>Schlatt</td>\n    </tr>\n    <tr>\n      <th>Business Insights Analyst, Direct-to-Consumer - Global</th>\n      <td>Plume Design, Inc</td>\n      <td>2020-12-29</td>\n      <td>Zurich</td>\n    </tr>\n    <tr>\n      <th>Business Analyst 80 - 100%</th>\n      <td>Swiss Life</td>\n      <td>2020-12-09</td>\n      <td>Schlatt</td>\n    </tr>\n    <tr>\n      <th>Data Engineer</th>\n      <td>Digitec Galaxus AG</td>\n      <td>2021-01-18</td>\n      <td>Zurich</td>\n    </tr>\n    <tr>\n      <th>Big Data Analyst/Developer - Big Data, Hadoop, Spark, Python</th>\n      <td>Luxoft</td>\n      <td>2021-01-21</td>\n      <td>Zurich</td>\n    </tr>\n    <tr>\n      <th>Business Analyst/in</th>\n      <td>Braingroup AG</td>\n      <td>2021-01-20</td>\n      <td>Zurich</td>\n    </tr>\n    <tr>\n      <th>Business Analyst Data Privacy &amp; Deletion (m/w) 80-100%</th>\n      <td>Zurich Insurance Company Ltd</td>\n      <td>2021-01-07</td>\n      <td>Zurich</td>\n    </tr>\n    <tr>\n      <th>Data Scientist – Machine Learning &amp; Forecasting</th>\n      <td>EF Education First</td>\n      <td>2020-11-24</td>\n      <td>Zurich</td>\n    </tr>\n    <tr>\n      <th>Data Engineer - Pyspark, Databricks</th>\n      <td>Darwin Recruitment</td>\n      <td>2021-01-20</td>\n      <td>Zurich</td>\n    </tr>\n    <tr>\n      <th>Business Analyst Kundenstamm / Kernbankenapplikation (w/m)</th>\n      <td>Migros Bank</td>\n      <td>2021-01-05</td>\n      <td>Wallisellen</td>\n    </tr>\n    <tr>\n      <th>Business Analyst / Consultant Digitalisierung</th>\n      <td>Nordwand Group AG</td>\n      <td>2021-01-21</td>\n      <td>Egg</td>\n    </tr>\n    <tr>\n      <th>Data Engineer, Python, Pyspark</th>\n      <td>CareerAddict</td>\n      <td>2021-01-21</td>\n      <td>Schlatt</td>\n    </tr>\n    <tr>\n      <th>Product Owner / Requirements Analyst (80-100%)</th>\n      <td>Ava Women</td>\n      <td>2021-01-21</td>\n      <td>Schlatt</td>\n    </tr>\n    <tr>\n      <th>Data Engineer (m/f)</th>\n      <td>2parse.it gmbh</td>\n      <td>2021-01-22</td>\n      <td>Schlatt</td>\n    </tr>\n    <tr>\n      <th>Business Analyst Finanzinformationen</th>\n      <td>VP Bank AG</td>\n      <td>2020-11-02</td>\n      <td>Zurich</td>\n    </tr>\n    <tr>\n      <th>Business Analyst</th>\n      <td>SELISE rockin’ software</td>\n      <td>2021-01-20</td>\n      <td>Kloten</td>\n    </tr>\n    <tr>\n      <th>Graduate Artificial Intelligence and Analytics (Data Engineering Focussed)</th>\n      <td>Cognizant</td>\n      <td>2020-10-18</td>\n      <td>Zurich</td>\n    </tr>\n    <tr>\n      <th>Business Analyst</th>\n      <td>Credit Now</td>\n      <td>2020-12-17</td>\n      <td>Horgen</td>\n    </tr>\n    <tr>\n      <th>e-Commerce Business Analyst and Product manager (100%)</th>\n      <td>BREITLING</td>\n      <td>2021-01-15</td>\n      <td>Zurich</td>\n    </tr>\n    <tr>\n      <th>Business Analyst / Consultant EasyTax</th>\n      <td>BearingPoint</td>\n      <td>2021-01-15</td>\n      <td>Schlatt</td>\n    </tr>\n    <tr>\n      <th>Business Analyst (m/w/d) mit Projektleitungserfahrung</th>\n      <td>DZ PRIVATBANK S.A.</td>\n      <td>2020-11-14</td>\n      <td>Zurich</td>\n    </tr>\n  </tbody>\n</table>\n</div>"
     },
     "execution_count": 166,
     "metadata": {},
     "output_type": "execute_result"
    }
   ],
   "source": [
    "df4 = df2.join(new5, how = 'left')\n",
    "df4.drop(columns = [\"City2\"], inplace = True)\n",
    "df4.set_index('Title', inplace = True)\n",
    "df4"
   ],
   "metadata": {
    "collapsed": false,
    "pycharm": {
     "name": "#%%\n"
    }
   }
  },
  {
   "cell_type": "markdown",
   "source": [
    "create CSV, with todays Date"
   ],
   "metadata": {
    "collapsed": false
   }
  },
  {
   "cell_type": "code",
   "execution_count": 176,
   "outputs": [],
   "source": [
    "date_object = datetime.date.today()\n",
    "date = str(date_object) + '_'\n",
    "date\n",
    "\n",
    "df4.to_csv('C:/Users/Marc/Dropbox/01_Marc Arnold/Python Projects/04_Job Viz/02_Output/' + date + city + '_' + country + '.csv')"
   ],
   "metadata": {
    "collapsed": false,
    "pycharm": {
     "name": "#%%\n"
    }
   }
  },
  {
   "cell_type": "markdown",
   "source": [
    "concat new jobs to existing list"
   ],
   "metadata": {
    "collapsed": false
   }
  },
  {
   "cell_type": "code",
   "execution_count": 168,
   "outputs": [
    {
     "data": {
      "text/plain": "                                                       Company   Post Date  \\\nTitle                                                                        \nData Analyst                                      EPAM Systems  2021-01-15   \nGlobal Digital Data Analyst                La Prairie Group AG  2021-01-17   \nBusiness Analyst                     Tata Consultancy Services  2021-01-14   \nBusiness Intelligence Analyst (80%)       Spitex Zürich Limmat  2021-01-22   \nBusiness Analyst (m/w), Zurich                       MoneyPark  2021-01-22   \n\n                                        City  \nTitle                                         \nData Analyst                          Zurich  \nGlobal Digital Data Analyst           Zurich  \nBusiness Analyst                      Zurich  \nBusiness Intelligence Analyst (80%)   Zurich  \nBusiness Analyst (m/w), Zurich       Schlatt  ",
      "text/html": "<div>\n<style scoped>\n    .dataframe tbody tr th:only-of-type {\n        vertical-align: middle;\n    }\n\n    .dataframe tbody tr th {\n        vertical-align: top;\n    }\n\n    .dataframe thead th {\n        text-align: right;\n    }\n</style>\n<table border=\"1\" class=\"dataframe\">\n  <thead>\n    <tr style=\"text-align: right;\">\n      <th></th>\n      <th>Company</th>\n      <th>Post Date</th>\n      <th>City</th>\n    </tr>\n    <tr>\n      <th>Title</th>\n      <th></th>\n      <th></th>\n      <th></th>\n    </tr>\n  </thead>\n  <tbody>\n    <tr>\n      <th>Data Analyst</th>\n      <td>EPAM Systems</td>\n      <td>2021-01-15</td>\n      <td>Zurich</td>\n    </tr>\n    <tr>\n      <th>Global Digital Data Analyst</th>\n      <td>La Prairie Group AG</td>\n      <td>2021-01-17</td>\n      <td>Zurich</td>\n    </tr>\n    <tr>\n      <th>Business Analyst</th>\n      <td>Tata Consultancy Services</td>\n      <td>2021-01-14</td>\n      <td>Zurich</td>\n    </tr>\n    <tr>\n      <th>Business Intelligence Analyst (80%)</th>\n      <td>Spitex Zürich Limmat</td>\n      <td>2021-01-22</td>\n      <td>Zurich</td>\n    </tr>\n    <tr>\n      <th>Business Analyst (m/w), Zurich</th>\n      <td>MoneyPark</td>\n      <td>2021-01-22</td>\n      <td>Schlatt</td>\n    </tr>\n  </tbody>\n</table>\n</div>"
     },
     "execution_count": 168,
     "metadata": {},
     "output_type": "execute_result"
    }
   ],
   "source": [
    "final_df = pd.read_csv('C:/Users/Marc/Dropbox/01_Marc Arnold/Python Projects/04_Job Viz/02_Output/01_Final DF/Final_DF_LinkedIN Jobs.csv')\n",
    "final_df.set_index('Title', inplace = True)\n",
    "final_df.head()"
   ],
   "metadata": {
    "collapsed": false,
    "pycharm": {
     "name": "#%%\n"
    }
   }
  },
  {
   "cell_type": "code",
   "execution_count": 169,
   "outputs": [
    {
     "data": {
      "text/plain": "                                                       Company   Post Date  \\\nTitle                                                                        \nData Analyst                                      EPAM Systems  2021-01-15   \nGlobal Digital Data Analyst                La Prairie Group AG  2021-01-17   \nBusiness Analyst                     Tata Consultancy Services  2021-01-14   \nBusiness Intelligence Analyst (80%)       Spitex Zürich Limmat  2021-01-22   \nBusiness Analyst (m/w), Zurich                       MoneyPark  2021-01-22   \n\n                                        City  \nTitle                                         \nData Analyst                          Zurich  \nGlobal Digital Data Analyst           Zurich  \nBusiness Analyst                      Zurich  \nBusiness Intelligence Analyst (80%)   Zurich  \nBusiness Analyst (m/w), Zurich       Schlatt  ",
      "text/html": "<div>\n<style scoped>\n    .dataframe tbody tr th:only-of-type {\n        vertical-align: middle;\n    }\n\n    .dataframe tbody tr th {\n        vertical-align: top;\n    }\n\n    .dataframe thead th {\n        text-align: right;\n    }\n</style>\n<table border=\"1\" class=\"dataframe\">\n  <thead>\n    <tr style=\"text-align: right;\">\n      <th></th>\n      <th>Company</th>\n      <th>Post Date</th>\n      <th>City</th>\n    </tr>\n    <tr>\n      <th>Title</th>\n      <th></th>\n      <th></th>\n      <th></th>\n    </tr>\n  </thead>\n  <tbody>\n    <tr>\n      <th>Data Analyst</th>\n      <td>EPAM Systems</td>\n      <td>2021-01-15</td>\n      <td>Zurich</td>\n    </tr>\n    <tr>\n      <th>Global Digital Data Analyst</th>\n      <td>La Prairie Group AG</td>\n      <td>2021-01-17</td>\n      <td>Zurich</td>\n    </tr>\n    <tr>\n      <th>Business Analyst</th>\n      <td>Tata Consultancy Services</td>\n      <td>2021-01-14</td>\n      <td>Zurich</td>\n    </tr>\n    <tr>\n      <th>Business Intelligence Analyst (80%)</th>\n      <td>Spitex Zürich Limmat</td>\n      <td>2021-01-22</td>\n      <td>Zurich</td>\n    </tr>\n    <tr>\n      <th>Business Analyst (m/w), Zurich</th>\n      <td>MoneyPark</td>\n      <td>2021-01-22</td>\n      <td>Schlatt</td>\n    </tr>\n  </tbody>\n</table>\n</div>"
     },
     "execution_count": 169,
     "metadata": {},
     "output_type": "execute_result"
    }
   ],
   "source": [
    "dfWIP = pd.concat([final_df, df4], axis=0)\n",
    "dfWIP.head()"
   ],
   "metadata": {
    "collapsed": false,
    "pycharm": {
     "name": "#%%\n"
    }
   }
  },
  {
   "cell_type": "markdown",
   "source": [
    "drop duplicated rows"
   ],
   "metadata": {
    "collapsed": false,
    "pycharm": {
     "name": "#%% md\n"
    }
   }
  },
  {
   "cell_type": "code",
   "execution_count": 172,
   "outputs": [
    {
     "data": {
      "text/plain": "                                                                                 Company  \\\nTitle                                                                                      \nData Analyst                                                                EPAM Systems   \nGlobal Digital Data Analyst                                          La Prairie Group AG   \nBusiness Analyst                                               Tata Consultancy Services   \nBusiness Intelligence Analyst (80%)                                 Spitex Zürich Limmat   \nBusiness Analyst (m/w), Zurich                                                 MoneyPark   \nProduct Analyst, Calendar and Tasks                                               Google   \nReporting/ Data Analyst (Banking - Operations)                       Experis Switzerland   \nData Scientist Intern - QuantumBlack                                        QuantumBlack   \nJunior Business Analyst                                                              SIX   \nDigital Analyst (w/m/d)                                      Migros-Genossenschafts-Bund   \nData Engineer (80 - 100%)                                                       Swiss Re   \nBusiness Analyst for Data Management                                           Cognizant   \nWebsite Business Analyst and Product manager (1...                             BREITLING   \nBusiness Analyst                                                      S&P Global Ratings   \nBusiness Analyst – Data Quality #164527                                    Credit Suisse   \nBusiness Analyst                                                                 additiv   \nData Analyst (temporary)                                                  kessler.vogler   \nData Engineer                                                         Digitec Galaxus AG   \nData Scientist - Zurich                                                      Freshtechit   \nData Engineer                                                                    Empiric   \nData Consultant                                                                   Onedot   \nBusiness Analyst/in                                                        Braingroup AG   \nAnalytics Engineer                                                                    On   \nBackend Data Engineer - Remote                                                    Numbrs   \nBusiness Analyst                                                 SELISE rockin’ software   \nBig Data Analyst/Developer                                                        Luxoft   \nBusiness Analyst                                                               Pickwings   \nBusiness Analyst 100% (m/w)                                                      ADMEIRA   \nData Engineer                                                                     Verity   \nBusiness Insights Analyst, Direct-to-Consumer -...                     Plume Design, Inc   \nHR Data Administrator & Analyst (50% - 60%)                                   Steiner AG   \nData Scientist Personalisierung - Zürich             SRF - Schweizer Radio und Fernsehen   \nBusiness Analyst Data Privacy & Deletion (m/w) ...          Zurich Insurance Company Ltd   \nData scientist for AI and Monitoring Models Val...                                   UBS   \nTechnical Business Analyst Finance (trading/Orc...  Excelian | Luxoft Financial Services   \nData Engineer - Pyspark, Databricks                                   Darwin Recruitment   \nGroup Business Analyst                                                               ABB   \nData Analyst (BI / Digital Analytics) (w/m) 80-...                                   NZZ   \nData Infrastructure Engineer                                                      GitHub   \nBusiness Analyst Finanzinformationen                                          VP Bank AG   \nBusiness Analyst                                                              Credit Now   \nData Science Developer                                                    Schroder Adveq   \nBusiness Analyst 80 - 100%                                                    Swiss Life   \nBusiness Analyst / Consultant Digitalisierung                          Nordwand Group AG   \nTechnical Business Analyst                                                 NatWest Group   \nBusiness Analyst / Consultant EasyTax                                       BearingPoint   \nBusiness Analyst(in) / Requirements Engineer (8...                    Pqm Consulting Inc   \nData Scientist 100% (w/m) 100%                                               Properti AG   \nData Scientist - QuantumBlack                                               QuantumBlack   \nBusiness/Data Analyst Basel IV #154939                                     Credit Suisse   \nAnalytics Engineer (m/f/d)                                                            On   \nData Science Analyst (AA/AI) 100% (f/m/d)              Mettler-Toledo International, Inc   \nBig Data Analyst/Developer - Big Data, Hadoop, ...                                Luxoft   \nData Scientist – Machine Learning & Forecasting                       EF Education First   \nBusiness Analyst Kundenstamm / Kernbankenapplik...                           Migros Bank   \nData Engineer, Python, Pyspark                                              CareerAddict   \nProduct Owner / Requirements Analyst (80-100%)                                 Ava Women   \nData Engineer (m/f)                                                       2parse.it gmbh   \nGraduate Artificial Intelligence and Analytics ...                             Cognizant   \nBusiness Analyst (m/w/d) mit Projektleitungserf...                    DZ PRIVATBANK S.A.   \n\n                                                     Post Date         City  \nTitle                                                                        \nData Analyst                                        2021-01-15       Zurich  \nGlobal Digital Data Analyst                         2021-01-17       Zurich  \nBusiness Analyst                                    2021-01-14       Zurich  \nBusiness Intelligence Analyst (80%)                 2021-01-22       Zurich  \nBusiness Analyst (m/w), Zurich                      2021-01-22      Schlatt  \nProduct Analyst, Calendar and Tasks                 2021-01-08      Schlatt  \nReporting/ Data Analyst (Banking - Operations)      2021-01-12       Zurich  \nData Scientist Intern - QuantumBlack                2021-01-19       Zurich  \nJunior Business Analyst                             2021-01-15       Zurich  \nDigital Analyst (w/m/d)                             2021-01-19      Schlatt  \nData Engineer (80 - 100%)                           2021-01-16       Zurich  \nBusiness Analyst for Data Management                2021-01-08       Zurich  \nWebsite Business Analyst and Product manager (1...  2021-01-15       Zurich  \nBusiness Analyst                                    2021-01-06       Zurich  \nBusiness Analyst – Data Quality #164527             2021-01-04       Zurich  \nBusiness Analyst                                    2021-01-21       Zurich  \nData Analyst (temporary)                            2021-01-14       Zurich  \nData Engineer                                       2021-01-18       Zurich  \nData Scientist - Zurich                             2021-01-21       Zurich  \nData Engineer                                       2021-01-18       Zurich  \nData Consultant                                     2021-01-11    Schlieren  \nBusiness Analyst/in                                 2021-01-20       Zurich  \nAnalytics Engineer                                  2021-01-07       Zurich  \nBackend Data Engineer - Remote                      2020-12-14       Zurich  \nBusiness Analyst                                    2021-01-20       Kloten  \nBig Data Analyst/Developer                          2021-01-04       Zurich  \nBusiness Analyst                                    2021-01-14      Schlatt  \nBusiness Analyst 100% (m/w)                         2021-01-20       Zurich  \nData Engineer                                       2021-01-21       Zurich  \nBusiness Insights Analyst, Direct-to-Consumer -...  2020-12-29       Zurich  \nHR Data Administrator & Analyst (50% - 60%)         2020-12-24       Zurich  \nData Scientist Personalisierung - Zürich            2020-11-27      Schlatt  \nBusiness Analyst Data Privacy & Deletion (m/w) ...  2021-01-07       Zurich  \nData scientist for AI and Monitoring Models Val...  2021-01-11       Zurich  \nTechnical Business Analyst Finance (trading/Orc...  2021-01-07       Zurich  \nData Engineer - Pyspark, Databricks                 2021-01-20       Zurich  \nGroup Business Analyst                              2021-01-19       Zurich  \nData Analyst (BI / Digital Analytics) (w/m) 80-...  2021-01-17       Zurich  \nData Infrastructure Engineer                        2020-11-06       Zurich  \nBusiness Analyst Finanzinformationen                2020-11-02       Zurich  \nBusiness Analyst                                    2020-12-17       Horgen  \nData Science Developer                              2021-01-14       Zurich  \nBusiness Analyst 80 - 100%                          2020-12-09      Schlatt  \nBusiness Analyst / Consultant Digitalisierung       2021-01-21          Egg  \nTechnical Business Analyst                          2021-01-12       Zurich  \nBusiness Analyst / Consultant EasyTax               2021-01-15      Schlatt  \nBusiness Analyst(in) / Requirements Engineer (8...  2021-01-16       Zurich  \nData Scientist 100% (w/m) 100%                      2021-01-10       Horgen  \nData Scientist - QuantumBlack                       2020-12-25       Zurich  \nBusiness/Data Analyst Basel IV #154939              2021-01-21       Zurich  \nAnalytics Engineer (m/f/d)                          2020-11-17       Zurich  \nData Science Analyst (AA/AI) 100% (f/m/d)           2020-12-19   Greifensee  \nBig Data Analyst/Developer - Big Data, Hadoop, ...  2021-01-21       Zurich  \nData Scientist – Machine Learning & Forecasting     2020-11-24       Zurich  \nBusiness Analyst Kundenstamm / Kernbankenapplik...  2021-01-05  Wallisellen  \nData Engineer, Python, Pyspark                      2021-01-21      Schlatt  \nProduct Owner / Requirements Analyst (80-100%)      2021-01-21      Schlatt  \nData Engineer (m/f)                                 2021-01-22      Schlatt  \nGraduate Artificial Intelligence and Analytics ...  2020-10-18       Zurich  \nBusiness Analyst (m/w/d) mit Projektleitungserf...  2020-11-14       Zurich  ",
      "text/html": "<div>\n<style scoped>\n    .dataframe tbody tr th:only-of-type {\n        vertical-align: middle;\n    }\n\n    .dataframe tbody tr th {\n        vertical-align: top;\n    }\n\n    .dataframe thead th {\n        text-align: right;\n    }\n</style>\n<table border=\"1\" class=\"dataframe\">\n  <thead>\n    <tr style=\"text-align: right;\">\n      <th></th>\n      <th>Company</th>\n      <th>Post Date</th>\n      <th>City</th>\n    </tr>\n    <tr>\n      <th>Title</th>\n      <th></th>\n      <th></th>\n      <th></th>\n    </tr>\n  </thead>\n  <tbody>\n    <tr>\n      <th>Data Analyst</th>\n      <td>EPAM Systems</td>\n      <td>2021-01-15</td>\n      <td>Zurich</td>\n    </tr>\n    <tr>\n      <th>Global Digital Data Analyst</th>\n      <td>La Prairie Group AG</td>\n      <td>2021-01-17</td>\n      <td>Zurich</td>\n    </tr>\n    <tr>\n      <th>Business Analyst</th>\n      <td>Tata Consultancy Services</td>\n      <td>2021-01-14</td>\n      <td>Zurich</td>\n    </tr>\n    <tr>\n      <th>Business Intelligence Analyst (80%)</th>\n      <td>Spitex Zürich Limmat</td>\n      <td>2021-01-22</td>\n      <td>Zurich</td>\n    </tr>\n    <tr>\n      <th>Business Analyst (m/w), Zurich</th>\n      <td>MoneyPark</td>\n      <td>2021-01-22</td>\n      <td>Schlatt</td>\n    </tr>\n    <tr>\n      <th>Product Analyst, Calendar and Tasks</th>\n      <td>Google</td>\n      <td>2021-01-08</td>\n      <td>Schlatt</td>\n    </tr>\n    <tr>\n      <th>Reporting/ Data Analyst (Banking - Operations)</th>\n      <td>Experis Switzerland</td>\n      <td>2021-01-12</td>\n      <td>Zurich</td>\n    </tr>\n    <tr>\n      <th>Data Scientist Intern - QuantumBlack</th>\n      <td>QuantumBlack</td>\n      <td>2021-01-19</td>\n      <td>Zurich</td>\n    </tr>\n    <tr>\n      <th>Junior Business Analyst</th>\n      <td>SIX</td>\n      <td>2021-01-15</td>\n      <td>Zurich</td>\n    </tr>\n    <tr>\n      <th>Digital Analyst (w/m/d)</th>\n      <td>Migros-Genossenschafts-Bund</td>\n      <td>2021-01-19</td>\n      <td>Schlatt</td>\n    </tr>\n    <tr>\n      <th>Data Engineer (80 - 100%)</th>\n      <td>Swiss Re</td>\n      <td>2021-01-16</td>\n      <td>Zurich</td>\n    </tr>\n    <tr>\n      <th>Business Analyst for Data Management</th>\n      <td>Cognizant</td>\n      <td>2021-01-08</td>\n      <td>Zurich</td>\n    </tr>\n    <tr>\n      <th>Website Business Analyst and Product manager (100%)</th>\n      <td>BREITLING</td>\n      <td>2021-01-15</td>\n      <td>Zurich</td>\n    </tr>\n    <tr>\n      <th>Business Analyst</th>\n      <td>S&amp;P Global Ratings</td>\n      <td>2021-01-06</td>\n      <td>Zurich</td>\n    </tr>\n    <tr>\n      <th>Business Analyst – Data Quality #164527</th>\n      <td>Credit Suisse</td>\n      <td>2021-01-04</td>\n      <td>Zurich</td>\n    </tr>\n    <tr>\n      <th>Business Analyst</th>\n      <td>additiv</td>\n      <td>2021-01-21</td>\n      <td>Zurich</td>\n    </tr>\n    <tr>\n      <th>Data Analyst (temporary)</th>\n      <td>kessler.vogler</td>\n      <td>2021-01-14</td>\n      <td>Zurich</td>\n    </tr>\n    <tr>\n      <th>Data Engineer</th>\n      <td>Digitec Galaxus AG</td>\n      <td>2021-01-18</td>\n      <td>Zurich</td>\n    </tr>\n    <tr>\n      <th>Data Scientist - Zurich</th>\n      <td>Freshtechit</td>\n      <td>2021-01-21</td>\n      <td>Zurich</td>\n    </tr>\n    <tr>\n      <th>Data Engineer</th>\n      <td>Empiric</td>\n      <td>2021-01-18</td>\n      <td>Zurich</td>\n    </tr>\n    <tr>\n      <th>Data Consultant</th>\n      <td>Onedot</td>\n      <td>2021-01-11</td>\n      <td>Schlieren</td>\n    </tr>\n    <tr>\n      <th>Business Analyst/in</th>\n      <td>Braingroup AG</td>\n      <td>2021-01-20</td>\n      <td>Zurich</td>\n    </tr>\n    <tr>\n      <th>Analytics Engineer</th>\n      <td>On</td>\n      <td>2021-01-07</td>\n      <td>Zurich</td>\n    </tr>\n    <tr>\n      <th>Backend Data Engineer - Remote</th>\n      <td>Numbrs</td>\n      <td>2020-12-14</td>\n      <td>Zurich</td>\n    </tr>\n    <tr>\n      <th>Business Analyst</th>\n      <td>SELISE rockin’ software</td>\n      <td>2021-01-20</td>\n      <td>Kloten</td>\n    </tr>\n    <tr>\n      <th>Big Data Analyst/Developer</th>\n      <td>Luxoft</td>\n      <td>2021-01-04</td>\n      <td>Zurich</td>\n    </tr>\n    <tr>\n      <th>Business Analyst</th>\n      <td>Pickwings</td>\n      <td>2021-01-14</td>\n      <td>Schlatt</td>\n    </tr>\n    <tr>\n      <th>Business Analyst 100% (m/w)</th>\n      <td>ADMEIRA</td>\n      <td>2021-01-20</td>\n      <td>Zurich</td>\n    </tr>\n    <tr>\n      <th>Data Engineer</th>\n      <td>Verity</td>\n      <td>2021-01-21</td>\n      <td>Zurich</td>\n    </tr>\n    <tr>\n      <th>Business Insights Analyst, Direct-to-Consumer - Global</th>\n      <td>Plume Design, Inc</td>\n      <td>2020-12-29</td>\n      <td>Zurich</td>\n    </tr>\n    <tr>\n      <th>HR Data Administrator &amp; Analyst (50% - 60%)</th>\n      <td>Steiner AG</td>\n      <td>2020-12-24</td>\n      <td>Zurich</td>\n    </tr>\n    <tr>\n      <th>Data Scientist Personalisierung - Zürich</th>\n      <td>SRF - Schweizer Radio und Fernsehen</td>\n      <td>2020-11-27</td>\n      <td>Schlatt</td>\n    </tr>\n    <tr>\n      <th>Business Analyst Data Privacy &amp; Deletion (m/w) 80-100%</th>\n      <td>Zurich Insurance Company Ltd</td>\n      <td>2021-01-07</td>\n      <td>Zurich</td>\n    </tr>\n    <tr>\n      <th>Data scientist for AI and Monitoring Models Validation</th>\n      <td>UBS</td>\n      <td>2021-01-11</td>\n      <td>Zurich</td>\n    </tr>\n    <tr>\n      <th>Technical Business Analyst Finance (trading/Orchestrade)</th>\n      <td>Excelian | Luxoft Financial Services</td>\n      <td>2021-01-07</td>\n      <td>Zurich</td>\n    </tr>\n    <tr>\n      <th>Data Engineer - Pyspark, Databricks</th>\n      <td>Darwin Recruitment</td>\n      <td>2021-01-20</td>\n      <td>Zurich</td>\n    </tr>\n    <tr>\n      <th>Group Business Analyst</th>\n      <td>ABB</td>\n      <td>2021-01-19</td>\n      <td>Zurich</td>\n    </tr>\n    <tr>\n      <th>Data Analyst (BI / Digital Analytics) (w/m) 80-100%</th>\n      <td>NZZ</td>\n      <td>2021-01-17</td>\n      <td>Zurich</td>\n    </tr>\n    <tr>\n      <th>Data Infrastructure Engineer</th>\n      <td>GitHub</td>\n      <td>2020-11-06</td>\n      <td>Zurich</td>\n    </tr>\n    <tr>\n      <th>Business Analyst Finanzinformationen</th>\n      <td>VP Bank AG</td>\n      <td>2020-11-02</td>\n      <td>Zurich</td>\n    </tr>\n    <tr>\n      <th>Business Analyst</th>\n      <td>Credit Now</td>\n      <td>2020-12-17</td>\n      <td>Horgen</td>\n    </tr>\n    <tr>\n      <th>Data Science Developer</th>\n      <td>Schroder Adveq</td>\n      <td>2021-01-14</td>\n      <td>Zurich</td>\n    </tr>\n    <tr>\n      <th>Business Analyst 80 - 100%</th>\n      <td>Swiss Life</td>\n      <td>2020-12-09</td>\n      <td>Schlatt</td>\n    </tr>\n    <tr>\n      <th>Business Analyst / Consultant Digitalisierung</th>\n      <td>Nordwand Group AG</td>\n      <td>2021-01-21</td>\n      <td>Egg</td>\n    </tr>\n    <tr>\n      <th>Technical Business Analyst</th>\n      <td>NatWest Group</td>\n      <td>2021-01-12</td>\n      <td>Zurich</td>\n    </tr>\n    <tr>\n      <th>Business Analyst / Consultant EasyTax</th>\n      <td>BearingPoint</td>\n      <td>2021-01-15</td>\n      <td>Schlatt</td>\n    </tr>\n    <tr>\n      <th>Business Analyst(in) / Requirements Engineer (80-100%)</th>\n      <td>Pqm Consulting Inc</td>\n      <td>2021-01-16</td>\n      <td>Zurich</td>\n    </tr>\n    <tr>\n      <th>Data Scientist 100% (w/m) 100%</th>\n      <td>Properti AG</td>\n      <td>2021-01-10</td>\n      <td>Horgen</td>\n    </tr>\n    <tr>\n      <th>Data Scientist - QuantumBlack</th>\n      <td>QuantumBlack</td>\n      <td>2020-12-25</td>\n      <td>Zurich</td>\n    </tr>\n    <tr>\n      <th>Business/Data Analyst Basel IV #154939</th>\n      <td>Credit Suisse</td>\n      <td>2021-01-21</td>\n      <td>Zurich</td>\n    </tr>\n    <tr>\n      <th>Analytics Engineer (m/f/d)</th>\n      <td>On</td>\n      <td>2020-11-17</td>\n      <td>Zurich</td>\n    </tr>\n    <tr>\n      <th>Data Science Analyst (AA/AI) 100% (f/m/d)</th>\n      <td>Mettler-Toledo International, Inc</td>\n      <td>2020-12-19</td>\n      <td>Greifensee</td>\n    </tr>\n    <tr>\n      <th>Big Data Analyst/Developer - Big Data, Hadoop, Spark, Python</th>\n      <td>Luxoft</td>\n      <td>2021-01-21</td>\n      <td>Zurich</td>\n    </tr>\n    <tr>\n      <th>Data Scientist – Machine Learning &amp; Forecasting</th>\n      <td>EF Education First</td>\n      <td>2020-11-24</td>\n      <td>Zurich</td>\n    </tr>\n    <tr>\n      <th>Business Analyst Kundenstamm / Kernbankenapplikation (w/m)</th>\n      <td>Migros Bank</td>\n      <td>2021-01-05</td>\n      <td>Wallisellen</td>\n    </tr>\n    <tr>\n      <th>Data Engineer, Python, Pyspark</th>\n      <td>CareerAddict</td>\n      <td>2021-01-21</td>\n      <td>Schlatt</td>\n    </tr>\n    <tr>\n      <th>Product Owner / Requirements Analyst (80-100%)</th>\n      <td>Ava Women</td>\n      <td>2021-01-21</td>\n      <td>Schlatt</td>\n    </tr>\n    <tr>\n      <th>Data Engineer (m/f)</th>\n      <td>2parse.it gmbh</td>\n      <td>2021-01-22</td>\n      <td>Schlatt</td>\n    </tr>\n    <tr>\n      <th>Graduate Artificial Intelligence and Analytics (Data Engineering Focussed)</th>\n      <td>Cognizant</td>\n      <td>2020-10-18</td>\n      <td>Zurich</td>\n    </tr>\n    <tr>\n      <th>Business Analyst (m/w/d) mit Projektleitungserfahrung</th>\n      <td>DZ PRIVATBANK S.A.</td>\n      <td>2020-11-14</td>\n      <td>Zurich</td>\n    </tr>\n  </tbody>\n</table>\n</div>"
     },
     "execution_count": 172,
     "metadata": {},
     "output_type": "execute_result"
    }
   ],
   "source": [
    "new_final_df = dfWIP.drop_duplicates()\n",
    "new_final_df"
   ],
   "metadata": {
    "collapsed": false,
    "pycharm": {
     "name": "#%%\n"
    }
   }
  },
  {
   "cell_type": "code",
   "execution_count": 171,
   "outputs": [],
   "source": [
    "new_final_df.to_csv('C:/Users/Marc/Dropbox/01_Marc Arnold/Python Projects/04_Job Viz/02_Output/01_Final DF/Final_DF_LinkedIN Jobs.csv')\n",
    "\n"
   ],
   "metadata": {
    "collapsed": false,
    "pycharm": {
     "name": "#%%\n"
    }
   }
  }
 ],
 "metadata": {
  "kernelspec": {
   "display_name": "Python 3",
   "language": "python",
   "name": "python3"
  },
  "language_info": {
   "codemirror_mode": {
    "name": "ipython",
    "version": 2
   },
   "file_extension": ".py",
   "mimetype": "text/x-python",
   "name": "python",
   "nbconvert_exporter": "python",
   "pygments_lexer": "ipython2",
   "version": "2.7.6"
  }
 },
 "nbformat": 4,
 "nbformat_minor": 0
}