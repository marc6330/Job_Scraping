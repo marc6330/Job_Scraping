{
 "cells": [
  {
   "cell_type": "markdown",
   "source": [
    "Steps:\n",
    "- Scarping Job postings with Selenium and bs4\n",
    "- Visualize in Tableau or PowerBI"
   ],
   "metadata": {
    "collapsed": false
   }
  },
  {
   "cell_type": "markdown",
   "source": [
    "import necessary modules - first try with BeautifulSoup"
   ],
   "metadata": {
    "collapsed": false
   }
  },
  {
   "cell_type": "code",
   "execution_count": 1,
   "outputs": [],
   "source": [
    "import driver as driver\n",
    "import pandas as pd\n",
    "import re\n",
    "import lxml\n",
    "from bs4 import BeautifulSoup\n",
    "from datetime import date, timedelta, datetime\n",
    "from IPython.core.display import clear_output\n",
    "from random import randint\n",
    "from requests import get\n",
    "from selenium import webdriver\n",
    "from selenium.webdriver.common.action_chains import ActionChains\n",
    "from time import sleep\n",
    "from time import time\n",
    "import datetime\n",
    "start_time = time()\n",
    "\n",
    "from warnings import warn\n"
   ],
   "metadata": {
    "collapsed": false,
    "pycharm": {
     "name": "#%%\n"
    }
   }
  },
  {
   "cell_type": "markdown",
   "source": [
    "Select wanted url"
   ],
   "metadata": {
    "collapsed": false
   }
  },
  {
   "cell_type": "code",
   "execution_count": 2,
   "outputs": [
    {
     "data": {
      "text/plain": "'https://www.linkedin.com/jobs/search?keywords=Data%20Analyst&location=Oslo%2C%20%2C%20Norway'"
     },
     "execution_count": 2,
     "metadata": {},
     "output_type": "execute_result"
    }
   ],
   "source": [
    "city = str(input('Please enter the city you want to work in'))\n",
    "state = str(input('Please enter the state you want to work in'))\n",
    "country = str(input('Please enter the country you want to work in'))\n",
    "url = 'https://www.linkedin.com/jobs/search?keywords=Data%20Analyst&location='+ city + '%2C%20'+ state +'%2C%20'+ country\n",
    "\n",
    "no_of_jobs = 50\n",
    "\n",
    "url\n",
    "\n"
   ],
   "metadata": {
    "collapsed": false,
    "pycharm": {
     "name": "#%%\n"
    }
   }
  },
  {
   "cell_type": "markdown",
   "source": [
    "open windows with url stated above in"
   ],
   "metadata": {
    "collapsed": false
   }
  },
  {
   "cell_type": "code",
   "execution_count": 3,
   "outputs": [],
   "source": [
    "driver = webdriver.Chrome()\n",
    "driver.get(url)\n",
    "sleep(3)\n",
    "action = ActionChains(driver)"
   ],
   "metadata": {
    "collapsed": false,
    "pycharm": {
     "name": "#%%\n"
    }
   }
  },
  {
   "cell_type": "markdown",
   "source": [
    "to show more jobs than the initial 25"
   ],
   "metadata": {
    "collapsed": false
   }
  },
  {
   "cell_type": "code",
   "execution_count": 4,
   "outputs": [],
   "source": [
    "driver.execute_script(\"window.scrollTo(0,document.body.scrollHeight)\")\n",
    "sleep(20)\n",
    "\n"
   ],
   "metadata": {
    "collapsed": false,
    "pycharm": {
     "name": "#%%\n"
    }
   }
  },
  {
   "cell_type": "markdown",
   "source": [
    "parsing the visible webpage"
   ],
   "metadata": {
    "collapsed": false
   }
  },
  {
   "cell_type": "code",
   "execution_count": 5,
   "outputs": [],
   "source": [
    "pageSource = driver.page_source\n",
    "soup = BeautifulSoup(pageSource,  \"html.parser\")\n",
    "\n"
   ],
   "metadata": {
    "collapsed": false,
    "pycharm": {
     "name": "#%%\n"
    }
   }
  },
  {
   "cell_type": "markdown",
   "source": [
    "Parsing content"
   ],
   "metadata": {
    "collapsed": false
   }
  },
  {
   "cell_type": "code",
   "execution_count": 6,
   "outputs": [
    {
     "name": "stdout",
     "output_type": "stream",
     "text": [
      "Data Analyst\n",
      "Attensi\n"
     ]
    }
   ],
   "source": [
    "first_job = soup.find('h3', class_ = 'result-card__title job-result-card__title').text\n",
    "print(first_job)\n",
    "\n",
    "first_company = soup.find('a', class_ = 'result-card__subtitle-link job-result-card__subtitle-link').text\n",
    "print(first_company)"
   ],
   "metadata": {
    "collapsed": false,
    "pycharm": {
     "name": "#%%\n"
    }
   }
  },
  {
   "cell_type": "markdown",
   "source": [
    "Create job container"
   ],
   "metadata": {
    "collapsed": false
   }
  },
  {
   "cell_type": "code",
   "execution_count": 7,
   "outputs": [
    {
     "name": "stdout",
     "output_type": "stream",
     "text": [
      "41\n"
     ]
    }
   ],
   "source": [
    "job_container = soup.find('ul', class_=\"jobs-search__results-list\")\n",
    "print(len(job_container))"
   ],
   "metadata": {
    "collapsed": false,
    "pycharm": {
     "name": "#%%\n"
    }
   }
  },
  {
   "cell_type": "markdown",
   "source": [
    "create for loop to look for all jobs"
   ],
   "metadata": {
    "collapsed": false
   }
  },
  {
   "cell_type": "code",
   "execution_count": 8,
   "outputs": [
    {
     "name": "stdout",
     "output_type": "stream",
     "text": [
      "You are scraping information about 41 jobs.\n"
     ]
    }
   ],
   "source": [
    "print('You are scraping information about {} jobs.'.format(len(job_container)))"
   ],
   "metadata": {
    "collapsed": false,
    "pycharm": {
     "name": "#%%\n"
    }
   }
  },
  {
   "cell_type": "code",
   "execution_count": 9,
   "outputs": [],
   "source": [
    "job_titles = []\n",
    "companies = []\n",
    "locations = []\n",
    "time = []\n",
    "date = []\n",
    "\n",
    "\n",
    "for jobs in job_container:\n",
    "    post_title = jobs.find('h3', class_ = 'result-card__title job-result-card__title').text\n",
    "    job_titles.append(post_title)\n",
    "\n",
    "    post_company = jobs.find('h4', class_ = 'result-card__subtitle job-result-card__subtitle').text\n",
    "    companies.append(post_company)\n",
    "\n",
    "    post_locations = jobs.find('span', class_ = 'job-result-card__location').text\n",
    "    locations.append(post_locations)\n",
    "\n",
    "    post_date = jobs.select_one('time')['datetime']\n",
    "    date.append(post_date)\n"
   ],
   "metadata": {
    "collapsed": false,
    "pycharm": {
     "name": "#%%\n"
    }
   }
  },
  {
   "cell_type": "code",
   "execution_count": 10,
   "outputs": [
    {
     "name": "stdout",
     "output_type": "stream",
     "text": [
      "{'Title': ['Data Analyst', 'Data Analyst - Aftenposten', 'Data Analyst', 'Business Analyst', 'Data Analyst - Flexible Office Homeoffice Remote - Talent', 'Data Scientist (Product Analyst)', 'Business analyst - New revenue streams', 'Data Scientist - Refinery operations', 'Test Analyst', 'Support Analyst', 'Data Engineer', 'Business Analyst', 'Statistician', 'Dataanalytiker', 'Business Analyst/Adoption Responsible, Digital Collaboration', 'Talent & Organization - Analysts, Consultants, Managers - Norway ', 'Senior Analyst M&A', 'Data Analyst - Oslo', 'Senior Customer Insight Analyst', 'DigitalBCG | Associates to Principals ', 'Analytical Programmer / Data Scientist Role in Oslo', 'Analytics Foundation - BI Developer', 'Power BI Developer', 'TDM Analyst', 'Har du interesse for programmering og analyse? Bli Dataanalytiker på 12 uker!', 'Healthcare Data Analyst - Talent', 'Har du interesse for programmering og analyse? Bli Dataanalytiker på 12 uker! - Oslo', 'Junior Analytical Program Manager', 'Business Analyst - Flexible Office Homeoffice Remote', 'Support Analyst', 'Data Scientist (Product Analyst) - Oslo', 'Product Analyst - Oslo', 'Product Analyst - Oslo', 'Budget Analyst - Flexible Office Homeoffice Remote - Talent', 'Data Architect - Flexible Office Homeoffice Remote - Talent', 'ICT Business Analyst - Talent', 'Water Quality Analyst - Talent', 'Statistician - Oslo', 'Financial Specialist - Flexible Office Homeoffice Remote - Talent', 'Cost Accountant - Flexible Office Homeoffice Remote - Talent', 'Explore and make sense of large datasets to improve cybersecurity - Oslo'], 'Company': ['Attensi', 'Schibsted', 'Unacast', 'ITR Partners', 'Talent', 'UserTesting', 'NoA Consulting', 'Rystad Energy', 'Infosys', 'Hansen Technologies', 'Avanade', 'TietoEVRY', 'KnowBe4', 'ZYNK AS', 'Norsk Hydro', 'Accenture', 'Yara International', 'ALLER MEDIA AS AVD OSLO', 'Harnham', 'Boston Consulting Group (BCG)', 'Rystad Energy', 'Schibsted', 'Avanade', 'Infosys', 'Academic Work', 'Talent', 'TU Jobb Rekruttering', 'Schibsted', 'Talent', 'Hansen Technologies', 'UserTesting', 'VEV AS', 'Vev', 'Talent', 'Talent', 'Talent', 'Talent', 'KnowBe4', 'Talent', 'Talent', 'CLTRE AS'], 'Locations': ['Oslo, Oslo, Norway', 'Oslo, Oslo, Norway', 'Oslo, Oslo, Norway', 'Oslo, Norway', 'Oslo, Oslo, Norway', 'Oslo, Oslo, Norway', 'Oslo, Norway', 'Oslo, Norway', 'Oslo, Norway', 'Oslo, Oslo, Norway', 'Oslo, Oslo, Norway', 'Oslo, Oslo, Norway', 'Oslo, Oslo, Norway', 'Oslo, Norway', 'Oslo, Oslo, Norway', 'Oslo, Norway', 'Oslo, Oslo, Norway', 'Oslo, Oslo, Norway', 'Oslo, Oslo, Norway', 'Oslo, Norway', 'Oslo, Norway', 'Oslo, Oslo, Norway', 'Oslo, Oslo, Norway', 'Oslo, Oslo, Norway', 'Oslo, Oslo, Norway', 'Oslo, Oslo, Norway', 'Oslo, Oslo, Norway', 'Oslo, Oslo, Norway', 'Oslo, Oslo, Norway', 'Oslo, Oslo, Norway', 'Oslo, Oslo, Norway', 'Oslo, Oslo, Norway', 'Oslo, Oslo, Norway', 'Oslo, Oslo, Norway', 'Oslo, Oslo, Norway', 'Oslo, Oslo, Norway', 'Oslo, Oslo, Norway', 'Oslo, Oslo, Norway', 'Oslo, Oslo, Norway', 'Oslo, Oslo, Norway', 'Oslo, Oslo, Norway'], 'Post Date': ['2021-01-04', '2021-01-12', '2020-12-21', '2021-01-22', '2021-01-23', '2020-10-05', '2021-01-13', '2021-01-05', '2021-01-06', '2021-01-11', '2021-01-08', '2021-01-08', '2021-01-20', '2021-01-05', '2021-01-21', '2021-01-24', '2021-01-18', '2021-01-21', '2021-01-08', '2021-01-22', '2021-01-22', '2021-01-04', '2021-01-08', '2020-12-27', '2021-01-18', '2021-01-23', '2021-01-19', '2021-01-12', '2021-01-23', '2021-01-24', '2020-12-08', '2021-01-23', '2021-01-24', '2021-01-23', '2021-01-23', '2021-01-23', '2021-01-23', '2021-01-21', '2021-01-23', '2021-01-23', '2021-01-21']}\n"
     ]
    }
   ],
   "source": [
    "ml = {'Title': job_titles, 'Company': companies, 'Locations': locations, 'Post Date': date}\n",
    "print(ml)"
   ],
   "metadata": {
    "collapsed": false,
    "pycharm": {
     "name": "#%%\n"
    }
   }
  },
  {
   "cell_type": "code",
   "execution_count": 11,
   "outputs": [
    {
     "data": {
      "text/plain": "          Title  Company           Locations   Post Date\n0  Data Analyst  Attensi  Oslo, Oslo, Norway  2021-01-04",
      "text/html": "<div>\n<style scoped>\n    .dataframe tbody tr th:only-of-type {\n        vertical-align: middle;\n    }\n\n    .dataframe tbody tr th {\n        vertical-align: top;\n    }\n\n    .dataframe thead th {\n        text-align: right;\n    }\n</style>\n<table border=\"1\" class=\"dataframe\">\n  <thead>\n    <tr style=\"text-align: right;\">\n      <th></th>\n      <th>Title</th>\n      <th>Company</th>\n      <th>Locations</th>\n      <th>Post Date</th>\n    </tr>\n  </thead>\n  <tbody>\n    <tr>\n      <th>0</th>\n      <td>Data Analyst</td>\n      <td>Attensi</td>\n      <td>Oslo, Oslo, Norway</td>\n      <td>2021-01-04</td>\n    </tr>\n  </tbody>\n</table>\n</div>"
     },
     "execution_count": 11,
     "metadata": {},
     "output_type": "execute_result"
    }
   ],
   "source": [
    "df = pd.DataFrame(ml)\n",
    "df.head(1)"
   ],
   "metadata": {
    "collapsed": false,
    "pycharm": {
     "name": "#%%\n"
    }
   }
  },
  {
   "cell_type": "markdown",
   "source": [
    "Separate City from State and Country\n"
   ],
   "metadata": {
    "collapsed": false
   }
  },
  {
   "cell_type": "code",
   "execution_count": 12,
   "outputs": [],
   "source": [
    "new = df.Locations.str.split(',', n = 0, expand = True)"
   ],
   "metadata": {
    "collapsed": false,
    "pycharm": {
     "name": "#%%\n"
    }
   }
  },
  {
   "cell_type": "code",
   "execution_count": 13,
   "outputs": [],
   "source": [
    "new2 = new.rename(columns = {0: 'City2'})"
   ],
   "metadata": {
    "collapsed": false,
    "pycharm": {
     "name": "#%%\n"
    }
   }
  },
  {
   "cell_type": "code",
   "execution_count": 14,
   "outputs": [
    {
     "data": {
      "text/plain": "   City2        1        2\n0   Oslo     Oslo   Norway\n1   Oslo     Oslo   Norway\n2   Oslo     Oslo   Norway\n3   Oslo   Norway     None\n4   Oslo     Oslo   Norway\n5   Oslo     Oslo   Norway\n6   Oslo   Norway     None\n7   Oslo   Norway     None\n8   Oslo   Norway     None\n9   Oslo     Oslo   Norway\n10  Oslo     Oslo   Norway\n11  Oslo     Oslo   Norway\n12  Oslo     Oslo   Norway\n13  Oslo   Norway     None\n14  Oslo     Oslo   Norway\n15  Oslo   Norway     None\n16  Oslo     Oslo   Norway\n17  Oslo     Oslo   Norway\n18  Oslo     Oslo   Norway\n19  Oslo   Norway     None\n20  Oslo   Norway     None\n21  Oslo     Oslo   Norway\n22  Oslo     Oslo   Norway\n23  Oslo     Oslo   Norway\n24  Oslo     Oslo   Norway\n25  Oslo     Oslo   Norway\n26  Oslo     Oslo   Norway\n27  Oslo     Oslo   Norway\n28  Oslo     Oslo   Norway\n29  Oslo     Oslo   Norway\n30  Oslo     Oslo   Norway\n31  Oslo     Oslo   Norway\n32  Oslo     Oslo   Norway\n33  Oslo     Oslo   Norway\n34  Oslo     Oslo   Norway\n35  Oslo     Oslo   Norway\n36  Oslo     Oslo   Norway\n37  Oslo     Oslo   Norway\n38  Oslo     Oslo   Norway\n39  Oslo     Oslo   Norway\n40  Oslo     Oslo   Norway",
      "text/html": "<div>\n<style scoped>\n    .dataframe tbody tr th:only-of-type {\n        vertical-align: middle;\n    }\n\n    .dataframe tbody tr th {\n        vertical-align: top;\n    }\n\n    .dataframe thead th {\n        text-align: right;\n    }\n</style>\n<table border=\"1\" class=\"dataframe\">\n  <thead>\n    <tr style=\"text-align: right;\">\n      <th></th>\n      <th>City2</th>\n      <th>1</th>\n      <th>2</th>\n    </tr>\n  </thead>\n  <tbody>\n    <tr>\n      <th>0</th>\n      <td>Oslo</td>\n      <td>Oslo</td>\n      <td>Norway</td>\n    </tr>\n    <tr>\n      <th>1</th>\n      <td>Oslo</td>\n      <td>Oslo</td>\n      <td>Norway</td>\n    </tr>\n    <tr>\n      <th>2</th>\n      <td>Oslo</td>\n      <td>Oslo</td>\n      <td>Norway</td>\n    </tr>\n    <tr>\n      <th>3</th>\n      <td>Oslo</td>\n      <td>Norway</td>\n      <td>None</td>\n    </tr>\n    <tr>\n      <th>4</th>\n      <td>Oslo</td>\n      <td>Oslo</td>\n      <td>Norway</td>\n    </tr>\n    <tr>\n      <th>5</th>\n      <td>Oslo</td>\n      <td>Oslo</td>\n      <td>Norway</td>\n    </tr>\n    <tr>\n      <th>6</th>\n      <td>Oslo</td>\n      <td>Norway</td>\n      <td>None</td>\n    </tr>\n    <tr>\n      <th>7</th>\n      <td>Oslo</td>\n      <td>Norway</td>\n      <td>None</td>\n    </tr>\n    <tr>\n      <th>8</th>\n      <td>Oslo</td>\n      <td>Norway</td>\n      <td>None</td>\n    </tr>\n    <tr>\n      <th>9</th>\n      <td>Oslo</td>\n      <td>Oslo</td>\n      <td>Norway</td>\n    </tr>\n    <tr>\n      <th>10</th>\n      <td>Oslo</td>\n      <td>Oslo</td>\n      <td>Norway</td>\n    </tr>\n    <tr>\n      <th>11</th>\n      <td>Oslo</td>\n      <td>Oslo</td>\n      <td>Norway</td>\n    </tr>\n    <tr>\n      <th>12</th>\n      <td>Oslo</td>\n      <td>Oslo</td>\n      <td>Norway</td>\n    </tr>\n    <tr>\n      <th>13</th>\n      <td>Oslo</td>\n      <td>Norway</td>\n      <td>None</td>\n    </tr>\n    <tr>\n      <th>14</th>\n      <td>Oslo</td>\n      <td>Oslo</td>\n      <td>Norway</td>\n    </tr>\n    <tr>\n      <th>15</th>\n      <td>Oslo</td>\n      <td>Norway</td>\n      <td>None</td>\n    </tr>\n    <tr>\n      <th>16</th>\n      <td>Oslo</td>\n      <td>Oslo</td>\n      <td>Norway</td>\n    </tr>\n    <tr>\n      <th>17</th>\n      <td>Oslo</td>\n      <td>Oslo</td>\n      <td>Norway</td>\n    </tr>\n    <tr>\n      <th>18</th>\n      <td>Oslo</td>\n      <td>Oslo</td>\n      <td>Norway</td>\n    </tr>\n    <tr>\n      <th>19</th>\n      <td>Oslo</td>\n      <td>Norway</td>\n      <td>None</td>\n    </tr>\n    <tr>\n      <th>20</th>\n      <td>Oslo</td>\n      <td>Norway</td>\n      <td>None</td>\n    </tr>\n    <tr>\n      <th>21</th>\n      <td>Oslo</td>\n      <td>Oslo</td>\n      <td>Norway</td>\n    </tr>\n    <tr>\n      <th>22</th>\n      <td>Oslo</td>\n      <td>Oslo</td>\n      <td>Norway</td>\n    </tr>\n    <tr>\n      <th>23</th>\n      <td>Oslo</td>\n      <td>Oslo</td>\n      <td>Norway</td>\n    </tr>\n    <tr>\n      <th>24</th>\n      <td>Oslo</td>\n      <td>Oslo</td>\n      <td>Norway</td>\n    </tr>\n    <tr>\n      <th>25</th>\n      <td>Oslo</td>\n      <td>Oslo</td>\n      <td>Norway</td>\n    </tr>\n    <tr>\n      <th>26</th>\n      <td>Oslo</td>\n      <td>Oslo</td>\n      <td>Norway</td>\n    </tr>\n    <tr>\n      <th>27</th>\n      <td>Oslo</td>\n      <td>Oslo</td>\n      <td>Norway</td>\n    </tr>\n    <tr>\n      <th>28</th>\n      <td>Oslo</td>\n      <td>Oslo</td>\n      <td>Norway</td>\n    </tr>\n    <tr>\n      <th>29</th>\n      <td>Oslo</td>\n      <td>Oslo</td>\n      <td>Norway</td>\n    </tr>\n    <tr>\n      <th>30</th>\n      <td>Oslo</td>\n      <td>Oslo</td>\n      <td>Norway</td>\n    </tr>\n    <tr>\n      <th>31</th>\n      <td>Oslo</td>\n      <td>Oslo</td>\n      <td>Norway</td>\n    </tr>\n    <tr>\n      <th>32</th>\n      <td>Oslo</td>\n      <td>Oslo</td>\n      <td>Norway</td>\n    </tr>\n    <tr>\n      <th>33</th>\n      <td>Oslo</td>\n      <td>Oslo</td>\n      <td>Norway</td>\n    </tr>\n    <tr>\n      <th>34</th>\n      <td>Oslo</td>\n      <td>Oslo</td>\n      <td>Norway</td>\n    </tr>\n    <tr>\n      <th>35</th>\n      <td>Oslo</td>\n      <td>Oslo</td>\n      <td>Norway</td>\n    </tr>\n    <tr>\n      <th>36</th>\n      <td>Oslo</td>\n      <td>Oslo</td>\n      <td>Norway</td>\n    </tr>\n    <tr>\n      <th>37</th>\n      <td>Oslo</td>\n      <td>Oslo</td>\n      <td>Norway</td>\n    </tr>\n    <tr>\n      <th>38</th>\n      <td>Oslo</td>\n      <td>Oslo</td>\n      <td>Norway</td>\n    </tr>\n    <tr>\n      <th>39</th>\n      <td>Oslo</td>\n      <td>Oslo</td>\n      <td>Norway</td>\n    </tr>\n    <tr>\n      <th>40</th>\n      <td>Oslo</td>\n      <td>Oslo</td>\n      <td>Norway</td>\n    </tr>\n  </tbody>\n</table>\n</div>"
     },
     "execution_count": 14,
     "metadata": {},
     "output_type": "execute_result"
    }
   ],
   "source": [
    "new2\n"
   ],
   "metadata": {
    "collapsed": false,
    "pycharm": {
     "name": "#%%\n"
    }
   }
  },
  {
   "cell_type": "markdown",
   "source": [
    "merge df and new, drop Locations as it is redundant now"
   ],
   "metadata": {
    "collapsed": false
   }
  },
  {
   "cell_type": "code",
   "execution_count": 15,
   "outputs": [
    {
     "data": {
      "text/plain": "                        Title       Company   Post Date City2\n0                Data Analyst       Attensi  2021-01-04  Oslo\n1  Data Analyst - Aftenposten     Schibsted  2021-01-12  Oslo\n2                Data Analyst       Unacast  2020-12-21  Oslo\n3            Business Analyst  ITR Partners  2021-01-22  Oslo",
      "text/html": "<div>\n<style scoped>\n    .dataframe tbody tr th:only-of-type {\n        vertical-align: middle;\n    }\n\n    .dataframe tbody tr th {\n        vertical-align: top;\n    }\n\n    .dataframe thead th {\n        text-align: right;\n    }\n</style>\n<table border=\"1\" class=\"dataframe\">\n  <thead>\n    <tr style=\"text-align: right;\">\n      <th></th>\n      <th>Title</th>\n      <th>Company</th>\n      <th>Post Date</th>\n      <th>City2</th>\n    </tr>\n  </thead>\n  <tbody>\n    <tr>\n      <th>0</th>\n      <td>Data Analyst</td>\n      <td>Attensi</td>\n      <td>2021-01-04</td>\n      <td>Oslo</td>\n    </tr>\n    <tr>\n      <th>1</th>\n      <td>Data Analyst - Aftenposten</td>\n      <td>Schibsted</td>\n      <td>2021-01-12</td>\n      <td>Oslo</td>\n    </tr>\n    <tr>\n      <th>2</th>\n      <td>Data Analyst</td>\n      <td>Unacast</td>\n      <td>2020-12-21</td>\n      <td>Oslo</td>\n    </tr>\n    <tr>\n      <th>3</th>\n      <td>Business Analyst</td>\n      <td>ITR Partners</td>\n      <td>2021-01-22</td>\n      <td>Oslo</td>\n    </tr>\n  </tbody>\n</table>\n</div>"
     },
     "execution_count": 15,
     "metadata": {},
     "output_type": "execute_result"
    }
   ],
   "source": [
    "df2 = df.join(new2, how = 'left')\n",
    "df2.drop(columns = ['Locations',1 , 2], inplace = True)\n",
    "df2.head(4)"
   ],
   "metadata": {
    "collapsed": false,
    "pycharm": {
     "name": "#%%\n"
    }
   }
  },
  {
   "cell_type": "code",
   "execution_count": 16,
   "outputs": [
    {
     "data": {
      "text/plain": "0    Oslo\n1    Oslo\n2    Oslo\n3    Oslo\n4    Oslo\nName: City, dtype: object"
     },
     "execution_count": 16,
     "metadata": {},
     "output_type": "execute_result"
    }
   ],
   "source": [
    "new3 = df2.City2.str.split(' ', expand=True)\n",
    "new4 = new3.rename(columns = {0: 'City'})\n",
    "new5 = new4.City\n",
    "new5.head()"
   ],
   "metadata": {
    "collapsed": false,
    "pycharm": {
     "name": "#%%\n"
    }
   }
  },
  {
   "cell_type": "code",
   "execution_count": 17,
   "outputs": [
    {
     "data": {
      "text/plain": "                                                                          Company  \\\nTitle                                                                               \nData Analyst                                                              Attensi   \nData Analyst - Aftenposten                                              Schibsted   \nData Analyst                                                              Unacast   \nBusiness Analyst                                                     ITR Partners   \nData Analyst - Flexible Office Homeoffice Remot...                         Talent   \nData Scientist (Product Analyst)                                      UserTesting   \nBusiness analyst - New revenue streams                             NoA Consulting   \nData Scientist - Refinery operations                                Rystad Energy   \nTest Analyst                                                              Infosys   \nSupport Analyst                                               Hansen Technologies   \nData Engineer                                                             Avanade   \nBusiness Analyst                                                        TietoEVRY   \nStatistician                                                              KnowBe4   \nDataanalytiker                                                            ZYNK AS   \nBusiness Analyst/Adoption Responsible, Digital ...                    Norsk Hydro   \nTalent & Organization - Analysts, Consultants, ...                      Accenture   \nSenior Analyst M&A                                             Yara International   \nData Analyst - Oslo                                       ALLER MEDIA AS AVD OSLO   \nSenior Customer Insight Analyst                                           Harnham   \nDigitalBCG | Associates to Principals               Boston Consulting Group (BCG)   \nAnalytical Programmer / Data Scientist Role in ...                  Rystad Energy   \nAnalytics Foundation - BI Developer                                     Schibsted   \nPower BI Developer                                                        Avanade   \nTDM Analyst                                                               Infosys   \nHar du interesse for programmering og analyse? ...                  Academic Work   \nHealthcare Data Analyst - Talent                                           Talent   \nHar du interesse for programmering og analyse? ...           TU Jobb Rekruttering   \nJunior Analytical Program Manager                                       Schibsted   \nBusiness Analyst - Flexible Office Homeoffice R...                         Talent   \nSupport Analyst                                               Hansen Technologies   \nData Scientist (Product Analyst) - Oslo                               UserTesting   \nProduct Analyst - Oslo                                                     VEV AS   \nProduct Analyst - Oslo                                                        Vev   \nBudget Analyst - Flexible Office Homeoffice Rem...                         Talent   \nData Architect - Flexible Office Homeoffice Rem...                         Talent   \nICT Business Analyst - Talent                                              Talent   \nWater Quality Analyst - Talent                                             Talent   \nStatistician - Oslo                                                       KnowBe4   \nFinancial Specialist - Flexible Office Homeoffi...                         Talent   \nCost Accountant - Flexible Office Homeoffice Re...                         Talent   \nExplore and make sense of large datasets to imp...                       CLTRE AS   \n\n                                                     Post Date  City  \nTitle                                                                 \nData Analyst                                        2021-01-04  Oslo  \nData Analyst - Aftenposten                          2021-01-12  Oslo  \nData Analyst                                        2020-12-21  Oslo  \nBusiness Analyst                                    2021-01-22  Oslo  \nData Analyst - Flexible Office Homeoffice Remot...  2021-01-23  Oslo  \nData Scientist (Product Analyst)                    2020-10-05  Oslo  \nBusiness analyst - New revenue streams              2021-01-13  Oslo  \nData Scientist - Refinery operations                2021-01-05  Oslo  \nTest Analyst                                        2021-01-06  Oslo  \nSupport Analyst                                     2021-01-11  Oslo  \nData Engineer                                       2021-01-08  Oslo  \nBusiness Analyst                                    2021-01-08  Oslo  \nStatistician                                        2021-01-20  Oslo  \nDataanalytiker                                      2021-01-05  Oslo  \nBusiness Analyst/Adoption Responsible, Digital ...  2021-01-21  Oslo  \nTalent & Organization - Analysts, Consultants, ...  2021-01-24  Oslo  \nSenior Analyst M&A                                  2021-01-18  Oslo  \nData Analyst - Oslo                                 2021-01-21  Oslo  \nSenior Customer Insight Analyst                     2021-01-08  Oslo  \nDigitalBCG | Associates to Principals               2021-01-22  Oslo  \nAnalytical Programmer / Data Scientist Role in ...  2021-01-22  Oslo  \nAnalytics Foundation - BI Developer                 2021-01-04  Oslo  \nPower BI Developer                                  2021-01-08  Oslo  \nTDM Analyst                                         2020-12-27  Oslo  \nHar du interesse for programmering og analyse? ...  2021-01-18  Oslo  \nHealthcare Data Analyst - Talent                    2021-01-23  Oslo  \nHar du interesse for programmering og analyse? ...  2021-01-19  Oslo  \nJunior Analytical Program Manager                   2021-01-12  Oslo  \nBusiness Analyst - Flexible Office Homeoffice R...  2021-01-23  Oslo  \nSupport Analyst                                     2021-01-24  Oslo  \nData Scientist (Product Analyst) - Oslo             2020-12-08  Oslo  \nProduct Analyst - Oslo                              2021-01-23  Oslo  \nProduct Analyst - Oslo                              2021-01-24  Oslo  \nBudget Analyst - Flexible Office Homeoffice Rem...  2021-01-23  Oslo  \nData Architect - Flexible Office Homeoffice Rem...  2021-01-23  Oslo  \nICT Business Analyst - Talent                       2021-01-23  Oslo  \nWater Quality Analyst - Talent                      2021-01-23  Oslo  \nStatistician - Oslo                                 2021-01-21  Oslo  \nFinancial Specialist - Flexible Office Homeoffi...  2021-01-23  Oslo  \nCost Accountant - Flexible Office Homeoffice Re...  2021-01-23  Oslo  \nExplore and make sense of large datasets to imp...  2021-01-21  Oslo  ",
      "text/html": "<div>\n<style scoped>\n    .dataframe tbody tr th:only-of-type {\n        vertical-align: middle;\n    }\n\n    .dataframe tbody tr th {\n        vertical-align: top;\n    }\n\n    .dataframe thead th {\n        text-align: right;\n    }\n</style>\n<table border=\"1\" class=\"dataframe\">\n  <thead>\n    <tr style=\"text-align: right;\">\n      <th></th>\n      <th>Company</th>\n      <th>Post Date</th>\n      <th>City</th>\n    </tr>\n    <tr>\n      <th>Title</th>\n      <th></th>\n      <th></th>\n      <th></th>\n    </tr>\n  </thead>\n  <tbody>\n    <tr>\n      <th>Data Analyst</th>\n      <td>Attensi</td>\n      <td>2021-01-04</td>\n      <td>Oslo</td>\n    </tr>\n    <tr>\n      <th>Data Analyst - Aftenposten</th>\n      <td>Schibsted</td>\n      <td>2021-01-12</td>\n      <td>Oslo</td>\n    </tr>\n    <tr>\n      <th>Data Analyst</th>\n      <td>Unacast</td>\n      <td>2020-12-21</td>\n      <td>Oslo</td>\n    </tr>\n    <tr>\n      <th>Business Analyst</th>\n      <td>ITR Partners</td>\n      <td>2021-01-22</td>\n      <td>Oslo</td>\n    </tr>\n    <tr>\n      <th>Data Analyst - Flexible Office Homeoffice Remote - Talent</th>\n      <td>Talent</td>\n      <td>2021-01-23</td>\n      <td>Oslo</td>\n    </tr>\n    <tr>\n      <th>Data Scientist (Product Analyst)</th>\n      <td>UserTesting</td>\n      <td>2020-10-05</td>\n      <td>Oslo</td>\n    </tr>\n    <tr>\n      <th>Business analyst - New revenue streams</th>\n      <td>NoA Consulting</td>\n      <td>2021-01-13</td>\n      <td>Oslo</td>\n    </tr>\n    <tr>\n      <th>Data Scientist - Refinery operations</th>\n      <td>Rystad Energy</td>\n      <td>2021-01-05</td>\n      <td>Oslo</td>\n    </tr>\n    <tr>\n      <th>Test Analyst</th>\n      <td>Infosys</td>\n      <td>2021-01-06</td>\n      <td>Oslo</td>\n    </tr>\n    <tr>\n      <th>Support Analyst</th>\n      <td>Hansen Technologies</td>\n      <td>2021-01-11</td>\n      <td>Oslo</td>\n    </tr>\n    <tr>\n      <th>Data Engineer</th>\n      <td>Avanade</td>\n      <td>2021-01-08</td>\n      <td>Oslo</td>\n    </tr>\n    <tr>\n      <th>Business Analyst</th>\n      <td>TietoEVRY</td>\n      <td>2021-01-08</td>\n      <td>Oslo</td>\n    </tr>\n    <tr>\n      <th>Statistician</th>\n      <td>KnowBe4</td>\n      <td>2021-01-20</td>\n      <td>Oslo</td>\n    </tr>\n    <tr>\n      <th>Dataanalytiker</th>\n      <td>ZYNK AS</td>\n      <td>2021-01-05</td>\n      <td>Oslo</td>\n    </tr>\n    <tr>\n      <th>Business Analyst/Adoption Responsible, Digital Collaboration</th>\n      <td>Norsk Hydro</td>\n      <td>2021-01-21</td>\n      <td>Oslo</td>\n    </tr>\n    <tr>\n      <th>Talent &amp; Organization - Analysts, Consultants, Managers - Norway</th>\n      <td>Accenture</td>\n      <td>2021-01-24</td>\n      <td>Oslo</td>\n    </tr>\n    <tr>\n      <th>Senior Analyst M&amp;A</th>\n      <td>Yara International</td>\n      <td>2021-01-18</td>\n      <td>Oslo</td>\n    </tr>\n    <tr>\n      <th>Data Analyst - Oslo</th>\n      <td>ALLER MEDIA AS AVD OSLO</td>\n      <td>2021-01-21</td>\n      <td>Oslo</td>\n    </tr>\n    <tr>\n      <th>Senior Customer Insight Analyst</th>\n      <td>Harnham</td>\n      <td>2021-01-08</td>\n      <td>Oslo</td>\n    </tr>\n    <tr>\n      <th>DigitalBCG | Associates to Principals</th>\n      <td>Boston Consulting Group (BCG)</td>\n      <td>2021-01-22</td>\n      <td>Oslo</td>\n    </tr>\n    <tr>\n      <th>Analytical Programmer / Data Scientist Role in Oslo</th>\n      <td>Rystad Energy</td>\n      <td>2021-01-22</td>\n      <td>Oslo</td>\n    </tr>\n    <tr>\n      <th>Analytics Foundation - BI Developer</th>\n      <td>Schibsted</td>\n      <td>2021-01-04</td>\n      <td>Oslo</td>\n    </tr>\n    <tr>\n      <th>Power BI Developer</th>\n      <td>Avanade</td>\n      <td>2021-01-08</td>\n      <td>Oslo</td>\n    </tr>\n    <tr>\n      <th>TDM Analyst</th>\n      <td>Infosys</td>\n      <td>2020-12-27</td>\n      <td>Oslo</td>\n    </tr>\n    <tr>\n      <th>Har du interesse for programmering og analyse? Bli Dataanalytiker på 12 uker!</th>\n      <td>Academic Work</td>\n      <td>2021-01-18</td>\n      <td>Oslo</td>\n    </tr>\n    <tr>\n      <th>Healthcare Data Analyst - Talent</th>\n      <td>Talent</td>\n      <td>2021-01-23</td>\n      <td>Oslo</td>\n    </tr>\n    <tr>\n      <th>Har du interesse for programmering og analyse? Bli Dataanalytiker på 12 uker! - Oslo</th>\n      <td>TU Jobb Rekruttering</td>\n      <td>2021-01-19</td>\n      <td>Oslo</td>\n    </tr>\n    <tr>\n      <th>Junior Analytical Program Manager</th>\n      <td>Schibsted</td>\n      <td>2021-01-12</td>\n      <td>Oslo</td>\n    </tr>\n    <tr>\n      <th>Business Analyst - Flexible Office Homeoffice Remote</th>\n      <td>Talent</td>\n      <td>2021-01-23</td>\n      <td>Oslo</td>\n    </tr>\n    <tr>\n      <th>Support Analyst</th>\n      <td>Hansen Technologies</td>\n      <td>2021-01-24</td>\n      <td>Oslo</td>\n    </tr>\n    <tr>\n      <th>Data Scientist (Product Analyst) - Oslo</th>\n      <td>UserTesting</td>\n      <td>2020-12-08</td>\n      <td>Oslo</td>\n    </tr>\n    <tr>\n      <th>Product Analyst - Oslo</th>\n      <td>VEV AS</td>\n      <td>2021-01-23</td>\n      <td>Oslo</td>\n    </tr>\n    <tr>\n      <th>Product Analyst - Oslo</th>\n      <td>Vev</td>\n      <td>2021-01-24</td>\n      <td>Oslo</td>\n    </tr>\n    <tr>\n      <th>Budget Analyst - Flexible Office Homeoffice Remote - Talent</th>\n      <td>Talent</td>\n      <td>2021-01-23</td>\n      <td>Oslo</td>\n    </tr>\n    <tr>\n      <th>Data Architect - Flexible Office Homeoffice Remote - Talent</th>\n      <td>Talent</td>\n      <td>2021-01-23</td>\n      <td>Oslo</td>\n    </tr>\n    <tr>\n      <th>ICT Business Analyst - Talent</th>\n      <td>Talent</td>\n      <td>2021-01-23</td>\n      <td>Oslo</td>\n    </tr>\n    <tr>\n      <th>Water Quality Analyst - Talent</th>\n      <td>Talent</td>\n      <td>2021-01-23</td>\n      <td>Oslo</td>\n    </tr>\n    <tr>\n      <th>Statistician - Oslo</th>\n      <td>KnowBe4</td>\n      <td>2021-01-21</td>\n      <td>Oslo</td>\n    </tr>\n    <tr>\n      <th>Financial Specialist - Flexible Office Homeoffice Remote - Talent</th>\n      <td>Talent</td>\n      <td>2021-01-23</td>\n      <td>Oslo</td>\n    </tr>\n    <tr>\n      <th>Cost Accountant - Flexible Office Homeoffice Remote - Talent</th>\n      <td>Talent</td>\n      <td>2021-01-23</td>\n      <td>Oslo</td>\n    </tr>\n    <tr>\n      <th>Explore and make sense of large datasets to improve cybersecurity - Oslo</th>\n      <td>CLTRE AS</td>\n      <td>2021-01-21</td>\n      <td>Oslo</td>\n    </tr>\n  </tbody>\n</table>\n</div>"
     },
     "execution_count": 17,
     "metadata": {},
     "output_type": "execute_result"
    }
   ],
   "source": [
    "df4 = df2.join(new5, how = 'left')\n",
    "df4.drop(columns = [\"City2\"], inplace = True)\n",
    "df4.set_index('Title', inplace = True)\n",
    "df4"
   ],
   "metadata": {
    "collapsed": false,
    "pycharm": {
     "name": "#%%\n"
    }
   }
  },
  {
   "cell_type": "markdown",
   "source": [
    "create CSV, with todays Date"
   ],
   "metadata": {
    "collapsed": false
   }
  },
  {
   "cell_type": "code",
   "execution_count": 18,
   "outputs": [],
   "source": [
    "date_object = datetime.date.today()\n",
    "date = str(date_object) + '_'\n",
    "date\n",
    "\n",
    "df4.to_csv('C:/Users/Marc/Dropbox/01_Marc Arnold/Python Projects/04_Job Viz/02_Output/' + date + city + '_' + country + '.csv')"
   ],
   "metadata": {
    "collapsed": false,
    "pycharm": {
     "name": "#%%\n"
    }
   }
  },
  {
   "cell_type": "markdown",
   "source": [
    "concat new jobs to existing list"
   ],
   "metadata": {
    "collapsed": false
   }
  },
  {
   "cell_type": "code",
   "execution_count": 19,
   "outputs": [
    {
     "data": {
      "text/plain": "                                                       Company   Post Date  \\\nTitle                                                                        \nData Analyst                                      EPAM Systems  2021-01-15   \nGlobal Digital Data Analyst                La Prairie Group AG  2021-01-17   \nBusiness Analyst                     Tata Consultancy Services  2021-01-14   \nBusiness Intelligence Analyst (80%)       Spitex Zürich Limmat  2021-01-22   \nBusiness Analyst (m/w), Zurich                       MoneyPark  2021-01-22   \n\n                                        City  \nTitle                                         \nData Analyst                          Zurich  \nGlobal Digital Data Analyst           Zurich  \nBusiness Analyst                      Zurich  \nBusiness Intelligence Analyst (80%)   Zurich  \nBusiness Analyst (m/w), Zurich       Schlatt  ",
      "text/html": "<div>\n<style scoped>\n    .dataframe tbody tr th:only-of-type {\n        vertical-align: middle;\n    }\n\n    .dataframe tbody tr th {\n        vertical-align: top;\n    }\n\n    .dataframe thead th {\n        text-align: right;\n    }\n</style>\n<table border=\"1\" class=\"dataframe\">\n  <thead>\n    <tr style=\"text-align: right;\">\n      <th></th>\n      <th>Company</th>\n      <th>Post Date</th>\n      <th>City</th>\n    </tr>\n    <tr>\n      <th>Title</th>\n      <th></th>\n      <th></th>\n      <th></th>\n    </tr>\n  </thead>\n  <tbody>\n    <tr>\n      <th>Data Analyst</th>\n      <td>EPAM Systems</td>\n      <td>2021-01-15</td>\n      <td>Zurich</td>\n    </tr>\n    <tr>\n      <th>Global Digital Data Analyst</th>\n      <td>La Prairie Group AG</td>\n      <td>2021-01-17</td>\n      <td>Zurich</td>\n    </tr>\n    <tr>\n      <th>Business Analyst</th>\n      <td>Tata Consultancy Services</td>\n      <td>2021-01-14</td>\n      <td>Zurich</td>\n    </tr>\n    <tr>\n      <th>Business Intelligence Analyst (80%)</th>\n      <td>Spitex Zürich Limmat</td>\n      <td>2021-01-22</td>\n      <td>Zurich</td>\n    </tr>\n    <tr>\n      <th>Business Analyst (m/w), Zurich</th>\n      <td>MoneyPark</td>\n      <td>2021-01-22</td>\n      <td>Schlatt</td>\n    </tr>\n  </tbody>\n</table>\n</div>"
     },
     "execution_count": 19,
     "metadata": {},
     "output_type": "execute_result"
    }
   ],
   "source": [
    "final_df = pd.read_csv('C:/Users/Marc/Dropbox/01_Marc Arnold/Python Projects/04_Job Viz/02_Output/01_Final DF/Final_DF_LinkedIN Jobs.csv')\n",
    "final_df.set_index('Title', inplace = True)\n",
    "final_df.head()"
   ],
   "metadata": {
    "collapsed": false,
    "pycharm": {
     "name": "#%%\n"
    }
   }
  },
  {
   "cell_type": "code",
   "execution_count": 20,
   "outputs": [
    {
     "data": {
      "text/plain": "                                                       Company   Post Date  \\\nTitle                                                                        \nData Analyst                                      EPAM Systems  2021-01-15   \nGlobal Digital Data Analyst                La Prairie Group AG  2021-01-17   \nBusiness Analyst                     Tata Consultancy Services  2021-01-14   \nBusiness Intelligence Analyst (80%)       Spitex Zürich Limmat  2021-01-22   \nBusiness Analyst (m/w), Zurich                       MoneyPark  2021-01-22   \n\n                                        City  \nTitle                                         \nData Analyst                          Zurich  \nGlobal Digital Data Analyst           Zurich  \nBusiness Analyst                      Zurich  \nBusiness Intelligence Analyst (80%)   Zurich  \nBusiness Analyst (m/w), Zurich       Schlatt  ",
      "text/html": "<div>\n<style scoped>\n    .dataframe tbody tr th:only-of-type {\n        vertical-align: middle;\n    }\n\n    .dataframe tbody tr th {\n        vertical-align: top;\n    }\n\n    .dataframe thead th {\n        text-align: right;\n    }\n</style>\n<table border=\"1\" class=\"dataframe\">\n  <thead>\n    <tr style=\"text-align: right;\">\n      <th></th>\n      <th>Company</th>\n      <th>Post Date</th>\n      <th>City</th>\n    </tr>\n    <tr>\n      <th>Title</th>\n      <th></th>\n      <th></th>\n      <th></th>\n    </tr>\n  </thead>\n  <tbody>\n    <tr>\n      <th>Data Analyst</th>\n      <td>EPAM Systems</td>\n      <td>2021-01-15</td>\n      <td>Zurich</td>\n    </tr>\n    <tr>\n      <th>Global Digital Data Analyst</th>\n      <td>La Prairie Group AG</td>\n      <td>2021-01-17</td>\n      <td>Zurich</td>\n    </tr>\n    <tr>\n      <th>Business Analyst</th>\n      <td>Tata Consultancy Services</td>\n      <td>2021-01-14</td>\n      <td>Zurich</td>\n    </tr>\n    <tr>\n      <th>Business Intelligence Analyst (80%)</th>\n      <td>Spitex Zürich Limmat</td>\n      <td>2021-01-22</td>\n      <td>Zurich</td>\n    </tr>\n    <tr>\n      <th>Business Analyst (m/w), Zurich</th>\n      <td>MoneyPark</td>\n      <td>2021-01-22</td>\n      <td>Schlatt</td>\n    </tr>\n  </tbody>\n</table>\n</div>"
     },
     "execution_count": 20,
     "metadata": {},
     "output_type": "execute_result"
    }
   ],
   "source": [
    "dfWIP = pd.concat([final_df, df4], axis=0)\n",
    "dfWIP.head()"
   ],
   "metadata": {
    "collapsed": false,
    "pycharm": {
     "name": "#%%\n"
    }
   }
  },
  {
   "cell_type": "markdown",
   "source": [
    "drop duplicated rows"
   ],
   "metadata": {
    "collapsed": false,
    "pycharm": {
     "name": "#%% md\n"
    }
   }
  },
  {
   "cell_type": "code",
   "execution_count": 21,
   "outputs": [
    {
     "data": {
      "text/plain": "                                                                      Company  \\\nTitle                                                                           \nData Analyst                                                     EPAM Systems   \nGlobal Digital Data Analyst                               La Prairie Group AG   \nBusiness Analyst                                    Tata Consultancy Services   \nBusiness Intelligence Analyst (80%)                      Spitex Zürich Limmat   \nBusiness Analyst (m/w), Zurich                                      MoneyPark   \n...                                                                       ...   \nData Scientist (Product Analyst) - Oslo                           UserTesting   \nProduct Analyst - Oslo                                                 VEV AS   \nProduct Analyst - Oslo                                                    Vev   \nStatistician - Oslo                                                   KnowBe4   \nExplore and make sense of large datasets to imp...                   CLTRE AS   \n\n                                                     Post Date     City  \nTitle                                                                    \nData Analyst                                        2021-01-15   Zurich  \nGlobal Digital Data Analyst                         2021-01-17   Zurich  \nBusiness Analyst                                    2021-01-14   Zurich  \nBusiness Intelligence Analyst (80%)                 2021-01-22   Zurich  \nBusiness Analyst (m/w), Zurich                      2021-01-22  Schlatt  \n...                                                        ...      ...  \nData Scientist (Product Analyst) - Oslo             2020-12-08     Oslo  \nProduct Analyst - Oslo                              2021-01-23     Oslo  \nProduct Analyst - Oslo                              2021-01-24     Oslo  \nStatistician - Oslo                                 2021-01-21     Oslo  \nExplore and make sense of large datasets to imp...  2021-01-21     Oslo  \n\n[91 rows x 3 columns]",
      "text/html": "<div>\n<style scoped>\n    .dataframe tbody tr th:only-of-type {\n        vertical-align: middle;\n    }\n\n    .dataframe tbody tr th {\n        vertical-align: top;\n    }\n\n    .dataframe thead th {\n        text-align: right;\n    }\n</style>\n<table border=\"1\" class=\"dataframe\">\n  <thead>\n    <tr style=\"text-align: right;\">\n      <th></th>\n      <th>Company</th>\n      <th>Post Date</th>\n      <th>City</th>\n    </tr>\n    <tr>\n      <th>Title</th>\n      <th></th>\n      <th></th>\n      <th></th>\n    </tr>\n  </thead>\n  <tbody>\n    <tr>\n      <th>Data Analyst</th>\n      <td>EPAM Systems</td>\n      <td>2021-01-15</td>\n      <td>Zurich</td>\n    </tr>\n    <tr>\n      <th>Global Digital Data Analyst</th>\n      <td>La Prairie Group AG</td>\n      <td>2021-01-17</td>\n      <td>Zurich</td>\n    </tr>\n    <tr>\n      <th>Business Analyst</th>\n      <td>Tata Consultancy Services</td>\n      <td>2021-01-14</td>\n      <td>Zurich</td>\n    </tr>\n    <tr>\n      <th>Business Intelligence Analyst (80%)</th>\n      <td>Spitex Zürich Limmat</td>\n      <td>2021-01-22</td>\n      <td>Zurich</td>\n    </tr>\n    <tr>\n      <th>Business Analyst (m/w), Zurich</th>\n      <td>MoneyPark</td>\n      <td>2021-01-22</td>\n      <td>Schlatt</td>\n    </tr>\n    <tr>\n      <th>...</th>\n      <td>...</td>\n      <td>...</td>\n      <td>...</td>\n    </tr>\n    <tr>\n      <th>Data Scientist (Product Analyst) - Oslo</th>\n      <td>UserTesting</td>\n      <td>2020-12-08</td>\n      <td>Oslo</td>\n    </tr>\n    <tr>\n      <th>Product Analyst - Oslo</th>\n      <td>VEV AS</td>\n      <td>2021-01-23</td>\n      <td>Oslo</td>\n    </tr>\n    <tr>\n      <th>Product Analyst - Oslo</th>\n      <td>Vev</td>\n      <td>2021-01-24</td>\n      <td>Oslo</td>\n    </tr>\n    <tr>\n      <th>Statistician - Oslo</th>\n      <td>KnowBe4</td>\n      <td>2021-01-21</td>\n      <td>Oslo</td>\n    </tr>\n    <tr>\n      <th>Explore and make sense of large datasets to improve cybersecurity - Oslo</th>\n      <td>CLTRE AS</td>\n      <td>2021-01-21</td>\n      <td>Oslo</td>\n    </tr>\n  </tbody>\n</table>\n<p>91 rows × 3 columns</p>\n</div>"
     },
     "execution_count": 21,
     "metadata": {},
     "output_type": "execute_result"
    }
   ],
   "source": [
    "new_final_df = dfWIP.drop_duplicates()\n",
    "new_final_df"
   ],
   "metadata": {
    "collapsed": false,
    "pycharm": {
     "name": "#%%\n"
    }
   }
  },
  {
   "cell_type": "code",
   "execution_count": 22,
   "outputs": [],
   "source": [
    "new_final_df.to_csv('C:/Users/Marc/Dropbox/01_Marc Arnold/Python Projects/04_Job Viz/02_Output/01_Final DF/Final_DF_LinkedIN Jobs.csv')\n",
    "\n"
   ],
   "metadata": {
    "collapsed": false,
    "pycharm": {
     "name": "#%%\n"
    }
   }
  }
 ],
 "metadata": {
  "kernelspec": {
   "display_name": "Python 3",
   "language": "python",
   "name": "python3"
  },
  "language_info": {
   "codemirror_mode": {
    "name": "ipython",
    "version": 2
   },
   "file_extension": ".py",
   "mimetype": "text/x-python",
   "name": "python",
   "nbconvert_exporter": "python",
   "pygments_lexer": "ipython2",
   "version": "2.7.6"
  }
 },
 "nbformat": 4,
 "nbformat_minor": 0
}