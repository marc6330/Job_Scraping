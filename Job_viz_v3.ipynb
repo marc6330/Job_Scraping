{
 "cells": [
  {
   "cell_type": "markdown",
   "source": [
    "Steps:\n",
    "- Scarping Job postings with Selenium and bs4\n",
    "- Visualize in Tableau or PowerBI"
   ],
   "metadata": {
    "collapsed": false
   }
  },
  {
   "cell_type": "markdown",
   "source": [
    "import necessary modules - first try with BeautifulSoup"
   ],
   "metadata": {
    "collapsed": false
   }
  },
  {
   "cell_type": "code",
   "execution_count": 71,
   "outputs": [],
   "source": [
    "import driver as driver\n",
    "import pandas as pd\n",
    "import re\n",
    "import lxml\n",
    "from bs4 import BeautifulSoup\n",
    "from datetime import date, timedelta, datetime\n",
    "from IPython.core.display import clear_output\n",
    "from random import randint\n",
    "from requests import get\n",
    "from selenium import webdriver\n",
    "from selenium.webdriver.common.action_chains import ActionChains\n",
    "from time import sleep\n",
    "from time import time\n",
    "import datetime\n",
    "start_time = time()\n",
    "\n",
    "from warnings import warn\n"
   ],
   "metadata": {
    "collapsed": false,
    "pycharm": {
     "name": "#%%\n"
    }
   }
  },
  {
   "cell_type": "markdown",
   "source": [
    "Select wanted url"
   ],
   "metadata": {
    "collapsed": false
   }
  },
  {
   "cell_type": "code",
   "execution_count": 72,
   "outputs": [
    {
     "data": {
      "text/plain": "'https://www.linkedin.com/jobs/search?keywords=Consulting&location=Berlin%2C%20%2C%20Germany'"
     },
     "execution_count": 72,
     "metadata": {},
     "output_type": "execute_result"
    }
   ],
   "source": [
    "job_kind = str(input('Please enter the kind of job you want to work in (e.g. Data Analyst)'))\n",
    "city = str(input('Please enter the city you want to work in'))\n",
    "state = str(input('Please enter the state you want to work in'))\n",
    "country = str(input('Please enter the country you want to work in'))\n",
    "url = 'https://www.linkedin.com/jobs/search?keywords=' + job_kind + '&location='+ city + '%2C%20'+ state +'%2C%20'+ country\n",
    "\n",
    "no_of_jobs = 51\n",
    "\n",
    "url\n",
    "\n"
   ],
   "metadata": {
    "collapsed": false,
    "pycharm": {
     "name": "#%%\n"
    }
   }
  },
  {
   "cell_type": "markdown",
   "source": [
    "open windows with url stated above in"
   ],
   "metadata": {
    "collapsed": false
   }
  },
  {
   "cell_type": "code",
   "execution_count": 73,
   "outputs": [],
   "source": [
    "driver = webdriver.Chrome()\n",
    "driver.get(url)\n",
    "sleep(3)\n",
    "action = ActionChains(driver)"
   ],
   "metadata": {
    "collapsed": false,
    "pycharm": {
     "name": "#%%\n"
    }
   }
  },
  {
   "cell_type": "markdown",
   "source": [
    "to show more jobs than the initial 25"
   ],
   "metadata": {
    "collapsed": false
   }
  },
  {
   "cell_type": "code",
   "execution_count": 74,
   "outputs": [],
   "source": [
    "driver.execute_script(\"window.scrollTo(0,document.body.scrollHeight)\")\n",
    "sleep(20)\n",
    "\n"
   ],
   "metadata": {
    "collapsed": false,
    "pycharm": {
     "name": "#%%\n"
    }
   }
  },
  {
   "cell_type": "markdown",
   "source": [
    "parsing the visible webpage"
   ],
   "metadata": {
    "collapsed": false
   }
  },
  {
   "cell_type": "code",
   "execution_count": 75,
   "outputs": [],
   "source": [
    "pageSource = driver.page_source\n",
    "soup = BeautifulSoup(pageSource,  \"html.parser\")\n",
    "\n"
   ],
   "metadata": {
    "collapsed": false,
    "pycharm": {
     "name": "#%%\n"
    }
   }
  },
  {
   "cell_type": "markdown",
   "source": [
    "Parsing content"
   ],
   "metadata": {
    "collapsed": false
   }
  },
  {
   "cell_type": "code",
   "execution_count": 76,
   "outputs": [
    {
     "name": "stdout",
     "output_type": "stream",
     "text": [
      "Strategy Consultant\n",
      "Zalando SE\n"
     ]
    }
   ],
   "source": [
    "first_job = soup.find('h3', class_ = 'result-card__title job-result-card__title').text\n",
    "print(first_job)\n",
    "\n",
    "first_company = soup.find('a', class_ = 'result-card__subtitle-link job-result-card__subtitle-link').text\n",
    "print(first_company)"
   ],
   "metadata": {
    "collapsed": false,
    "pycharm": {
     "name": "#%%\n"
    }
   }
  },
  {
   "cell_type": "markdown",
   "source": [
    "Create job container"
   ],
   "metadata": {
    "collapsed": false
   }
  },
  {
   "cell_type": "code",
   "execution_count": 77,
   "outputs": [
    {
     "name": "stdout",
     "output_type": "stream",
     "text": [
      "46\n"
     ]
    }
   ],
   "source": [
    "job_container = soup.find('ul', class_=\"jobs-search__results-list\")\n",
    "print(len(job_container))"
   ],
   "metadata": {
    "collapsed": false,
    "pycharm": {
     "name": "#%%\n"
    }
   }
  },
  {
   "cell_type": "markdown",
   "source": [
    "create for loop to look for all jobs"
   ],
   "metadata": {
    "collapsed": false
   }
  },
  {
   "cell_type": "code",
   "execution_count": 78,
   "outputs": [
    {
     "name": "stdout",
     "output_type": "stream",
     "text": [
      "You are scraping information about 46 jobs.\n"
     ]
    }
   ],
   "source": [
    "print('You are scraping information about {} jobs.'.format(len(job_container)))"
   ],
   "metadata": {
    "collapsed": false,
    "pycharm": {
     "name": "#%%\n"
    }
   }
  },
  {
   "cell_type": "code",
   "execution_count": 79,
   "outputs": [],
   "source": [
    "job_titles = []\n",
    "companies = []\n",
    "locations = []\n",
    "time = []\n",
    "date = []\n",
    "\n",
    "\n",
    "for jobs in job_container:\n",
    "    post_title = jobs.find('h3', class_ = 'result-card__title job-result-card__title').text\n",
    "    job_titles.append(post_title)\n",
    "\n",
    "    post_company = jobs.find('h4', class_ = 'result-card__subtitle job-result-card__subtitle').text\n",
    "    companies.append(post_company)\n",
    "\n",
    "    post_locations = jobs.find('span', class_ = 'job-result-card__location').text\n",
    "    locations.append(post_locations)\n",
    "\n",
    "    post_date = jobs.select_one('time')['datetime']\n",
    "    date.append(post_date)\n"
   ],
   "metadata": {
    "collapsed": false,
    "pycharm": {
     "name": "#%%\n"
    }
   }
  },
  {
   "cell_type": "code",
   "execution_count": 80,
   "outputs": [
    {
     "name": "stdout",
     "output_type": "stream",
     "text": [
      "{'Title': ['Strategy Consultant', 'Associate', 'Junior Consultant - Risk Management', 'Associate Consultant (m / f / d)', 'Operations Manager', 'Economic Consulting Research Officer (m/f/d) Energy, Environment, Communications and Infrastructure', 'Head of Consulting (m/f/x) ', 'Project Manager Innovation - Culture Transformation/Learning (m/f/x)', 'Investment Analyst', 'Energy Policy Internship – DACH (m/w/d)', 'Graduate Professional Services Consultant', 'Business Operations and Strategy Associate (f/m/d)', 'Chief of Staff', 'Jr. Analyst', 'Investor', 'Organisational Development (various levels)', 'Internship', 'Senior Associate', 'Senior Associate Consultant (m/f/x) | Berlin', 'Strategic Project Lead (m/f/d)', 'Business Analyst / Consultant (m/w/d) Public', '(Associate) Consultant (gn)', 'Digital Transformation Consultant, Google Cloud', 'BERLIN - Chief of Staff (m/f/x)', 'Business Program Manager', 'Investment Specialist', 'Strategic Project Lead (m/f/d)', 'Consultant - Risk Management', 'Venture Co-Founder (m/f/d)', 'Intern (m/w/d) im Consulting', 'Junior Associate - Global Market Insights 2021', 'Consultant (m/w/d) (Young Professional)', 'Associate Consultant', 'Manager | Consulting Manager (m/w/d)', 'Venture Capital Intern', 'Consultant for Top Global Consulting Firm (Dubai & KSA)', 'Entrepreneur in Residence (Berlin or Helsinki)', 'Consultant for Top Global Consulting Firm (Dubai & KSA)', 'Head of Consulting (m/f/x)', 'Internship Digital Inhouse Consulting & Investment Management', 'Business Development & Sales Expert', 'Intern Management Consulting (m/f/d)', 'Strategy & Finance Associate', 'Co-Founder / Managing Director', 'Internship Digital Inhouse Consulting & Investment Management', 'Venture Development - Intern 🚀'], 'Company': ['Zalando SE', 'Atheneum', 'McKinsey & Company', 'UpSlide', 'Approach People Recruitment', 'NERA Economic Consulting', 'Hubject', 'Forever Day One', 'AVOMIND', 'Tesla', 'Amazon Web Services (AWS)', 'Gorillas', 'gitti Conscious Beauty', 'Smart Wires Inc.', 'Flash Ventures', 'Klarna', 'IEG', 'Gaia Capital Partners', 'accilium', 'Raisin', 'Deloitte Deutschland', 'SEEK Development GmbH', 'Google', 'HelloBody', 'Microsoft', 'Costa Norte & Company GmbH & Co.KG', 'Raisin', 'McKinsey & Company', 'Flagship Founders', 'TruVenturo GmbH', 'Atheneum', 'SERVICEWARE SE', 'Veeva Systems', 'Cerner Corporation', 'Redstone', 'Turas Group', 'Cooler Future', 'Turas Group', 'Hubject', 'Axel Springer SE', 'Impact Hub Berlin', 'scaleon', 'scoutbee', 'Excelling Ventures', 'Axel Springer SE', 'FixFirst - Accelerating Circularity'], 'Locations': ['Berlin, Berlin, Germany', 'Berlin, Germany', 'Berlin, Berlin, Germany', 'Berlin, Berlin, Germany', 'Berlin, Germany', 'Berlin, Germany', 'Berlin, Germany', 'Berlin, Germany', 'Berlin, Berlin, Germany', 'Berlin, Berlin, Germany', 'Berlin, Berlin, Germany', 'Berlin, Berlin, Germany', 'Berlin, Berlin, Germany', 'Berlin, Germany', 'Berlin, Germany', 'Berlin, Berlin, Germany', 'Berlin, Berlin, Germany', 'Berlin, Berlin, Germany', 'Berlin Metropolitan Area', 'Berlin, Germany', 'Berlin, Berlin, Germany', 'Berlin, Berlin, Germany', 'Berlin, Berlin, Germany', 'Berlin, Berlin, Germany', 'Berlin, Berlin, Germany', 'Berlin, Germany', 'Berlin, Berlin, Germany', 'Berlin, Berlin, Germany', 'Berlin, Berlin, Germany', 'Berlin, Germany', 'Berlin, Berlin, Germany', 'Berlin, Germany', 'Berlin, Berlin, Germany', 'Berlin, Berlin, Germany', 'Berlin, Berlin, Germany', 'Berlin, Berlin, Germany', 'Berlin, Germany', 'Berlin, Berlin, Germany', 'Berlin, Berlin, Germany', 'Berlin, Berlin, Germany', 'Berlin, Germany', 'Berlin, Berlin, Germany', 'Berlin, Germany', 'Berlin, Berlin, Germany', 'Berlin, Berlin, Germany', 'Berlin, Berlin, Germany'], 'Post Date': ['2021-01-28', '2021-01-26', '2020-11-26', '2021-01-29', '2021-02-03', '2021-02-03', '2021-01-24', '2021-01-31', '2020-12-17', '2020-11-06', '2021-01-07', '2021-01-24', '2021-01-27', '2021-01-27', '2021-02-02', '2021-01-14', '2020-12-30', '2021-01-27', '2021-01-22', '2021-02-01', '2020-12-30', '2021-01-26', '2021-01-30', '2021-01-27', '2021-01-21', '2021-02-02', '2021-01-26', '2020-11-26', '2021-01-28', '2021-01-18', '2021-01-27', '2021-01-13', '2021-01-12', '2021-01-10', '2020-12-27', '2020-10-16', '2021-01-28', '2021-01-25', '2021-01-25', '2021-01-07', '2021-01-28', '2021-02-03', '2021-01-12', '2021-01-22', '2021-01-06', '2021-02-01']}\n"
     ]
    }
   ],
   "source": [
    "ml = {'Title': job_titles, 'Company': companies, 'Locations': locations, 'Post Date': date}\n",
    "print(ml)"
   ],
   "metadata": {
    "collapsed": false,
    "pycharm": {
     "name": "#%%\n"
    }
   }
  },
  {
   "cell_type": "code",
   "execution_count": 81,
   "outputs": [
    {
     "data": {
      "text/plain": "                 Title     Company                Locations   Post Date\n0  Strategy Consultant  Zalando SE  Berlin, Berlin, Germany  2021-01-28",
      "text/html": "<div>\n<style scoped>\n    .dataframe tbody tr th:only-of-type {\n        vertical-align: middle;\n    }\n\n    .dataframe tbody tr th {\n        vertical-align: top;\n    }\n\n    .dataframe thead th {\n        text-align: right;\n    }\n</style>\n<table border=\"1\" class=\"dataframe\">\n  <thead>\n    <tr style=\"text-align: right;\">\n      <th></th>\n      <th>Title</th>\n      <th>Company</th>\n      <th>Locations</th>\n      <th>Post Date</th>\n    </tr>\n  </thead>\n  <tbody>\n    <tr>\n      <th>0</th>\n      <td>Strategy Consultant</td>\n      <td>Zalando SE</td>\n      <td>Berlin, Berlin, Germany</td>\n      <td>2021-01-28</td>\n    </tr>\n  </tbody>\n</table>\n</div>"
     },
     "execution_count": 81,
     "metadata": {},
     "output_type": "execute_result"
    }
   ],
   "source": [
    "df = pd.DataFrame(ml)\n",
    "df.head(1)"
   ],
   "metadata": {
    "collapsed": false,
    "pycharm": {
     "name": "#%%\n"
    }
   }
  },
  {
   "cell_type": "markdown",
   "source": [
    "Separate City from State and Country\n"
   ],
   "metadata": {
    "collapsed": false
   }
  },
  {
   "cell_type": "code",
   "execution_count": 82,
   "outputs": [],
   "source": [
    "new = df.Locations.str.split(',', n = 0, expand = True)"
   ],
   "metadata": {
    "collapsed": false,
    "pycharm": {
     "name": "#%%\n"
    }
   }
  },
  {
   "cell_type": "code",
   "execution_count": 83,
   "outputs": [],
   "source": [
    "new2 = new.rename(columns = {0: 'City2'})"
   ],
   "metadata": {
    "collapsed": false,
    "pycharm": {
     "name": "#%%\n"
    }
   }
  },
  {
   "cell_type": "code",
   "execution_count": 84,
   "outputs": [
    {
     "data": {
      "text/plain": "                       City2         1         2\n0                     Berlin    Berlin   Germany\n1                     Berlin   Germany      None\n2                     Berlin    Berlin   Germany\n3                     Berlin    Berlin   Germany\n4                     Berlin   Germany      None\n5                     Berlin   Germany      None\n6                     Berlin   Germany      None\n7                     Berlin   Germany      None\n8                     Berlin    Berlin   Germany\n9                     Berlin    Berlin   Germany\n10                    Berlin    Berlin   Germany\n11                    Berlin    Berlin   Germany\n12                    Berlin    Berlin   Germany\n13                    Berlin   Germany      None\n14                    Berlin   Germany      None\n15                    Berlin    Berlin   Germany\n16                    Berlin    Berlin   Germany\n17                    Berlin    Berlin   Germany\n18  Berlin Metropolitan Area      None      None\n19                    Berlin   Germany      None\n20                    Berlin    Berlin   Germany\n21                    Berlin    Berlin   Germany\n22                    Berlin    Berlin   Germany\n23                    Berlin    Berlin   Germany\n24                    Berlin    Berlin   Germany\n25                    Berlin   Germany      None\n26                    Berlin    Berlin   Germany\n27                    Berlin    Berlin   Germany\n28                    Berlin    Berlin   Germany\n29                    Berlin   Germany      None\n30                    Berlin    Berlin   Germany\n31                    Berlin   Germany      None\n32                    Berlin    Berlin   Germany\n33                    Berlin    Berlin   Germany\n34                    Berlin    Berlin   Germany\n35                    Berlin    Berlin   Germany\n36                    Berlin   Germany      None\n37                    Berlin    Berlin   Germany\n38                    Berlin    Berlin   Germany\n39                    Berlin    Berlin   Germany\n40                    Berlin   Germany      None\n41                    Berlin    Berlin   Germany\n42                    Berlin   Germany      None\n43                    Berlin    Berlin   Germany\n44                    Berlin    Berlin   Germany\n45                    Berlin    Berlin   Germany",
      "text/html": "<div>\n<style scoped>\n    .dataframe tbody tr th:only-of-type {\n        vertical-align: middle;\n    }\n\n    .dataframe tbody tr th {\n        vertical-align: top;\n    }\n\n    .dataframe thead th {\n        text-align: right;\n    }\n</style>\n<table border=\"1\" class=\"dataframe\">\n  <thead>\n    <tr style=\"text-align: right;\">\n      <th></th>\n      <th>City2</th>\n      <th>1</th>\n      <th>2</th>\n    </tr>\n  </thead>\n  <tbody>\n    <tr>\n      <th>0</th>\n      <td>Berlin</td>\n      <td>Berlin</td>\n      <td>Germany</td>\n    </tr>\n    <tr>\n      <th>1</th>\n      <td>Berlin</td>\n      <td>Germany</td>\n      <td>None</td>\n    </tr>\n    <tr>\n      <th>2</th>\n      <td>Berlin</td>\n      <td>Berlin</td>\n      <td>Germany</td>\n    </tr>\n    <tr>\n      <th>3</th>\n      <td>Berlin</td>\n      <td>Berlin</td>\n      <td>Germany</td>\n    </tr>\n    <tr>\n      <th>4</th>\n      <td>Berlin</td>\n      <td>Germany</td>\n      <td>None</td>\n    </tr>\n    <tr>\n      <th>5</th>\n      <td>Berlin</td>\n      <td>Germany</td>\n      <td>None</td>\n    </tr>\n    <tr>\n      <th>6</th>\n      <td>Berlin</td>\n      <td>Germany</td>\n      <td>None</td>\n    </tr>\n    <tr>\n      <th>7</th>\n      <td>Berlin</td>\n      <td>Germany</td>\n      <td>None</td>\n    </tr>\n    <tr>\n      <th>8</th>\n      <td>Berlin</td>\n      <td>Berlin</td>\n      <td>Germany</td>\n    </tr>\n    <tr>\n      <th>9</th>\n      <td>Berlin</td>\n      <td>Berlin</td>\n      <td>Germany</td>\n    </tr>\n    <tr>\n      <th>10</th>\n      <td>Berlin</td>\n      <td>Berlin</td>\n      <td>Germany</td>\n    </tr>\n    <tr>\n      <th>11</th>\n      <td>Berlin</td>\n      <td>Berlin</td>\n      <td>Germany</td>\n    </tr>\n    <tr>\n      <th>12</th>\n      <td>Berlin</td>\n      <td>Berlin</td>\n      <td>Germany</td>\n    </tr>\n    <tr>\n      <th>13</th>\n      <td>Berlin</td>\n      <td>Germany</td>\n      <td>None</td>\n    </tr>\n    <tr>\n      <th>14</th>\n      <td>Berlin</td>\n      <td>Germany</td>\n      <td>None</td>\n    </tr>\n    <tr>\n      <th>15</th>\n      <td>Berlin</td>\n      <td>Berlin</td>\n      <td>Germany</td>\n    </tr>\n    <tr>\n      <th>16</th>\n      <td>Berlin</td>\n      <td>Berlin</td>\n      <td>Germany</td>\n    </tr>\n    <tr>\n      <th>17</th>\n      <td>Berlin</td>\n      <td>Berlin</td>\n      <td>Germany</td>\n    </tr>\n    <tr>\n      <th>18</th>\n      <td>Berlin Metropolitan Area</td>\n      <td>None</td>\n      <td>None</td>\n    </tr>\n    <tr>\n      <th>19</th>\n      <td>Berlin</td>\n      <td>Germany</td>\n      <td>None</td>\n    </tr>\n    <tr>\n      <th>20</th>\n      <td>Berlin</td>\n      <td>Berlin</td>\n      <td>Germany</td>\n    </tr>\n    <tr>\n      <th>21</th>\n      <td>Berlin</td>\n      <td>Berlin</td>\n      <td>Germany</td>\n    </tr>\n    <tr>\n      <th>22</th>\n      <td>Berlin</td>\n      <td>Berlin</td>\n      <td>Germany</td>\n    </tr>\n    <tr>\n      <th>23</th>\n      <td>Berlin</td>\n      <td>Berlin</td>\n      <td>Germany</td>\n    </tr>\n    <tr>\n      <th>24</th>\n      <td>Berlin</td>\n      <td>Berlin</td>\n      <td>Germany</td>\n    </tr>\n    <tr>\n      <th>25</th>\n      <td>Berlin</td>\n      <td>Germany</td>\n      <td>None</td>\n    </tr>\n    <tr>\n      <th>26</th>\n      <td>Berlin</td>\n      <td>Berlin</td>\n      <td>Germany</td>\n    </tr>\n    <tr>\n      <th>27</th>\n      <td>Berlin</td>\n      <td>Berlin</td>\n      <td>Germany</td>\n    </tr>\n    <tr>\n      <th>28</th>\n      <td>Berlin</td>\n      <td>Berlin</td>\n      <td>Germany</td>\n    </tr>\n    <tr>\n      <th>29</th>\n      <td>Berlin</td>\n      <td>Germany</td>\n      <td>None</td>\n    </tr>\n    <tr>\n      <th>30</th>\n      <td>Berlin</td>\n      <td>Berlin</td>\n      <td>Germany</td>\n    </tr>\n    <tr>\n      <th>31</th>\n      <td>Berlin</td>\n      <td>Germany</td>\n      <td>None</td>\n    </tr>\n    <tr>\n      <th>32</th>\n      <td>Berlin</td>\n      <td>Berlin</td>\n      <td>Germany</td>\n    </tr>\n    <tr>\n      <th>33</th>\n      <td>Berlin</td>\n      <td>Berlin</td>\n      <td>Germany</td>\n    </tr>\n    <tr>\n      <th>34</th>\n      <td>Berlin</td>\n      <td>Berlin</td>\n      <td>Germany</td>\n    </tr>\n    <tr>\n      <th>35</th>\n      <td>Berlin</td>\n      <td>Berlin</td>\n      <td>Germany</td>\n    </tr>\n    <tr>\n      <th>36</th>\n      <td>Berlin</td>\n      <td>Germany</td>\n      <td>None</td>\n    </tr>\n    <tr>\n      <th>37</th>\n      <td>Berlin</td>\n      <td>Berlin</td>\n      <td>Germany</td>\n    </tr>\n    <tr>\n      <th>38</th>\n      <td>Berlin</td>\n      <td>Berlin</td>\n      <td>Germany</td>\n    </tr>\n    <tr>\n      <th>39</th>\n      <td>Berlin</td>\n      <td>Berlin</td>\n      <td>Germany</td>\n    </tr>\n    <tr>\n      <th>40</th>\n      <td>Berlin</td>\n      <td>Germany</td>\n      <td>None</td>\n    </tr>\n    <tr>\n      <th>41</th>\n      <td>Berlin</td>\n      <td>Berlin</td>\n      <td>Germany</td>\n    </tr>\n    <tr>\n      <th>42</th>\n      <td>Berlin</td>\n      <td>Germany</td>\n      <td>None</td>\n    </tr>\n    <tr>\n      <th>43</th>\n      <td>Berlin</td>\n      <td>Berlin</td>\n      <td>Germany</td>\n    </tr>\n    <tr>\n      <th>44</th>\n      <td>Berlin</td>\n      <td>Berlin</td>\n      <td>Germany</td>\n    </tr>\n    <tr>\n      <th>45</th>\n      <td>Berlin</td>\n      <td>Berlin</td>\n      <td>Germany</td>\n    </tr>\n  </tbody>\n</table>\n</div>"
     },
     "execution_count": 84,
     "metadata": {},
     "output_type": "execute_result"
    }
   ],
   "source": [
    "new2\n"
   ],
   "metadata": {
    "collapsed": false,
    "pycharm": {
     "name": "#%%\n"
    }
   }
  },
  {
   "cell_type": "markdown",
   "source": [
    "merge df and new, drop Locations as it is redundant now"
   ],
   "metadata": {
    "collapsed": false
   }
  },
  {
   "cell_type": "code",
   "execution_count": 85,
   "outputs": [
    {
     "data": {
      "text/plain": "                                 Title             Company   Post Date   City2\n0                  Strategy Consultant          Zalando SE  2021-01-28  Berlin\n1                            Associate            Atheneum  2021-01-26  Berlin\n2  Junior Consultant - Risk Management  McKinsey & Company  2020-11-26  Berlin\n3     Associate Consultant (m / f / d)             UpSlide  2021-01-29  Berlin",
      "text/html": "<div>\n<style scoped>\n    .dataframe tbody tr th:only-of-type {\n        vertical-align: middle;\n    }\n\n    .dataframe tbody tr th {\n        vertical-align: top;\n    }\n\n    .dataframe thead th {\n        text-align: right;\n    }\n</style>\n<table border=\"1\" class=\"dataframe\">\n  <thead>\n    <tr style=\"text-align: right;\">\n      <th></th>\n      <th>Title</th>\n      <th>Company</th>\n      <th>Post Date</th>\n      <th>City2</th>\n    </tr>\n  </thead>\n  <tbody>\n    <tr>\n      <th>0</th>\n      <td>Strategy Consultant</td>\n      <td>Zalando SE</td>\n      <td>2021-01-28</td>\n      <td>Berlin</td>\n    </tr>\n    <tr>\n      <th>1</th>\n      <td>Associate</td>\n      <td>Atheneum</td>\n      <td>2021-01-26</td>\n      <td>Berlin</td>\n    </tr>\n    <tr>\n      <th>2</th>\n      <td>Junior Consultant - Risk Management</td>\n      <td>McKinsey &amp; Company</td>\n      <td>2020-11-26</td>\n      <td>Berlin</td>\n    </tr>\n    <tr>\n      <th>3</th>\n      <td>Associate Consultant (m / f / d)</td>\n      <td>UpSlide</td>\n      <td>2021-01-29</td>\n      <td>Berlin</td>\n    </tr>\n  </tbody>\n</table>\n</div>"
     },
     "execution_count": 85,
     "metadata": {},
     "output_type": "execute_result"
    }
   ],
   "source": [
    "df2 = df.join(new2, how = 'left')\n",
    "df2.drop(columns = ['Locations',1 , 2], inplace = True)\n",
    "df2.head(4)"
   ],
   "metadata": {
    "collapsed": false,
    "pycharm": {
     "name": "#%%\n"
    }
   }
  },
  {
   "cell_type": "code",
   "execution_count": 86,
   "outputs": [
    {
     "data": {
      "text/plain": "0    Berlin\n1    Berlin\n2    Berlin\n3    Berlin\n4    Berlin\nName: City, dtype: object"
     },
     "execution_count": 86,
     "metadata": {},
     "output_type": "execute_result"
    }
   ],
   "source": [
    "new3 = df2.City2.str.split(' ', expand=True)\n",
    "new4 = new3.rename(columns = {0: 'City'})\n",
    "new5 = new4.City\n",
    "new5.head()"
   ],
   "metadata": {
    "collapsed": false,
    "pycharm": {
     "name": "#%%\n"
    }
   }
  },
  {
   "cell_type": "code",
   "execution_count": 87,
   "outputs": [
    {
     "data": {
      "text/plain": "                                                                                Company  \\\nTitle                                                                                     \nStrategy Consultant                                                          Zalando SE   \nAssociate                                                                      Atheneum   \nJunior Consultant - Risk Management                                  McKinsey & Company   \nAssociate Consultant (m / f / d)                                                UpSlide   \nOperations Manager                                          Approach People Recruitment   \nEconomic Consulting Research Officer (m/f/d) En...             NERA Economic Consulting   \nHead of Consulting (m/f/x)                                                      Hubject   \nProject Manager Innovation - Culture Transforma...                      Forever Day One   \nInvestment Analyst                                                              AVOMIND   \nEnergy Policy Internship – DACH (m/w/d)                                           Tesla   \nGraduate Professional Services Consultant                     Amazon Web Services (AWS)   \nBusiness Operations and Strategy Associate (f/m/d)                             Gorillas   \nChief of Staff                                                   gitti Conscious Beauty   \nJr. Analyst                                                            Smart Wires Inc.   \nInvestor                                                                 Flash Ventures   \nOrganisational Development (various levels)                                      Klarna   \nInternship                                                                          IEG   \nSenior Associate                                                  Gaia Capital Partners   \nSenior Associate Consultant (m/f/x) | Berlin                                   accilium   \nStrategic Project Lead (m/f/d)                                                   Raisin   \nBusiness Analyst / Consultant (m/w/d) Public                       Deloitte Deutschland   \n(Associate) Consultant (gn)                                       SEEK Development GmbH   \nDigital Transformation Consultant, Google Cloud                                  Google   \nBERLIN - Chief of Staff (m/f/x)                                               HelloBody   \nBusiness Program Manager                                                      Microsoft   \nInvestment Specialist                                Costa Norte & Company GmbH & Co.KG   \nStrategic Project Lead (m/f/d)                                                   Raisin   \nConsultant - Risk Management                                         McKinsey & Company   \nVenture Co-Founder (m/f/d)                                            Flagship Founders   \nIntern (m/w/d) im Consulting                                            TruVenturo GmbH   \nJunior Associate - Global Market Insights 2021                                 Atheneum   \nConsultant (m/w/d) (Young Professional)                                  SERVICEWARE SE   \nAssociate Consultant                                                      Veeva Systems   \nManager | Consulting Manager (m/w/d)                                 Cerner Corporation   \nVenture Capital Intern                                                         Redstone   \nConsultant for Top Global Consulting Firm (Duba...                          Turas Group   \nEntrepreneur in Residence (Berlin or Helsinki)                            Cooler Future   \nConsultant for Top Global Consulting Firm (Duba...                          Turas Group   \nHead of Consulting (m/f/x)                                                      Hubject   \nInternship Digital Inhouse Consulting & Investm...                     Axel Springer SE   \nBusiness Development & Sales Expert                                   Impact Hub Berlin   \nIntern Management Consulting (m/f/d)                                            scaleon   \nStrategy & Finance Associate                                                   scoutbee   \nCo-Founder / Managing Director                                       Excelling Ventures   \nInternship Digital Inhouse Consulting & Investm...                     Axel Springer SE   \nVenture Development - Intern 🚀                      FixFirst - Accelerating Circularity   \n\n                                                     Post Date    City  \nTitle                                                                   \nStrategy Consultant                                 2021-01-28  Berlin  \nAssociate                                           2021-01-26  Berlin  \nJunior Consultant - Risk Management                 2020-11-26  Berlin  \nAssociate Consultant (m / f / d)                    2021-01-29  Berlin  \nOperations Manager                                  2021-02-03  Berlin  \nEconomic Consulting Research Officer (m/f/d) En...  2021-02-03  Berlin  \nHead of Consulting (m/f/x)                          2021-01-24  Berlin  \nProject Manager Innovation - Culture Transforma...  2021-01-31  Berlin  \nInvestment Analyst                                  2020-12-17  Berlin  \nEnergy Policy Internship – DACH (m/w/d)             2020-11-06  Berlin  \nGraduate Professional Services Consultant           2021-01-07  Berlin  \nBusiness Operations and Strategy Associate (f/m/d)  2021-01-24  Berlin  \nChief of Staff                                      2021-01-27  Berlin  \nJr. Analyst                                         2021-01-27  Berlin  \nInvestor                                            2021-02-02  Berlin  \nOrganisational Development (various levels)         2021-01-14  Berlin  \nInternship                                          2020-12-30  Berlin  \nSenior Associate                                    2021-01-27  Berlin  \nSenior Associate Consultant (m/f/x) | Berlin        2021-01-22  Berlin  \nStrategic Project Lead (m/f/d)                      2021-02-01  Berlin  \nBusiness Analyst / Consultant (m/w/d) Public        2020-12-30  Berlin  \n(Associate) Consultant (gn)                         2021-01-26  Berlin  \nDigital Transformation Consultant, Google Cloud     2021-01-30  Berlin  \nBERLIN - Chief of Staff (m/f/x)                     2021-01-27  Berlin  \nBusiness Program Manager                            2021-01-21  Berlin  \nInvestment Specialist                               2021-02-02  Berlin  \nStrategic Project Lead (m/f/d)                      2021-01-26  Berlin  \nConsultant - Risk Management                        2020-11-26  Berlin  \nVenture Co-Founder (m/f/d)                          2021-01-28  Berlin  \nIntern (m/w/d) im Consulting                        2021-01-18  Berlin  \nJunior Associate - Global Market Insights 2021      2021-01-27  Berlin  \nConsultant (m/w/d) (Young Professional)             2021-01-13  Berlin  \nAssociate Consultant                                2021-01-12  Berlin  \nManager | Consulting Manager (m/w/d)                2021-01-10  Berlin  \nVenture Capital Intern                              2020-12-27  Berlin  \nConsultant for Top Global Consulting Firm (Duba...  2020-10-16  Berlin  \nEntrepreneur in Residence (Berlin or Helsinki)      2021-01-28  Berlin  \nConsultant for Top Global Consulting Firm (Duba...  2021-01-25  Berlin  \nHead of Consulting (m/f/x)                          2021-01-25  Berlin  \nInternship Digital Inhouse Consulting & Investm...  2021-01-07  Berlin  \nBusiness Development & Sales Expert                 2021-01-28  Berlin  \nIntern Management Consulting (m/f/d)                2021-02-03  Berlin  \nStrategy & Finance Associate                        2021-01-12  Berlin  \nCo-Founder / Managing Director                      2021-01-22  Berlin  \nInternship Digital Inhouse Consulting & Investm...  2021-01-06  Berlin  \nVenture Development - Intern 🚀                      2021-02-01  Berlin  ",
      "text/html": "<div>\n<style scoped>\n    .dataframe tbody tr th:only-of-type {\n        vertical-align: middle;\n    }\n\n    .dataframe tbody tr th {\n        vertical-align: top;\n    }\n\n    .dataframe thead th {\n        text-align: right;\n    }\n</style>\n<table border=\"1\" class=\"dataframe\">\n  <thead>\n    <tr style=\"text-align: right;\">\n      <th></th>\n      <th>Company</th>\n      <th>Post Date</th>\n      <th>City</th>\n    </tr>\n    <tr>\n      <th>Title</th>\n      <th></th>\n      <th></th>\n      <th></th>\n    </tr>\n  </thead>\n  <tbody>\n    <tr>\n      <th>Strategy Consultant</th>\n      <td>Zalando SE</td>\n      <td>2021-01-28</td>\n      <td>Berlin</td>\n    </tr>\n    <tr>\n      <th>Associate</th>\n      <td>Atheneum</td>\n      <td>2021-01-26</td>\n      <td>Berlin</td>\n    </tr>\n    <tr>\n      <th>Junior Consultant - Risk Management</th>\n      <td>McKinsey &amp; Company</td>\n      <td>2020-11-26</td>\n      <td>Berlin</td>\n    </tr>\n    <tr>\n      <th>Associate Consultant (m / f / d)</th>\n      <td>UpSlide</td>\n      <td>2021-01-29</td>\n      <td>Berlin</td>\n    </tr>\n    <tr>\n      <th>Operations Manager</th>\n      <td>Approach People Recruitment</td>\n      <td>2021-02-03</td>\n      <td>Berlin</td>\n    </tr>\n    <tr>\n      <th>Economic Consulting Research Officer (m/f/d) Energy, Environment, Communications and Infrastructure</th>\n      <td>NERA Economic Consulting</td>\n      <td>2021-02-03</td>\n      <td>Berlin</td>\n    </tr>\n    <tr>\n      <th>Head of Consulting (m/f/x)</th>\n      <td>Hubject</td>\n      <td>2021-01-24</td>\n      <td>Berlin</td>\n    </tr>\n    <tr>\n      <th>Project Manager Innovation - Culture Transformation/Learning (m/f/x)</th>\n      <td>Forever Day One</td>\n      <td>2021-01-31</td>\n      <td>Berlin</td>\n    </tr>\n    <tr>\n      <th>Investment Analyst</th>\n      <td>AVOMIND</td>\n      <td>2020-12-17</td>\n      <td>Berlin</td>\n    </tr>\n    <tr>\n      <th>Energy Policy Internship – DACH (m/w/d)</th>\n      <td>Tesla</td>\n      <td>2020-11-06</td>\n      <td>Berlin</td>\n    </tr>\n    <tr>\n      <th>Graduate Professional Services Consultant</th>\n      <td>Amazon Web Services (AWS)</td>\n      <td>2021-01-07</td>\n      <td>Berlin</td>\n    </tr>\n    <tr>\n      <th>Business Operations and Strategy Associate (f/m/d)</th>\n      <td>Gorillas</td>\n      <td>2021-01-24</td>\n      <td>Berlin</td>\n    </tr>\n    <tr>\n      <th>Chief of Staff</th>\n      <td>gitti Conscious Beauty</td>\n      <td>2021-01-27</td>\n      <td>Berlin</td>\n    </tr>\n    <tr>\n      <th>Jr. Analyst</th>\n      <td>Smart Wires Inc.</td>\n      <td>2021-01-27</td>\n      <td>Berlin</td>\n    </tr>\n    <tr>\n      <th>Investor</th>\n      <td>Flash Ventures</td>\n      <td>2021-02-02</td>\n      <td>Berlin</td>\n    </tr>\n    <tr>\n      <th>Organisational Development (various levels)</th>\n      <td>Klarna</td>\n      <td>2021-01-14</td>\n      <td>Berlin</td>\n    </tr>\n    <tr>\n      <th>Internship</th>\n      <td>IEG</td>\n      <td>2020-12-30</td>\n      <td>Berlin</td>\n    </tr>\n    <tr>\n      <th>Senior Associate</th>\n      <td>Gaia Capital Partners</td>\n      <td>2021-01-27</td>\n      <td>Berlin</td>\n    </tr>\n    <tr>\n      <th>Senior Associate Consultant (m/f/x) | Berlin</th>\n      <td>accilium</td>\n      <td>2021-01-22</td>\n      <td>Berlin</td>\n    </tr>\n    <tr>\n      <th>Strategic Project Lead (m/f/d)</th>\n      <td>Raisin</td>\n      <td>2021-02-01</td>\n      <td>Berlin</td>\n    </tr>\n    <tr>\n      <th>Business Analyst / Consultant (m/w/d) Public</th>\n      <td>Deloitte Deutschland</td>\n      <td>2020-12-30</td>\n      <td>Berlin</td>\n    </tr>\n    <tr>\n      <th>(Associate) Consultant (gn)</th>\n      <td>SEEK Development GmbH</td>\n      <td>2021-01-26</td>\n      <td>Berlin</td>\n    </tr>\n    <tr>\n      <th>Digital Transformation Consultant, Google Cloud</th>\n      <td>Google</td>\n      <td>2021-01-30</td>\n      <td>Berlin</td>\n    </tr>\n    <tr>\n      <th>BERLIN - Chief of Staff (m/f/x)</th>\n      <td>HelloBody</td>\n      <td>2021-01-27</td>\n      <td>Berlin</td>\n    </tr>\n    <tr>\n      <th>Business Program Manager</th>\n      <td>Microsoft</td>\n      <td>2021-01-21</td>\n      <td>Berlin</td>\n    </tr>\n    <tr>\n      <th>Investment Specialist</th>\n      <td>Costa Norte &amp; Company GmbH &amp; Co.KG</td>\n      <td>2021-02-02</td>\n      <td>Berlin</td>\n    </tr>\n    <tr>\n      <th>Strategic Project Lead (m/f/d)</th>\n      <td>Raisin</td>\n      <td>2021-01-26</td>\n      <td>Berlin</td>\n    </tr>\n    <tr>\n      <th>Consultant - Risk Management</th>\n      <td>McKinsey &amp; Company</td>\n      <td>2020-11-26</td>\n      <td>Berlin</td>\n    </tr>\n    <tr>\n      <th>Venture Co-Founder (m/f/d)</th>\n      <td>Flagship Founders</td>\n      <td>2021-01-28</td>\n      <td>Berlin</td>\n    </tr>\n    <tr>\n      <th>Intern (m/w/d) im Consulting</th>\n      <td>TruVenturo GmbH</td>\n      <td>2021-01-18</td>\n      <td>Berlin</td>\n    </tr>\n    <tr>\n      <th>Junior Associate - Global Market Insights 2021</th>\n      <td>Atheneum</td>\n      <td>2021-01-27</td>\n      <td>Berlin</td>\n    </tr>\n    <tr>\n      <th>Consultant (m/w/d) (Young Professional)</th>\n      <td>SERVICEWARE SE</td>\n      <td>2021-01-13</td>\n      <td>Berlin</td>\n    </tr>\n    <tr>\n      <th>Associate Consultant</th>\n      <td>Veeva Systems</td>\n      <td>2021-01-12</td>\n      <td>Berlin</td>\n    </tr>\n    <tr>\n      <th>Manager | Consulting Manager (m/w/d)</th>\n      <td>Cerner Corporation</td>\n      <td>2021-01-10</td>\n      <td>Berlin</td>\n    </tr>\n    <tr>\n      <th>Venture Capital Intern</th>\n      <td>Redstone</td>\n      <td>2020-12-27</td>\n      <td>Berlin</td>\n    </tr>\n    <tr>\n      <th>Consultant for Top Global Consulting Firm (Dubai &amp; KSA)</th>\n      <td>Turas Group</td>\n      <td>2020-10-16</td>\n      <td>Berlin</td>\n    </tr>\n    <tr>\n      <th>Entrepreneur in Residence (Berlin or Helsinki)</th>\n      <td>Cooler Future</td>\n      <td>2021-01-28</td>\n      <td>Berlin</td>\n    </tr>\n    <tr>\n      <th>Consultant for Top Global Consulting Firm (Dubai &amp; KSA)</th>\n      <td>Turas Group</td>\n      <td>2021-01-25</td>\n      <td>Berlin</td>\n    </tr>\n    <tr>\n      <th>Head of Consulting (m/f/x)</th>\n      <td>Hubject</td>\n      <td>2021-01-25</td>\n      <td>Berlin</td>\n    </tr>\n    <tr>\n      <th>Internship Digital Inhouse Consulting &amp; Investment Management</th>\n      <td>Axel Springer SE</td>\n      <td>2021-01-07</td>\n      <td>Berlin</td>\n    </tr>\n    <tr>\n      <th>Business Development &amp; Sales Expert</th>\n      <td>Impact Hub Berlin</td>\n      <td>2021-01-28</td>\n      <td>Berlin</td>\n    </tr>\n    <tr>\n      <th>Intern Management Consulting (m/f/d)</th>\n      <td>scaleon</td>\n      <td>2021-02-03</td>\n      <td>Berlin</td>\n    </tr>\n    <tr>\n      <th>Strategy &amp; Finance Associate</th>\n      <td>scoutbee</td>\n      <td>2021-01-12</td>\n      <td>Berlin</td>\n    </tr>\n    <tr>\n      <th>Co-Founder / Managing Director</th>\n      <td>Excelling Ventures</td>\n      <td>2021-01-22</td>\n      <td>Berlin</td>\n    </tr>\n    <tr>\n      <th>Internship Digital Inhouse Consulting &amp; Investment Management</th>\n      <td>Axel Springer SE</td>\n      <td>2021-01-06</td>\n      <td>Berlin</td>\n    </tr>\n    <tr>\n      <th>Venture Development - Intern 🚀</th>\n      <td>FixFirst - Accelerating Circularity</td>\n      <td>2021-02-01</td>\n      <td>Berlin</td>\n    </tr>\n  </tbody>\n</table>\n</div>"
     },
     "execution_count": 87,
     "metadata": {},
     "output_type": "execute_result"
    }
   ],
   "source": [
    "df4 = df2.join(new5, how = 'left')\n",
    "df4.drop(columns = [\"City2\"], inplace = True)\n",
    "df4.set_index('Title', inplace = True)\n",
    "df4"
   ],
   "metadata": {
    "collapsed": false,
    "pycharm": {
     "name": "#%%\n"
    }
   }
  },
  {
   "cell_type": "markdown",
   "source": [
    "create CSV, with todays Date"
   ],
   "metadata": {
    "collapsed": false
   }
  },
  {
   "cell_type": "code",
   "execution_count": 88,
   "outputs": [],
   "source": [
    "date_object = datetime.date.today()\n",
    "date = str(date_object) + '_'\n",
    "date\n",
    "\n",
    "df4.to_csv('C:/Users/Marc/Dropbox/01_Marc Arnold/Python Projects/04_Job Viz/02_Output/' + date + city + '_' + country + '.csv')"
   ],
   "metadata": {
    "collapsed": false,
    "pycharm": {
     "name": "#%%\n"
    }
   }
  },
  {
   "cell_type": "markdown",
   "source": [
    "concat new jobs to existing list"
   ],
   "metadata": {
    "collapsed": false
   }
  },
  {
   "cell_type": "code",
   "execution_count": 89,
   "outputs": [
    {
     "data": {
      "text/plain": "                                                       Company   Post Date  \\\nTitle                                                                        \nData Analyst                                      EPAM Systems  2021-01-15   \nGlobal Digital Data Analyst                La Prairie Group AG  2021-01-17   \nBusiness Analyst                     Tata Consultancy Services  2021-01-14   \nBusiness Intelligence Analyst (80%)       Spitex Zürich Limmat  2021-01-22   \nBusiness Analyst (m/w), Zurich                       MoneyPark  2021-01-22   \n\n                                        City  \nTitle                                         \nData Analyst                          Zurich  \nGlobal Digital Data Analyst           Zurich  \nBusiness Analyst                      Zurich  \nBusiness Intelligence Analyst (80%)   Zurich  \nBusiness Analyst (m/w), Zurich       Schlatt  ",
      "text/html": "<div>\n<style scoped>\n    .dataframe tbody tr th:only-of-type {\n        vertical-align: middle;\n    }\n\n    .dataframe tbody tr th {\n        vertical-align: top;\n    }\n\n    .dataframe thead th {\n        text-align: right;\n    }\n</style>\n<table border=\"1\" class=\"dataframe\">\n  <thead>\n    <tr style=\"text-align: right;\">\n      <th></th>\n      <th>Company</th>\n      <th>Post Date</th>\n      <th>City</th>\n    </tr>\n    <tr>\n      <th>Title</th>\n      <th></th>\n      <th></th>\n      <th></th>\n    </tr>\n  </thead>\n  <tbody>\n    <tr>\n      <th>Data Analyst</th>\n      <td>EPAM Systems</td>\n      <td>2021-01-15</td>\n      <td>Zurich</td>\n    </tr>\n    <tr>\n      <th>Global Digital Data Analyst</th>\n      <td>La Prairie Group AG</td>\n      <td>2021-01-17</td>\n      <td>Zurich</td>\n    </tr>\n    <tr>\n      <th>Business Analyst</th>\n      <td>Tata Consultancy Services</td>\n      <td>2021-01-14</td>\n      <td>Zurich</td>\n    </tr>\n    <tr>\n      <th>Business Intelligence Analyst (80%)</th>\n      <td>Spitex Zürich Limmat</td>\n      <td>2021-01-22</td>\n      <td>Zurich</td>\n    </tr>\n    <tr>\n      <th>Business Analyst (m/w), Zurich</th>\n      <td>MoneyPark</td>\n      <td>2021-01-22</td>\n      <td>Schlatt</td>\n    </tr>\n  </tbody>\n</table>\n</div>"
     },
     "execution_count": 89,
     "metadata": {},
     "output_type": "execute_result"
    }
   ],
   "source": [
    "final_df = pd.read_csv('C:/Users/Marc/Dropbox/01_Marc Arnold/Python Projects/04_Job Viz/02_Output/01_Final DF/Final_DF_LinkedIN Jobs.csv')\n",
    "final_df.set_index('Title', inplace = True)\n",
    "final_df.head()"
   ],
   "metadata": {
    "collapsed": false,
    "pycharm": {
     "name": "#%%\n"
    }
   }
  },
  {
   "cell_type": "code",
   "execution_count": 90,
   "outputs": [
    {
     "data": {
      "text/plain": "                                                       Company   Post Date  \\\nTitle                                                                        \nData Analyst                                      EPAM Systems  2021-01-15   \nGlobal Digital Data Analyst                La Prairie Group AG  2021-01-17   \nBusiness Analyst                     Tata Consultancy Services  2021-01-14   \nBusiness Intelligence Analyst (80%)       Spitex Zürich Limmat  2021-01-22   \nBusiness Analyst (m/w), Zurich                       MoneyPark  2021-01-22   \n\n                                        City  \nTitle                                         \nData Analyst                          Zurich  \nGlobal Digital Data Analyst           Zurich  \nBusiness Analyst                      Zurich  \nBusiness Intelligence Analyst (80%)   Zurich  \nBusiness Analyst (m/w), Zurich       Schlatt  ",
      "text/html": "<div>\n<style scoped>\n    .dataframe tbody tr th:only-of-type {\n        vertical-align: middle;\n    }\n\n    .dataframe tbody tr th {\n        vertical-align: top;\n    }\n\n    .dataframe thead th {\n        text-align: right;\n    }\n</style>\n<table border=\"1\" class=\"dataframe\">\n  <thead>\n    <tr style=\"text-align: right;\">\n      <th></th>\n      <th>Company</th>\n      <th>Post Date</th>\n      <th>City</th>\n    </tr>\n    <tr>\n      <th>Title</th>\n      <th></th>\n      <th></th>\n      <th></th>\n    </tr>\n  </thead>\n  <tbody>\n    <tr>\n      <th>Data Analyst</th>\n      <td>EPAM Systems</td>\n      <td>2021-01-15</td>\n      <td>Zurich</td>\n    </tr>\n    <tr>\n      <th>Global Digital Data Analyst</th>\n      <td>La Prairie Group AG</td>\n      <td>2021-01-17</td>\n      <td>Zurich</td>\n    </tr>\n    <tr>\n      <th>Business Analyst</th>\n      <td>Tata Consultancy Services</td>\n      <td>2021-01-14</td>\n      <td>Zurich</td>\n    </tr>\n    <tr>\n      <th>Business Intelligence Analyst (80%)</th>\n      <td>Spitex Zürich Limmat</td>\n      <td>2021-01-22</td>\n      <td>Zurich</td>\n    </tr>\n    <tr>\n      <th>Business Analyst (m/w), Zurich</th>\n      <td>MoneyPark</td>\n      <td>2021-01-22</td>\n      <td>Schlatt</td>\n    </tr>\n  </tbody>\n</table>\n</div>"
     },
     "execution_count": 90,
     "metadata": {},
     "output_type": "execute_result"
    }
   ],
   "source": [
    "dfWIP = pd.concat([final_df, df4], axis=0)\n",
    "dfWIP.head()"
   ],
   "metadata": {
    "collapsed": false,
    "pycharm": {
     "name": "#%%\n"
    }
   }
  },
  {
   "cell_type": "markdown",
   "source": [
    "drop duplicated rows"
   ],
   "metadata": {
    "collapsed": false,
    "pycharm": {
     "name": "#%% md\n"
    }
   }
  },
  {
   "cell_type": "code",
   "execution_count": 91,
   "outputs": [
    {
     "data": {
      "text/plain": "                                                                                Company  \\\nTitle                                                                                     \nData Analyst                                                               EPAM Systems   \nGlobal Digital Data Analyst                                         La Prairie Group AG   \nBusiness Analyst                                              Tata Consultancy Services   \nBusiness Intelligence Analyst (80%)                                Spitex Zürich Limmat   \nBusiness Analyst (m/w), Zurich                                                MoneyPark   \n...                                                                                 ...   \nIntern Management Consulting (m/f/d)                                            scaleon   \nStrategy & Finance Associate                                                   scoutbee   \nCo-Founder / Managing Director                                       Excelling Ventures   \nInternship Digital Inhouse Consulting & Investm...                     Axel Springer SE   \nVenture Development - Intern 🚀                      FixFirst - Accelerating Circularity   \n\n                                                     Post Date     City  \nTitle                                                                    \nData Analyst                                        2021-01-15   Zurich  \nGlobal Digital Data Analyst                         2021-01-17   Zurich  \nBusiness Analyst                                    2021-01-14   Zurich  \nBusiness Intelligence Analyst (80%)                 2021-01-22   Zurich  \nBusiness Analyst (m/w), Zurich                      2021-01-22  Schlatt  \n...                                                        ...      ...  \nIntern Management Consulting (m/f/d)                2021-02-03   Berlin  \nStrategy & Finance Associate                        2021-01-12   Berlin  \nCo-Founder / Managing Director                      2021-01-22   Berlin  \nInternship Digital Inhouse Consulting & Investm...  2021-01-06   Berlin  \nVenture Development - Intern 🚀                      2021-02-01   Berlin  \n\n[226 rows x 3 columns]",
      "text/html": "<div>\n<style scoped>\n    .dataframe tbody tr th:only-of-type {\n        vertical-align: middle;\n    }\n\n    .dataframe tbody tr th {\n        vertical-align: top;\n    }\n\n    .dataframe thead th {\n        text-align: right;\n    }\n</style>\n<table border=\"1\" class=\"dataframe\">\n  <thead>\n    <tr style=\"text-align: right;\">\n      <th></th>\n      <th>Company</th>\n      <th>Post Date</th>\n      <th>City</th>\n    </tr>\n    <tr>\n      <th>Title</th>\n      <th></th>\n      <th></th>\n      <th></th>\n    </tr>\n  </thead>\n  <tbody>\n    <tr>\n      <th>Data Analyst</th>\n      <td>EPAM Systems</td>\n      <td>2021-01-15</td>\n      <td>Zurich</td>\n    </tr>\n    <tr>\n      <th>Global Digital Data Analyst</th>\n      <td>La Prairie Group AG</td>\n      <td>2021-01-17</td>\n      <td>Zurich</td>\n    </tr>\n    <tr>\n      <th>Business Analyst</th>\n      <td>Tata Consultancy Services</td>\n      <td>2021-01-14</td>\n      <td>Zurich</td>\n    </tr>\n    <tr>\n      <th>Business Intelligence Analyst (80%)</th>\n      <td>Spitex Zürich Limmat</td>\n      <td>2021-01-22</td>\n      <td>Zurich</td>\n    </tr>\n    <tr>\n      <th>Business Analyst (m/w), Zurich</th>\n      <td>MoneyPark</td>\n      <td>2021-01-22</td>\n      <td>Schlatt</td>\n    </tr>\n    <tr>\n      <th>...</th>\n      <td>...</td>\n      <td>...</td>\n      <td>...</td>\n    </tr>\n    <tr>\n      <th>Intern Management Consulting (m/f/d)</th>\n      <td>scaleon</td>\n      <td>2021-02-03</td>\n      <td>Berlin</td>\n    </tr>\n    <tr>\n      <th>Strategy &amp; Finance Associate</th>\n      <td>scoutbee</td>\n      <td>2021-01-12</td>\n      <td>Berlin</td>\n    </tr>\n    <tr>\n      <th>Co-Founder / Managing Director</th>\n      <td>Excelling Ventures</td>\n      <td>2021-01-22</td>\n      <td>Berlin</td>\n    </tr>\n    <tr>\n      <th>Internship Digital Inhouse Consulting &amp; Investment Management</th>\n      <td>Axel Springer SE</td>\n      <td>2021-01-06</td>\n      <td>Berlin</td>\n    </tr>\n    <tr>\n      <th>Venture Development - Intern 🚀</th>\n      <td>FixFirst - Accelerating Circularity</td>\n      <td>2021-02-01</td>\n      <td>Berlin</td>\n    </tr>\n  </tbody>\n</table>\n<p>226 rows × 3 columns</p>\n</div>"
     },
     "execution_count": 91,
     "metadata": {},
     "output_type": "execute_result"
    }
   ],
   "source": [
    "new_final_df = dfWIP.drop_duplicates()\n",
    "new_final_df"
   ],
   "metadata": {
    "collapsed": false,
    "pycharm": {
     "name": "#%%\n"
    }
   }
  },
  {
   "cell_type": "code",
   "execution_count": 92,
   "outputs": [],
   "source": [
    "new_final_df.to_csv('C:/Users/Marc/Dropbox/01_Marc Arnold/Python Projects/04_Job Viz/02_Output/01_Final DF/Final_DF_LinkedIN Jobs.csv')\n",
    "\n"
   ],
   "metadata": {
    "collapsed": false,
    "pycharm": {
     "name": "#%%\n"
    }
   }
  }
 ],
 "metadata": {
  "kernelspec": {
   "display_name": "Python 3",
   "language": "python",
   "name": "python3"
  },
  "language_info": {
   "codemirror_mode": {
    "name": "ipython",
    "version": 2
   },
   "file_extension": ".py",
   "mimetype": "text/x-python",
   "name": "python",
   "nbconvert_exporter": "python",
   "pygments_lexer": "ipython2",
   "version": "2.7.6"
  }
 },
 "nbformat": 4,
 "nbformat_minor": 0
}