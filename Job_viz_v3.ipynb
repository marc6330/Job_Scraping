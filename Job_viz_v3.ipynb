{
 "cells": [
  {
   "cell_type": "markdown",
   "source": [
    "Steps:\n",
    "- Scarping Job posting via Scrapy, Beautifulsoup or Selenium\n",
    "- Visualize in Tableau or PowerBI"
   ],
   "metadata": {
    "collapsed": false
   }
  },
  {
   "cell_type": "markdown",
   "source": [
    "import necessary modules - first try with BeautifulSoup"
   ],
   "metadata": {
    "collapsed": false
   }
  },
  {
   "cell_type": "code",
   "execution_count": 71,
   "outputs": [],
   "source": [
    "import driver as driver\n",
    "import pandas as pd\n",
    "import re\n",
    "import lxml\n",
    "from bs4 import BeautifulSoup\n",
    "from datetime import date, timedelta, datetime\n",
    "from IPython.core.display import clear_output\n",
    "from random import randint\n",
    "from requests import get\n",
    "from selenium import webdriver\n",
    "from selenium.webdriver.common.action_chains import ActionChains\n",
    "from time import sleep\n",
    "from time import time\n",
    "start_time = time()\n",
    "\n",
    "from warnings import warn\n"
   ],
   "metadata": {
    "collapsed": false,
    "pycharm": {
     "name": "#%%\n"
    }
   }
  },
  {
   "cell_type": "markdown",
   "source": [
    "Select wanted url"
   ],
   "metadata": {
    "collapsed": false
   }
  },
  {
   "cell_type": "code",
   "execution_count": 72,
   "outputs": [],
   "source": [
    "city = 'Zurich'\n",
    "state = 'Zurich'\n",
    "country = 'Switzerland'\n",
    "url = 'https://www.linkedin.com/jobs/search?keywords=Data%20Analyst&location=Zurich%2C%20Zurich%2C%20Switzerland&geoId=107814425&trk=public_jobs_jobs-search-bar_search-submit&redirect=false&position=1&pageNum=0'\n",
    "no_of_jobs = 50\n",
    "\n",
    "\n"
   ],
   "metadata": {
    "collapsed": false,
    "pycharm": {
     "name": "#%%\n"
    }
   }
  },
  {
   "cell_type": "markdown",
   "source": [
    "open windows with url stated above in"
   ],
   "metadata": {
    "collapsed": false
   }
  },
  {
   "cell_type": "code",
   "execution_count": 73,
   "outputs": [],
   "source": [
    "driver = webdriver.Chrome()\n",
    "driver.get(url)\n",
    "sleep(3)\n",
    "action = ActionChains(driver)"
   ],
   "metadata": {
    "collapsed": false,
    "pycharm": {
     "name": "#%%\n"
    }
   }
  },
  {
   "cell_type": "markdown",
   "source": [
    "to show more jobs than the initial 25"
   ],
   "metadata": {
    "collapsed": false
   }
  },
  {
   "cell_type": "code",
   "execution_count": 74,
   "outputs": [],
   "source": [
    "driver.execute_script(\"window.scrollTo(0,document.body.scrollHeight)\")\n",
    "sleep(20)\n",
    "\n"
   ],
   "metadata": {
    "collapsed": false,
    "pycharm": {
     "name": "#%%\n"
    }
   }
  },
  {
   "cell_type": "markdown",
   "source": [
    "parsing the visible webpage"
   ],
   "metadata": {
    "collapsed": false
   }
  },
  {
   "cell_type": "code",
   "execution_count": 75,
   "outputs": [],
   "source": [
    "pageSource = driver.page_source\n",
    "soup = BeautifulSoup(pageSource,  \"html.parser\")\n",
    "\n"
   ],
   "metadata": {
    "collapsed": false,
    "pycharm": {
     "name": "#%%\n"
    }
   }
  },
  {
   "cell_type": "markdown",
   "source": [
    "Parsing content"
   ],
   "metadata": {
    "collapsed": false
   }
  },
  {
   "cell_type": "code",
   "execution_count": 76,
   "outputs": [
    {
     "name": "stdout",
     "output_type": "stream",
     "text": [
      "Data Analyst\n",
      "EPAM Systems\n"
     ]
    }
   ],
   "source": [
    "first_job = soup.find('h3', class_ = 'result-card__title job-result-card__title').text\n",
    "print(first_job)\n",
    "\n",
    "first_company = soup.find('a', class_ = 'result-card__subtitle-link job-result-card__subtitle-link').text\n",
    "print(first_company)"
   ],
   "metadata": {
    "collapsed": false,
    "pycharm": {
     "name": "#%%\n"
    }
   }
  },
  {
   "cell_type": "markdown",
   "source": [
    "Create job container"
   ],
   "metadata": {
    "collapsed": false
   }
  },
  {
   "cell_type": "code",
   "execution_count": 77,
   "outputs": [
    {
     "name": "stdout",
     "output_type": "stream",
     "text": [
      "48\n"
     ]
    }
   ],
   "source": [
    "job_container = soup.find('ul', class_=\"jobs-search__results-list\")\n",
    "print(len(job_container))"
   ],
   "metadata": {
    "collapsed": false,
    "pycharm": {
     "name": "#%%\n"
    }
   }
  },
  {
   "cell_type": "markdown",
   "source": [
    "create for loop to look for all jobs"
   ],
   "metadata": {
    "collapsed": false
   }
  },
  {
   "cell_type": "code",
   "execution_count": 78,
   "outputs": [
    {
     "name": "stdout",
     "output_type": "stream",
     "text": [
      "You are scraping information about 48 jobs.\n"
     ]
    }
   ],
   "source": [
    "print('You are scraping information about {} jobs.'.format(len(job_container)))"
   ],
   "metadata": {
    "collapsed": false,
    "pycharm": {
     "name": "#%%\n"
    }
   }
  },
  {
   "cell_type": "code",
   "execution_count": 79,
   "outputs": [],
   "source": [
    "job_titles = []\n",
    "companies = []\n",
    "locations = []\n",
    "time = []\n",
    "date = []\n",
    "\n",
    "\n",
    "for jobs in job_container:\n",
    "    post_title = jobs.find('h3', class_ = 'result-card__title job-result-card__title').text\n",
    "    job_titles.append(post_title)\n",
    "\n",
    "    post_company = jobs.find('h4', class_ = 'result-card__subtitle job-result-card__subtitle').text\n",
    "    companies.append(post_company)\n",
    "\n",
    "    post_locations = jobs.find('span', class_ = 'job-result-card__location').text\n",
    "    locations.append(post_locations)\n",
    "\n",
    "    post_date = jobs.select_one('time')['datetime']\n",
    "    date.append(post_date)\n"
   ],
   "metadata": {
    "collapsed": false,
    "pycharm": {
     "name": "#%%\n"
    }
   }
  },
  {
   "cell_type": "code",
   "execution_count": 80,
   "outputs": [
    {
     "name": "stdout",
     "output_type": "stream",
     "text": [
      "{'Title': ['Data Analyst', 'Data Analyst (all genders, 80-100%)', 'Global Digital Data Analyst', 'Digital Analyst (w/m/d)', 'Junior Business Analyst', 'Business Intelligence Analyst (80%)', 'Data Consultant', 'Reporting/ Data Analyst (Banking - Operations)', 'Junior Business Analyst ', 'Business Analyst', 'Data Analyst (temporary)', 'Business Analyst', 'Data Scientist - QuantumBlack', 'Business Analyst', 'Business Analyst', 'Product Analyst, Calendar and Tasks', 'Controller / Data Analyst / Reporting Specialist', 'Data Engineer', 'Business Analyst for Data Management', 'Business Analyst', 'Business Analyst 100% (m/w)', 'Data Engineer (80 - 100%)', 'Business Analyst – Data Quality #164527', 'Data Science Developer', 'Business Analyst/in', 'Data Engineer', 'Analytics Engineer', 'Website Business Analyst and Product manager (100%)', 'Data Engineer', 'Big Data Analyst/Developer', 'Business Insights Analyst, Direct-to-Consumer - Global', 'HR Data Administrator & Analyst (50% - 60%)', 'Data Scientist - Zurich', 'Business Analyst Data Privacy & Deletion (m/w) 80-100%', 'Business Analyst Kundenstamm / Kernbankenapplikation (w/m)', 'Business Data Analyst (Commodity Pricing & Risk Management)', 'Business Analyst Finanzinformationen', 'Data Scientist Personalisierung - Zürich', 'Business Analyst', 'Business Analyst / Consultant EasyTax', 'Data Analyst (BI / Digital Analytics) (w/m) 80-100%', 'Backend Data Engineer - Remote', 'Data Science Developer', 'Reporting/ Data Analyst (Banking - Operations)', 'Technical Business Analyst', 'Business Analyst 80 - 100%', 'Business Analyst(in) / Requirements Engineer (80-100%)', 'DATA ENGINEER'], 'Company': ['EPAM Systems', 'MAMMUT Sports Group AG', 'La Prairie Group AG', 'Migros-Genossenschafts-Bund', 'SIX', 'Spitex Zürich Limmat', 'Onedot', 'Experis Switzerland', 'SIX', 'additiv', 'kessler.vogler', 'S&P Global Ratings', 'QuantumBlack', 'SELISE rockin’ software', 'Tata Consultancy Services', 'Google', 'Coop', 'Digitec Galaxus AG', 'Cognizant', 'Pickwings', 'ADMEIRA', 'Swiss Re', 'Credit Suisse', 'Schroders', 'Braingroup AG', 'Empiric', 'On', 'BREITLING', 'Verity', 'Luxoft', 'Plume Design, Inc', 'Steiner AG', 'Freshtechit', 'Zurich Insurance Company Ltd', 'Migros Bank', 'Mondelēz International', 'VP Bank AG', 'SRF - Schweizer Radio und Fernsehen', 'Credit Now', 'BearingPoint', 'NZZ', 'Numbrs', 'Schroder Adveq', 'Jobs via eFinancialCareers', 'NatWest Group', 'Swiss Life', 'Pqm Consulting Inc', 'Cobblestone Energy'], 'Locations': ['Zurich, Zurich, Switzerland', 'Seon, Aargau, Switzerland', 'Zurich, Switzerland', 'Schlatt (Zürich), Zurich, Switzerland', 'Zurich, Zurich, Switzerland', 'Zurich, Zurich, Switzerland', 'Schlieren, Zurich, Switzerland', 'Zurich, Zurich, Switzerland', 'Zurich, Zurich, Switzerland', 'Zurich, Switzerland', 'Zurich, Zurich, Switzerland', 'Zurich, Zurich, Switzerland', 'Zurich, Zurich, Switzerland', 'Kloten, Zurich, Switzerland', 'Zurich, Switzerland', 'Schlatt (Zürich), Zurich, Switzerland', 'Schafisheim, Aargau, Switzerland', 'Zurich, Switzerland', 'Zurich, Zurich, Switzerland', 'Schlatt (Zürich), Zurich, Switzerland', 'Zurich, Zurich, Switzerland', 'Zurich, Zurich, Switzerland', 'Zurich, Zurich, Switzerland', 'Greater Zurich Area', 'Zurich, Zurich, Switzerland', 'Zurich, Switzerland', 'Zurich, Switzerland', 'Zurich, Switzerland', 'Zurich, Switzerland', 'Zurich, Switzerland', 'Zurich, Zurich, Switzerland', 'Zurich, Switzerland', 'Zurich, Switzerland', 'Zurich, Zurich, Switzerland', 'Wallisellen, Zurich, Switzerland', 'Zug, Zug, Switzerland', 'Zurich, Zurich, Switzerland', 'Schlatt (Zürich), Zurich, Switzerland', 'Horgen, Zurich, Switzerland', 'Schlatt (Zürich), Zurich, Switzerland', 'Zurich, Zurich, Switzerland', 'Zurich, Zurich, Switzerland', 'Zurich, Zurich, Switzerland', 'Zurich, Zurich, Switzerland', 'Zurich, Zurich, Switzerland', 'Schlatt (Zürich), Zurich, Switzerland', 'Zurich, Zurich, Switzerland', 'Zurich, Zurich, Switzerland'], 'Post Date': ['2021-01-15', '2021-01-21', '2021-01-17', '2021-01-19', '2021-01-15', '2021-01-16', '2021-01-11', '2021-01-12', '2021-01-15', '2021-01-21', '2021-01-14', '2021-01-06', '2020-12-25', '2021-01-20', '2021-01-14', '2021-01-08', '2021-01-21', '2021-01-18', '2021-01-08', '2021-01-14', '2021-01-20', '2021-01-16', '2021-01-04', '2021-01-11', '2021-01-20', '2021-01-18', '2021-01-07', '2021-01-15', '2021-01-21', '2021-01-04', '2020-12-29', '2020-12-24', '2021-01-21', '2021-01-07', '2021-01-05', '2021-01-17', '2020-11-02', '2020-11-27', '2020-12-17', '2021-01-15', '2021-01-17', '2020-12-14', '2021-01-14', '2021-01-12', '2021-01-12', '2020-12-09', '2021-01-16', '2020-12-30']}\n"
     ]
    }
   ],
   "source": [
    "ml = {'Title': job_titles, 'Company': companies, 'Locations': locations, 'Post Date': date}\n",
    "print(ml)"
   ],
   "metadata": {
    "collapsed": false,
    "pycharm": {
     "name": "#%%\n"
    }
   }
  },
  {
   "cell_type": "code",
   "execution_count": 81,
   "outputs": [
    {
     "data": {
      "text/plain": "          Title       Company                    Locations   Post Date\n0  Data Analyst  EPAM Systems  Zurich, Zurich, Switzerland  2021-01-15",
      "text/html": "<div>\n<style scoped>\n    .dataframe tbody tr th:only-of-type {\n        vertical-align: middle;\n    }\n\n    .dataframe tbody tr th {\n        vertical-align: top;\n    }\n\n    .dataframe thead th {\n        text-align: right;\n    }\n</style>\n<table border=\"1\" class=\"dataframe\">\n  <thead>\n    <tr style=\"text-align: right;\">\n      <th></th>\n      <th>Title</th>\n      <th>Company</th>\n      <th>Locations</th>\n      <th>Post Date</th>\n    </tr>\n  </thead>\n  <tbody>\n    <tr>\n      <th>0</th>\n      <td>Data Analyst</td>\n      <td>EPAM Systems</td>\n      <td>Zurich, Zurich, Switzerland</td>\n      <td>2021-01-15</td>\n    </tr>\n  </tbody>\n</table>\n</div>"
     },
     "execution_count": 81,
     "metadata": {},
     "output_type": "execute_result"
    }
   ],
   "source": [
    "df = pd.DataFrame(ml)\n",
    "df.head(1)"
   ],
   "metadata": {
    "collapsed": false,
    "pycharm": {
     "name": "#%%\n"
    }
   }
  },
  {
   "cell_type": "markdown",
   "source": [
    "Separate City from State and Country\n"
   ],
   "metadata": {
    "collapsed": false
   }
  },
  {
   "cell_type": "code",
   "execution_count": 82,
   "outputs": [],
   "source": [
    "new = df.Locations.str.split(',', n = 0, expand = True)"
   ],
   "metadata": {
    "collapsed": false,
    "pycharm": {
     "name": "#%%\n"
    }
   }
  },
  {
   "cell_type": "code",
   "execution_count": 83,
   "outputs": [],
   "source": [
    "new2 = new.rename(columns = {0: 'City2'})"
   ],
   "metadata": {
    "collapsed": false,
    "pycharm": {
     "name": "#%%\n"
    }
   }
  },
  {
   "cell_type": "code",
   "execution_count": 84,
   "outputs": [
    {
     "data": {
      "text/plain": "                  City2             1             2\n0                Zurich        Zurich   Switzerland\n1                  Seon        Aargau   Switzerland\n2                Zurich   Switzerland          None\n3      Schlatt (Zürich)        Zurich   Switzerland\n4                Zurich        Zurich   Switzerland\n5                Zurich        Zurich   Switzerland\n6             Schlieren        Zurich   Switzerland\n7                Zurich        Zurich   Switzerland\n8                Zurich        Zurich   Switzerland\n9                Zurich   Switzerland          None\n10               Zurich        Zurich   Switzerland\n11               Zurich        Zurich   Switzerland\n12               Zurich        Zurich   Switzerland\n13               Kloten        Zurich   Switzerland\n14               Zurich   Switzerland          None\n15     Schlatt (Zürich)        Zurich   Switzerland\n16          Schafisheim        Aargau   Switzerland\n17               Zurich   Switzerland          None\n18               Zurich        Zurich   Switzerland\n19     Schlatt (Zürich)        Zurich   Switzerland\n20               Zurich        Zurich   Switzerland\n21               Zurich        Zurich   Switzerland\n22               Zurich        Zurich   Switzerland\n23  Greater Zurich Area          None          None\n24               Zurich        Zurich   Switzerland\n25               Zurich   Switzerland          None\n26               Zurich   Switzerland          None\n27               Zurich   Switzerland          None\n28               Zurich   Switzerland          None\n29               Zurich   Switzerland          None\n30               Zurich        Zurich   Switzerland\n31               Zurich   Switzerland          None\n32               Zurich   Switzerland          None\n33               Zurich        Zurich   Switzerland\n34          Wallisellen        Zurich   Switzerland\n35                  Zug           Zug   Switzerland\n36               Zurich        Zurich   Switzerland\n37     Schlatt (Zürich)        Zurich   Switzerland\n38               Horgen        Zurich   Switzerland\n39     Schlatt (Zürich)        Zurich   Switzerland\n40               Zurich        Zurich   Switzerland\n41               Zurich        Zurich   Switzerland\n42               Zurich        Zurich   Switzerland\n43               Zurich        Zurich   Switzerland\n44               Zurich        Zurich   Switzerland\n45     Schlatt (Zürich)        Zurich   Switzerland\n46               Zurich        Zurich   Switzerland\n47               Zurich        Zurich   Switzerland",
      "text/html": "<div>\n<style scoped>\n    .dataframe tbody tr th:only-of-type {\n        vertical-align: middle;\n    }\n\n    .dataframe tbody tr th {\n        vertical-align: top;\n    }\n\n    .dataframe thead th {\n        text-align: right;\n    }\n</style>\n<table border=\"1\" class=\"dataframe\">\n  <thead>\n    <tr style=\"text-align: right;\">\n      <th></th>\n      <th>City2</th>\n      <th>1</th>\n      <th>2</th>\n    </tr>\n  </thead>\n  <tbody>\n    <tr>\n      <th>0</th>\n      <td>Zurich</td>\n      <td>Zurich</td>\n      <td>Switzerland</td>\n    </tr>\n    <tr>\n      <th>1</th>\n      <td>Seon</td>\n      <td>Aargau</td>\n      <td>Switzerland</td>\n    </tr>\n    <tr>\n      <th>2</th>\n      <td>Zurich</td>\n      <td>Switzerland</td>\n      <td>None</td>\n    </tr>\n    <tr>\n      <th>3</th>\n      <td>Schlatt (Zürich)</td>\n      <td>Zurich</td>\n      <td>Switzerland</td>\n    </tr>\n    <tr>\n      <th>4</th>\n      <td>Zurich</td>\n      <td>Zurich</td>\n      <td>Switzerland</td>\n    </tr>\n    <tr>\n      <th>5</th>\n      <td>Zurich</td>\n      <td>Zurich</td>\n      <td>Switzerland</td>\n    </tr>\n    <tr>\n      <th>6</th>\n      <td>Schlieren</td>\n      <td>Zurich</td>\n      <td>Switzerland</td>\n    </tr>\n    <tr>\n      <th>7</th>\n      <td>Zurich</td>\n      <td>Zurich</td>\n      <td>Switzerland</td>\n    </tr>\n    <tr>\n      <th>8</th>\n      <td>Zurich</td>\n      <td>Zurich</td>\n      <td>Switzerland</td>\n    </tr>\n    <tr>\n      <th>9</th>\n      <td>Zurich</td>\n      <td>Switzerland</td>\n      <td>None</td>\n    </tr>\n    <tr>\n      <th>10</th>\n      <td>Zurich</td>\n      <td>Zurich</td>\n      <td>Switzerland</td>\n    </tr>\n    <tr>\n      <th>11</th>\n      <td>Zurich</td>\n      <td>Zurich</td>\n      <td>Switzerland</td>\n    </tr>\n    <tr>\n      <th>12</th>\n      <td>Zurich</td>\n      <td>Zurich</td>\n      <td>Switzerland</td>\n    </tr>\n    <tr>\n      <th>13</th>\n      <td>Kloten</td>\n      <td>Zurich</td>\n      <td>Switzerland</td>\n    </tr>\n    <tr>\n      <th>14</th>\n      <td>Zurich</td>\n      <td>Switzerland</td>\n      <td>None</td>\n    </tr>\n    <tr>\n      <th>15</th>\n      <td>Schlatt (Zürich)</td>\n      <td>Zurich</td>\n      <td>Switzerland</td>\n    </tr>\n    <tr>\n      <th>16</th>\n      <td>Schafisheim</td>\n      <td>Aargau</td>\n      <td>Switzerland</td>\n    </tr>\n    <tr>\n      <th>17</th>\n      <td>Zurich</td>\n      <td>Switzerland</td>\n      <td>None</td>\n    </tr>\n    <tr>\n      <th>18</th>\n      <td>Zurich</td>\n      <td>Zurich</td>\n      <td>Switzerland</td>\n    </tr>\n    <tr>\n      <th>19</th>\n      <td>Schlatt (Zürich)</td>\n      <td>Zurich</td>\n      <td>Switzerland</td>\n    </tr>\n    <tr>\n      <th>20</th>\n      <td>Zurich</td>\n      <td>Zurich</td>\n      <td>Switzerland</td>\n    </tr>\n    <tr>\n      <th>21</th>\n      <td>Zurich</td>\n      <td>Zurich</td>\n      <td>Switzerland</td>\n    </tr>\n    <tr>\n      <th>22</th>\n      <td>Zurich</td>\n      <td>Zurich</td>\n      <td>Switzerland</td>\n    </tr>\n    <tr>\n      <th>23</th>\n      <td>Greater Zurich Area</td>\n      <td>None</td>\n      <td>None</td>\n    </tr>\n    <tr>\n      <th>24</th>\n      <td>Zurich</td>\n      <td>Zurich</td>\n      <td>Switzerland</td>\n    </tr>\n    <tr>\n      <th>25</th>\n      <td>Zurich</td>\n      <td>Switzerland</td>\n      <td>None</td>\n    </tr>\n    <tr>\n      <th>26</th>\n      <td>Zurich</td>\n      <td>Switzerland</td>\n      <td>None</td>\n    </tr>\n    <tr>\n      <th>27</th>\n      <td>Zurich</td>\n      <td>Switzerland</td>\n      <td>None</td>\n    </tr>\n    <tr>\n      <th>28</th>\n      <td>Zurich</td>\n      <td>Switzerland</td>\n      <td>None</td>\n    </tr>\n    <tr>\n      <th>29</th>\n      <td>Zurich</td>\n      <td>Switzerland</td>\n      <td>None</td>\n    </tr>\n    <tr>\n      <th>30</th>\n      <td>Zurich</td>\n      <td>Zurich</td>\n      <td>Switzerland</td>\n    </tr>\n    <tr>\n      <th>31</th>\n      <td>Zurich</td>\n      <td>Switzerland</td>\n      <td>None</td>\n    </tr>\n    <tr>\n      <th>32</th>\n      <td>Zurich</td>\n      <td>Switzerland</td>\n      <td>None</td>\n    </tr>\n    <tr>\n      <th>33</th>\n      <td>Zurich</td>\n      <td>Zurich</td>\n      <td>Switzerland</td>\n    </tr>\n    <tr>\n      <th>34</th>\n      <td>Wallisellen</td>\n      <td>Zurich</td>\n      <td>Switzerland</td>\n    </tr>\n    <tr>\n      <th>35</th>\n      <td>Zug</td>\n      <td>Zug</td>\n      <td>Switzerland</td>\n    </tr>\n    <tr>\n      <th>36</th>\n      <td>Zurich</td>\n      <td>Zurich</td>\n      <td>Switzerland</td>\n    </tr>\n    <tr>\n      <th>37</th>\n      <td>Schlatt (Zürich)</td>\n      <td>Zurich</td>\n      <td>Switzerland</td>\n    </tr>\n    <tr>\n      <th>38</th>\n      <td>Horgen</td>\n      <td>Zurich</td>\n      <td>Switzerland</td>\n    </tr>\n    <tr>\n      <th>39</th>\n      <td>Schlatt (Zürich)</td>\n      <td>Zurich</td>\n      <td>Switzerland</td>\n    </tr>\n    <tr>\n      <th>40</th>\n      <td>Zurich</td>\n      <td>Zurich</td>\n      <td>Switzerland</td>\n    </tr>\n    <tr>\n      <th>41</th>\n      <td>Zurich</td>\n      <td>Zurich</td>\n      <td>Switzerland</td>\n    </tr>\n    <tr>\n      <th>42</th>\n      <td>Zurich</td>\n      <td>Zurich</td>\n      <td>Switzerland</td>\n    </tr>\n    <tr>\n      <th>43</th>\n      <td>Zurich</td>\n      <td>Zurich</td>\n      <td>Switzerland</td>\n    </tr>\n    <tr>\n      <th>44</th>\n      <td>Zurich</td>\n      <td>Zurich</td>\n      <td>Switzerland</td>\n    </tr>\n    <tr>\n      <th>45</th>\n      <td>Schlatt (Zürich)</td>\n      <td>Zurich</td>\n      <td>Switzerland</td>\n    </tr>\n    <tr>\n      <th>46</th>\n      <td>Zurich</td>\n      <td>Zurich</td>\n      <td>Switzerland</td>\n    </tr>\n    <tr>\n      <th>47</th>\n      <td>Zurich</td>\n      <td>Zurich</td>\n      <td>Switzerland</td>\n    </tr>\n  </tbody>\n</table>\n</div>"
     },
     "execution_count": 84,
     "metadata": {},
     "output_type": "execute_result"
    }
   ],
   "source": [
    "new2\n"
   ],
   "metadata": {
    "collapsed": false,
    "pycharm": {
     "name": "#%%\n"
    }
   }
  },
  {
   "cell_type": "markdown",
   "source": [
    "merge df and new, drop Locations as it is redundant now"
   ],
   "metadata": {
    "collapsed": false
   }
  },
  {
   "cell_type": "code",
   "execution_count": 85,
   "outputs": [
    {
     "data": {
      "text/plain": "                                 Title                      Company  \\\n0                         Data Analyst                 EPAM Systems   \n1  Data Analyst (all genders, 80-100%)       MAMMUT Sports Group AG   \n2          Global Digital Data Analyst          La Prairie Group AG   \n3              Digital Analyst (w/m/d)  Migros-Genossenschafts-Bund   \n\n    Post Date             City2  \n0  2021-01-15            Zurich  \n1  2021-01-21              Seon  \n2  2021-01-17            Zurich  \n3  2021-01-19  Schlatt (Zürich)  ",
      "text/html": "<div>\n<style scoped>\n    .dataframe tbody tr th:only-of-type {\n        vertical-align: middle;\n    }\n\n    .dataframe tbody tr th {\n        vertical-align: top;\n    }\n\n    .dataframe thead th {\n        text-align: right;\n    }\n</style>\n<table border=\"1\" class=\"dataframe\">\n  <thead>\n    <tr style=\"text-align: right;\">\n      <th></th>\n      <th>Title</th>\n      <th>Company</th>\n      <th>Post Date</th>\n      <th>City2</th>\n    </tr>\n  </thead>\n  <tbody>\n    <tr>\n      <th>0</th>\n      <td>Data Analyst</td>\n      <td>EPAM Systems</td>\n      <td>2021-01-15</td>\n      <td>Zurich</td>\n    </tr>\n    <tr>\n      <th>1</th>\n      <td>Data Analyst (all genders, 80-100%)</td>\n      <td>MAMMUT Sports Group AG</td>\n      <td>2021-01-21</td>\n      <td>Seon</td>\n    </tr>\n    <tr>\n      <th>2</th>\n      <td>Global Digital Data Analyst</td>\n      <td>La Prairie Group AG</td>\n      <td>2021-01-17</td>\n      <td>Zurich</td>\n    </tr>\n    <tr>\n      <th>3</th>\n      <td>Digital Analyst (w/m/d)</td>\n      <td>Migros-Genossenschafts-Bund</td>\n      <td>2021-01-19</td>\n      <td>Schlatt (Zürich)</td>\n    </tr>\n  </tbody>\n</table>\n</div>"
     },
     "execution_count": 85,
     "metadata": {},
     "output_type": "execute_result"
    }
   ],
   "source": [
    "df2 = df.join(new2, how = 'left')\n",
    "df2.drop(columns = ['Locations',1 , 2], inplace = True)\n",
    "df2.head(4)"
   ],
   "metadata": {
    "collapsed": false,
    "pycharm": {
     "name": "#%%\n"
    }
   }
  },
  {
   "cell_type": "code",
   "execution_count": 86,
   "outputs": [
    {
     "data": {
      "text/plain": "      City         1     2\n0   Zurich      None  None\n1     Seon      None  None\n2   Zurich      None  None\n3  Schlatt  (Zürich)  None",
      "text/html": "<div>\n<style scoped>\n    .dataframe tbody tr th:only-of-type {\n        vertical-align: middle;\n    }\n\n    .dataframe tbody tr th {\n        vertical-align: top;\n    }\n\n    .dataframe thead th {\n        text-align: right;\n    }\n</style>\n<table border=\"1\" class=\"dataframe\">\n  <thead>\n    <tr style=\"text-align: right;\">\n      <th></th>\n      <th>City</th>\n      <th>1</th>\n      <th>2</th>\n    </tr>\n  </thead>\n  <tbody>\n    <tr>\n      <th>0</th>\n      <td>Zurich</td>\n      <td>None</td>\n      <td>None</td>\n    </tr>\n    <tr>\n      <th>1</th>\n      <td>Seon</td>\n      <td>None</td>\n      <td>None</td>\n    </tr>\n    <tr>\n      <th>2</th>\n      <td>Zurich</td>\n      <td>None</td>\n      <td>None</td>\n    </tr>\n    <tr>\n      <th>3</th>\n      <td>Schlatt</td>\n      <td>(Zürich)</td>\n      <td>None</td>\n    </tr>\n  </tbody>\n</table>\n</div>"
     },
     "execution_count": 86,
     "metadata": {},
     "output_type": "execute_result"
    }
   ],
   "source": [
    "new3 = df2.City2.str.split(' ', expand=True)\n",
    "new4 = new3.rename(columns = {0: 'City'})\n",
    "new4.head(4)"
   ],
   "metadata": {
    "collapsed": false,
    "pycharm": {
     "name": "#%%\n"
    }
   }
  },
  {
   "cell_type": "code",
   "execution_count": 87,
   "outputs": [
    {
     "data": {
      "text/plain": "                                 Title                      Company  \\\n0                         Data Analyst                 EPAM Systems   \n1  Data Analyst (all genders, 80-100%)       MAMMUT Sports Group AG   \n2          Global Digital Data Analyst          La Prairie Group AG   \n3              Digital Analyst (w/m/d)  Migros-Genossenschafts-Bund   \n\n    Post Date     City  \n0  2021-01-15   Zurich  \n1  2021-01-21     Seon  \n2  2021-01-17   Zurich  \n3  2021-01-19  Schlatt  ",
      "text/html": "<div>\n<style scoped>\n    .dataframe tbody tr th:only-of-type {\n        vertical-align: middle;\n    }\n\n    .dataframe tbody tr th {\n        vertical-align: top;\n    }\n\n    .dataframe thead th {\n        text-align: right;\n    }\n</style>\n<table border=\"1\" class=\"dataframe\">\n  <thead>\n    <tr style=\"text-align: right;\">\n      <th></th>\n      <th>Title</th>\n      <th>Company</th>\n      <th>Post Date</th>\n      <th>City</th>\n    </tr>\n  </thead>\n  <tbody>\n    <tr>\n      <th>0</th>\n      <td>Data Analyst</td>\n      <td>EPAM Systems</td>\n      <td>2021-01-15</td>\n      <td>Zurich</td>\n    </tr>\n    <tr>\n      <th>1</th>\n      <td>Data Analyst (all genders, 80-100%)</td>\n      <td>MAMMUT Sports Group AG</td>\n      <td>2021-01-21</td>\n      <td>Seon</td>\n    </tr>\n    <tr>\n      <th>2</th>\n      <td>Global Digital Data Analyst</td>\n      <td>La Prairie Group AG</td>\n      <td>2021-01-17</td>\n      <td>Zurich</td>\n    </tr>\n    <tr>\n      <th>3</th>\n      <td>Digital Analyst (w/m/d)</td>\n      <td>Migros-Genossenschafts-Bund</td>\n      <td>2021-01-19</td>\n      <td>Schlatt</td>\n    </tr>\n  </tbody>\n</table>\n</div>"
     },
     "execution_count": 87,
     "metadata": {},
     "output_type": "execute_result"
    }
   ],
   "source": [
    "df4 = df2.join(new4, how = 'left')\n",
    "df4.drop(columns = [1, 2, \"City2\"], inplace = True)\n",
    "df4.head(4)\n",
    "\n"
   ],
   "metadata": {
    "collapsed": false,
    "pycharm": {
     "name": "#%%\n"
    }
   }
  },
  {
   "cell_type": "markdown",
   "source": [
    "create CSV"
   ],
   "metadata": {
    "collapsed": false
   }
  },
  {
   "cell_type": "code",
   "execution_count": 88,
   "outputs": [],
   "source": [
    "df4.to_csv('C:/Users/Marc\\Dropbox/01_Marc Arnold/Python Projects/04_Job Viz/02_Output/jobs_zurich_50.csv')\n"
   ],
   "metadata": {
    "collapsed": false,
    "pycharm": {
     "name": "#%%\n"
    }
   }
  }
 ],
 "metadata": {
  "kernelspec": {
   "display_name": "Python 3",
   "language": "python",
   "name": "python3"
  },
  "language_info": {
   "codemirror_mode": {
    "name": "ipython",
    "version": 2
   },
   "file_extension": ".py",
   "mimetype": "text/x-python",
   "name": "python",
   "nbconvert_exporter": "python",
   "pygments_lexer": "ipython2",
   "version": "2.7.6"
  }
 },
 "nbformat": 4,
 "nbformat_minor": 0
}