{
 "cells": [
  {
   "cell_type": "markdown",
   "source": [
    "Steps:\n",
    "- Scarping Job postings with Selenium and bs4\n",
    "- Visualize in Tableau or PowerBI"
   ],
   "metadata": {
    "collapsed": false
   }
  },
  {
   "cell_type": "markdown",
   "source": [
    "import necessary modules - first try with BeautifulSoup"
   ],
   "metadata": {
    "collapsed": false
   }
  },
  {
   "cell_type": "code",
   "execution_count": 97,
   "outputs": [],
   "source": [
    "import driver as driver\n",
    "import pandas as pd\n",
    "import re\n",
    "import lxml\n",
    "from bs4 import BeautifulSoup\n",
    "from datetime import date, timedelta, datetime\n",
    "from IPython.core.display import clear_output\n",
    "from random import randint\n",
    "from requests import get\n",
    "from selenium import webdriver\n",
    "from selenium.webdriver.common.action_chains import ActionChains\n",
    "from time import sleep\n",
    "from time import time\n",
    "import datetime\n",
    "start_time = time()\n",
    "\n",
    "from warnings import warn\n"
   ],
   "metadata": {
    "collapsed": false,
    "pycharm": {
     "name": "#%%\n"
    }
   }
  },
  {
   "cell_type": "markdown",
   "source": [
    "Select wanted url"
   ],
   "metadata": {
    "collapsed": false
   }
  },
  {
   "cell_type": "code",
   "execution_count": 98,
   "outputs": [
    {
     "data": {
      "text/plain": "'https://www.linkedin.com/jobs/search?keywords=Consulting&location=Paris%2C%20%2C%20France'"
     },
     "execution_count": 98,
     "metadata": {},
     "output_type": "execute_result"
    }
   ],
   "source": [
    "job_kind = str(input('Please enter the kind of job you want to work in (e.g. Data Analyst)'))\n",
    "city = str(input('Please enter the city you want to work in'))\n",
    "state = str(input('Please enter the state you want to work in (not mandatory)'))\n",
    "country = str(input('Please enter the country you want to work in'))\n",
    "url = 'https://www.linkedin.com/jobs/search?keywords=' + job_kind + '&location='+ city + '%2C%20'+ state +'%2C%20'+ country\n",
    "\n",
    "no_of_jobs = 51\n",
    "\n",
    "url\n",
    "\n"
   ],
   "metadata": {
    "collapsed": false,
    "pycharm": {
     "name": "#%%\n"
    }
   }
  },
  {
   "cell_type": "markdown",
   "source": [
    "open windows with url stated above in"
   ],
   "metadata": {
    "collapsed": false
   }
  },
  {
   "cell_type": "code",
   "execution_count": 99,
   "outputs": [],
   "source": [
    "driver = webdriver.Chrome()\n",
    "driver.get(url)\n",
    "sleep(3)\n",
    "action = ActionChains(driver)"
   ],
   "metadata": {
    "collapsed": false,
    "pycharm": {
     "name": "#%%\n"
    }
   }
  },
  {
   "cell_type": "markdown",
   "source": [
    "to show more jobs than the initial 25"
   ],
   "metadata": {
    "collapsed": false
   }
  },
  {
   "cell_type": "code",
   "execution_count": 100,
   "outputs": [],
   "source": [
    "driver.execute_script(\"window.scrollTo(0,document.body.scrollHeight)\")\n",
    "sleep(20)\n",
    "\n"
   ],
   "metadata": {
    "collapsed": false,
    "pycharm": {
     "name": "#%%\n"
    }
   }
  },
  {
   "cell_type": "markdown",
   "source": [
    "parsing the visible webpage"
   ],
   "metadata": {
    "collapsed": false
   }
  },
  {
   "cell_type": "code",
   "execution_count": 101,
   "outputs": [],
   "source": [
    "pageSource = driver.page_source\n",
    "soup = BeautifulSoup(pageSource,  \"html.parser\")\n",
    "\n"
   ],
   "metadata": {
    "collapsed": false,
    "pycharm": {
     "name": "#%%\n"
    }
   }
  },
  {
   "cell_type": "markdown",
   "source": [
    "Parsing content"
   ],
   "metadata": {
    "collapsed": false
   }
  },
  {
   "cell_type": "code",
   "execution_count": 102,
   "outputs": [
    {
     "name": "stdout",
     "output_type": "stream",
     "text": [
      "Consultant\n",
      "HYFFN\n"
     ]
    }
   ],
   "source": [
    "first_job = soup.find('h3', class_ = 'result-card__title job-result-card__title').text\n",
    "print(first_job)\n",
    "\n",
    "first_company = soup.find('a', class_ = 'result-card__subtitle-link job-result-card__subtitle-link').text\n",
    "print(first_company)"
   ],
   "metadata": {
    "collapsed": false,
    "pycharm": {
     "name": "#%%\n"
    }
   }
  },
  {
   "cell_type": "markdown",
   "source": [
    "Create job container"
   ],
   "metadata": {
    "collapsed": false
   }
  },
  {
   "cell_type": "code",
   "execution_count": 103,
   "outputs": [
    {
     "name": "stdout",
     "output_type": "stream",
     "text": [
      "42\n"
     ]
    }
   ],
   "source": [
    "job_container = soup.find('ul', class_=\"jobs-search__results-list\")\n",
    "print(len(job_container))"
   ],
   "metadata": {
    "collapsed": false,
    "pycharm": {
     "name": "#%%\n"
    }
   }
  },
  {
   "cell_type": "markdown",
   "source": [
    "create for loop to look for all jobs"
   ],
   "metadata": {
    "collapsed": false
   }
  },
  {
   "cell_type": "code",
   "execution_count": 104,
   "outputs": [
    {
     "name": "stdout",
     "output_type": "stream",
     "text": [
      "You are scraping information about 42 jobs.\n"
     ]
    }
   ],
   "source": [
    "print('You are scraping information about {} jobs.'.format(len(job_container)))"
   ],
   "metadata": {
    "collapsed": false,
    "pycharm": {
     "name": "#%%\n"
    }
   }
  },
  {
   "cell_type": "code",
   "execution_count": 105,
   "outputs": [],
   "source": [
    "job_titles = []\n",
    "companies = []\n",
    "locations = []\n",
    "time = []\n",
    "date = []\n",
    "\n",
    "\n",
    "for jobs in job_container:\n",
    "    post_title = jobs.find('h3', class_ = 'result-card__title job-result-card__title').text\n",
    "    job_titles.append(post_title)\n",
    "\n",
    "    post_company = jobs.find('h4', class_ = 'result-card__subtitle job-result-card__subtitle').text\n",
    "    companies.append(post_company)\n",
    "\n",
    "    post_locations = jobs.find('span', class_ = 'job-result-card__location').text\n",
    "    locations.append(post_locations)\n",
    "\n",
    "    post_date = jobs.select_one('time')['datetime']\n",
    "    date.append(post_date)\n"
   ],
   "metadata": {
    "collapsed": false,
    "pycharm": {
     "name": "#%%\n"
    }
   }
  },
  {
   "cell_type": "code",
   "execution_count": 106,
   "outputs": [
    {
     "name": "stdout",
     "output_type": "stream",
     "text": [
      "{'Title': ['Consultant', 'Consultant', 'Consultant.e Junior - Accenture Consulting - CDI', 'Business Consulting Associate Consultant Amsterdam', 'Project Assistant', 'Responsable du développement -Fintech H/F - FR8246687', 'Social Impact PA Intern', 'Analyst / Junior Associate (M/F)', 'Analyst - Oslo office', 'Implementation Consultant', 'Consultant - Capital Excellence', 'Analyst (Paris/Brussels)', 'Consultant PMO junior Transformation digitale – Paris', 'Consultant junior', 'Mergers and Acquisitions Associate', 'Associate Partner', 'Manager, Client Consulting - Visa Consulting & Analytics', 'Marketing Asssistant Intern', 'Solutions Consultant - AdobeSign', 'Consultant junior en Innovation Paris H/F', 'Business Transformation Consultant', 'Buyout Internship', 'Intern', 'Head of Impact & Sustainability Consulting', 'Consultant', 'Business Consulting Manager', 'Senior Consultant / Associate, Strategic Consulting', 'Consultant Junior en Stratégie Data et IA', 'Intern - Data and Analytics', 'Recruitment Specialist', 'Consultant (m/f)', 'Strategy Value consulting (France) ', 'Accenture Strategy - M&A Manager', 'Consultant junior (H/F)', 'Research Analyst', 'Mergers & Acquisitions Consultant (Entry Level)', 'Chief of Staff', 'Consultant ', 'Consultant', 'Consultant interne La Banque Postale Consulting H/F', 'CDI - Chef de Projet – Projets Transverses – F/H - RIMOWA', 'Customer Success Manager'], 'Company': ['HYFFN', 'pnlconseil', 'Accenture France', 'Synechron', 'UNESCO - United Nations Educational, Scientific and Cultural Organization', 'Morgan Philips Group', 'Boston Consulting Group (BCG)', 'Ergon Capital', 'Bryan, Garnier & Co', 'McKinsey & Company', 'McKinsey & Company', 'AVOMIND', 'Accenture France', 'Enza Management Consulting', 'Klecha & Co.', 'Gartner', 'Visa', 'Boston Consulting Group (BCG)', 'Adobe', 'Persuaders', 'TOLSON Consulting', 'The Ardian Buyout', 'GlobeScan', 'INCO', 'FAB-Group', 'Converteo', 'JLL', 'AI Builders', 'Visa', 'Boston Consulting Group (BCG)', 'Allianz Technology', 'Oracle', 'Accenture', 'Omnicom Media Group', 'Compass Lexecon', 'ERM: Environmental Resources Management', 'Luko', 'Oresys', 'fab group', 'La Banque Postale', 'RIMOWA', 'HelloFresh'], 'Locations': ['Paris, Île-de-France, France', 'Paris, Île-de-France, France', 'Paris, Île-de-France, France', 'Paris, Île-de-France, France', 'Paris, Île-de-France, France', 'Paris, Île-de-France, France', 'Paris, Île-de-France, France', 'Paris, Île-de-France, France', 'Paris, Île-de-France, France', 'Paris, Île-de-France, France', 'Paris, Île-de-France, France', 'Paris, Île-de-France, France', 'Paris, Île-de-France, France', 'Paris, Île-de-France, France', 'Paris, Île-de-France, France', 'Paris, Île-de-France, France', 'Paris, Île-de-France, France', 'Paris, Île-de-France, France', 'Paris, Île-de-France, France', 'Paris, Île-de-France, France', 'Paris, Île-de-France, France', 'Paris, Île-de-France, France', 'Paris, Île-de-France, France', 'Paris, Île-de-France, France', 'Paris, Île-de-France, France', 'Paris, Île-de-France, France', 'Paris, Île-de-France, France', 'Paris, Île-de-France, France', 'Paris, Île-de-France, France', 'Paris, Île-de-France, France', 'St.-Ouen, Île-de-France, France', 'Paris, Île-de-France, France', 'Paris, Île-de-France, France', 'Paris, Île-de-France, France', 'Paris, Île-de-France, France', 'Paris, Île-de-France, France', 'Paris, Île-de-France, France', 'Paris, Île-de-France, France', 'Paris, Île-de-France, France', 'Paris, Île-de-France, France', 'Paris, Île-de-France, France', 'Paris, Île-de-France, France'], 'Post Date': ['2021-02-03', '2021-02-03', '2021-01-29', '2021-01-25', '2021-02-02', '2021-02-03', '2021-01-21', '2021-02-03', '2021-01-28', '2021-01-23', '2021-01-23', '2020-10-15', '2021-02-02', '2021-01-18', '2021-01-29', '2021-01-05', '2021-01-19', '2021-01-27', '2021-01-06', '2021-01-01', '2021-01-20', '2021-01-27', '2021-02-02', '2021-01-27', '2021-01-10', '2021-01-30', '2020-12-04', '2021-01-27', '2021-02-02', '2021-01-26', '2020-10-17', '2021-01-20', '2021-02-01', '2021-02-03', '2021-01-17', '2021-01-07', '2021-02-02', '2020-12-28', '2021-01-21', '2021-01-15', '2021-02-02', '2021-02-02']}\n"
     ]
    }
   ],
   "source": [
    "ml = {'Title': job_titles, 'Company': companies, 'Locations': locations, 'Post Date': date}\n",
    "print(ml)"
   ],
   "metadata": {
    "collapsed": false,
    "pycharm": {
     "name": "#%%\n"
    }
   }
  },
  {
   "cell_type": "code",
   "execution_count": 107,
   "outputs": [
    {
     "data": {
      "text/plain": "        Title Company                     Locations   Post Date\n0  Consultant   HYFFN  Paris, Île-de-France, France  2021-02-03",
      "text/html": "<div>\n<style scoped>\n    .dataframe tbody tr th:only-of-type {\n        vertical-align: middle;\n    }\n\n    .dataframe tbody tr th {\n        vertical-align: top;\n    }\n\n    .dataframe thead th {\n        text-align: right;\n    }\n</style>\n<table border=\"1\" class=\"dataframe\">\n  <thead>\n    <tr style=\"text-align: right;\">\n      <th></th>\n      <th>Title</th>\n      <th>Company</th>\n      <th>Locations</th>\n      <th>Post Date</th>\n    </tr>\n  </thead>\n  <tbody>\n    <tr>\n      <th>0</th>\n      <td>Consultant</td>\n      <td>HYFFN</td>\n      <td>Paris, Île-de-France, France</td>\n      <td>2021-02-03</td>\n    </tr>\n  </tbody>\n</table>\n</div>"
     },
     "execution_count": 107,
     "metadata": {},
     "output_type": "execute_result"
    }
   ],
   "source": [
    "df = pd.DataFrame(ml)\n",
    "df.head(1)"
   ],
   "metadata": {
    "collapsed": false,
    "pycharm": {
     "name": "#%%\n"
    }
   }
  },
  {
   "cell_type": "markdown",
   "source": [
    "Separate City from State and Country\n"
   ],
   "metadata": {
    "collapsed": false
   }
  },
  {
   "cell_type": "code",
   "execution_count": 108,
   "outputs": [],
   "source": [
    "new = df.Locations.str.split(',', n = 0, expand = True)"
   ],
   "metadata": {
    "collapsed": false,
    "pycharm": {
     "name": "#%%\n"
    }
   }
  },
  {
   "cell_type": "code",
   "execution_count": 109,
   "outputs": [],
   "source": [
    "new2 = new.rename(columns = {0: 'City2'})"
   ],
   "metadata": {
    "collapsed": false,
    "pycharm": {
     "name": "#%%\n"
    }
   }
  },
  {
   "cell_type": "code",
   "execution_count": 110,
   "outputs": [
    {
     "data": {
      "text/plain": "       City2               1        2\n0      Paris   Île-de-France   France\n1      Paris   Île-de-France   France\n2      Paris   Île-de-France   France\n3      Paris   Île-de-France   France\n4      Paris   Île-de-France   France\n5      Paris   Île-de-France   France\n6      Paris   Île-de-France   France\n7      Paris   Île-de-France   France\n8      Paris   Île-de-France   France\n9      Paris   Île-de-France   France\n10     Paris   Île-de-France   France\n11     Paris   Île-de-France   France\n12     Paris   Île-de-France   France\n13     Paris   Île-de-France   France\n14     Paris   Île-de-France   France\n15     Paris   Île-de-France   France\n16     Paris   Île-de-France   France\n17     Paris   Île-de-France   France\n18     Paris   Île-de-France   France\n19     Paris   Île-de-France   France\n20     Paris   Île-de-France   France\n21     Paris   Île-de-France   France\n22     Paris   Île-de-France   France\n23     Paris   Île-de-France   France\n24     Paris   Île-de-France   France\n25     Paris   Île-de-France   France\n26     Paris   Île-de-France   France\n27     Paris   Île-de-France   France\n28     Paris   Île-de-France   France\n29     Paris   Île-de-France   France\n30  St.-Ouen   Île-de-France   France\n31     Paris   Île-de-France   France\n32     Paris   Île-de-France   France\n33     Paris   Île-de-France   France\n34     Paris   Île-de-France   France\n35     Paris   Île-de-France   France\n36     Paris   Île-de-France   France\n37     Paris   Île-de-France   France\n38     Paris   Île-de-France   France\n39     Paris   Île-de-France   France\n40     Paris   Île-de-France   France\n41     Paris   Île-de-France   France",
      "text/html": "<div>\n<style scoped>\n    .dataframe tbody tr th:only-of-type {\n        vertical-align: middle;\n    }\n\n    .dataframe tbody tr th {\n        vertical-align: top;\n    }\n\n    .dataframe thead th {\n        text-align: right;\n    }\n</style>\n<table border=\"1\" class=\"dataframe\">\n  <thead>\n    <tr style=\"text-align: right;\">\n      <th></th>\n      <th>City2</th>\n      <th>1</th>\n      <th>2</th>\n    </tr>\n  </thead>\n  <tbody>\n    <tr>\n      <th>0</th>\n      <td>Paris</td>\n      <td>Île-de-France</td>\n      <td>France</td>\n    </tr>\n    <tr>\n      <th>1</th>\n      <td>Paris</td>\n      <td>Île-de-France</td>\n      <td>France</td>\n    </tr>\n    <tr>\n      <th>2</th>\n      <td>Paris</td>\n      <td>Île-de-France</td>\n      <td>France</td>\n    </tr>\n    <tr>\n      <th>3</th>\n      <td>Paris</td>\n      <td>Île-de-France</td>\n      <td>France</td>\n    </tr>\n    <tr>\n      <th>4</th>\n      <td>Paris</td>\n      <td>Île-de-France</td>\n      <td>France</td>\n    </tr>\n    <tr>\n      <th>5</th>\n      <td>Paris</td>\n      <td>Île-de-France</td>\n      <td>France</td>\n    </tr>\n    <tr>\n      <th>6</th>\n      <td>Paris</td>\n      <td>Île-de-France</td>\n      <td>France</td>\n    </tr>\n    <tr>\n      <th>7</th>\n      <td>Paris</td>\n      <td>Île-de-France</td>\n      <td>France</td>\n    </tr>\n    <tr>\n      <th>8</th>\n      <td>Paris</td>\n      <td>Île-de-France</td>\n      <td>France</td>\n    </tr>\n    <tr>\n      <th>9</th>\n      <td>Paris</td>\n      <td>Île-de-France</td>\n      <td>France</td>\n    </tr>\n    <tr>\n      <th>10</th>\n      <td>Paris</td>\n      <td>Île-de-France</td>\n      <td>France</td>\n    </tr>\n    <tr>\n      <th>11</th>\n      <td>Paris</td>\n      <td>Île-de-France</td>\n      <td>France</td>\n    </tr>\n    <tr>\n      <th>12</th>\n      <td>Paris</td>\n      <td>Île-de-France</td>\n      <td>France</td>\n    </tr>\n    <tr>\n      <th>13</th>\n      <td>Paris</td>\n      <td>Île-de-France</td>\n      <td>France</td>\n    </tr>\n    <tr>\n      <th>14</th>\n      <td>Paris</td>\n      <td>Île-de-France</td>\n      <td>France</td>\n    </tr>\n    <tr>\n      <th>15</th>\n      <td>Paris</td>\n      <td>Île-de-France</td>\n      <td>France</td>\n    </tr>\n    <tr>\n      <th>16</th>\n      <td>Paris</td>\n      <td>Île-de-France</td>\n      <td>France</td>\n    </tr>\n    <tr>\n      <th>17</th>\n      <td>Paris</td>\n      <td>Île-de-France</td>\n      <td>France</td>\n    </tr>\n    <tr>\n      <th>18</th>\n      <td>Paris</td>\n      <td>Île-de-France</td>\n      <td>France</td>\n    </tr>\n    <tr>\n      <th>19</th>\n      <td>Paris</td>\n      <td>Île-de-France</td>\n      <td>France</td>\n    </tr>\n    <tr>\n      <th>20</th>\n      <td>Paris</td>\n      <td>Île-de-France</td>\n      <td>France</td>\n    </tr>\n    <tr>\n      <th>21</th>\n      <td>Paris</td>\n      <td>Île-de-France</td>\n      <td>France</td>\n    </tr>\n    <tr>\n      <th>22</th>\n      <td>Paris</td>\n      <td>Île-de-France</td>\n      <td>France</td>\n    </tr>\n    <tr>\n      <th>23</th>\n      <td>Paris</td>\n      <td>Île-de-France</td>\n      <td>France</td>\n    </tr>\n    <tr>\n      <th>24</th>\n      <td>Paris</td>\n      <td>Île-de-France</td>\n      <td>France</td>\n    </tr>\n    <tr>\n      <th>25</th>\n      <td>Paris</td>\n      <td>Île-de-France</td>\n      <td>France</td>\n    </tr>\n    <tr>\n      <th>26</th>\n      <td>Paris</td>\n      <td>Île-de-France</td>\n      <td>France</td>\n    </tr>\n    <tr>\n      <th>27</th>\n      <td>Paris</td>\n      <td>Île-de-France</td>\n      <td>France</td>\n    </tr>\n    <tr>\n      <th>28</th>\n      <td>Paris</td>\n      <td>Île-de-France</td>\n      <td>France</td>\n    </tr>\n    <tr>\n      <th>29</th>\n      <td>Paris</td>\n      <td>Île-de-France</td>\n      <td>France</td>\n    </tr>\n    <tr>\n      <th>30</th>\n      <td>St.-Ouen</td>\n      <td>Île-de-France</td>\n      <td>France</td>\n    </tr>\n    <tr>\n      <th>31</th>\n      <td>Paris</td>\n      <td>Île-de-France</td>\n      <td>France</td>\n    </tr>\n    <tr>\n      <th>32</th>\n      <td>Paris</td>\n      <td>Île-de-France</td>\n      <td>France</td>\n    </tr>\n    <tr>\n      <th>33</th>\n      <td>Paris</td>\n      <td>Île-de-France</td>\n      <td>France</td>\n    </tr>\n    <tr>\n      <th>34</th>\n      <td>Paris</td>\n      <td>Île-de-France</td>\n      <td>France</td>\n    </tr>\n    <tr>\n      <th>35</th>\n      <td>Paris</td>\n      <td>Île-de-France</td>\n      <td>France</td>\n    </tr>\n    <tr>\n      <th>36</th>\n      <td>Paris</td>\n      <td>Île-de-France</td>\n      <td>France</td>\n    </tr>\n    <tr>\n      <th>37</th>\n      <td>Paris</td>\n      <td>Île-de-France</td>\n      <td>France</td>\n    </tr>\n    <tr>\n      <th>38</th>\n      <td>Paris</td>\n      <td>Île-de-France</td>\n      <td>France</td>\n    </tr>\n    <tr>\n      <th>39</th>\n      <td>Paris</td>\n      <td>Île-de-France</td>\n      <td>France</td>\n    </tr>\n    <tr>\n      <th>40</th>\n      <td>Paris</td>\n      <td>Île-de-France</td>\n      <td>France</td>\n    </tr>\n    <tr>\n      <th>41</th>\n      <td>Paris</td>\n      <td>Île-de-France</td>\n      <td>France</td>\n    </tr>\n  </tbody>\n</table>\n</div>"
     },
     "execution_count": 110,
     "metadata": {},
     "output_type": "execute_result"
    }
   ],
   "source": [
    "new2\n"
   ],
   "metadata": {
    "collapsed": false,
    "pycharm": {
     "name": "#%%\n"
    }
   }
  },
  {
   "cell_type": "markdown",
   "source": [
    "merge df and new, drop Locations as it is redundant now"
   ],
   "metadata": {
    "collapsed": false
   }
  },
  {
   "cell_type": "code",
   "execution_count": 111,
   "outputs": [
    {
     "data": {
      "text/plain": "                                               Title           Company  \\\n0                                         Consultant             HYFFN   \n1                                         Consultant        pnlconseil   \n2   Consultant.e Junior - Accenture Consulting - CDI  Accenture France   \n3  Business Consulting Associate Consultant Amste...         Synechron   \n\n    Post Date  City2  \n0  2021-02-03  Paris  \n1  2021-02-03  Paris  \n2  2021-01-29  Paris  \n3  2021-01-25  Paris  ",
      "text/html": "<div>\n<style scoped>\n    .dataframe tbody tr th:only-of-type {\n        vertical-align: middle;\n    }\n\n    .dataframe tbody tr th {\n        vertical-align: top;\n    }\n\n    .dataframe thead th {\n        text-align: right;\n    }\n</style>\n<table border=\"1\" class=\"dataframe\">\n  <thead>\n    <tr style=\"text-align: right;\">\n      <th></th>\n      <th>Title</th>\n      <th>Company</th>\n      <th>Post Date</th>\n      <th>City2</th>\n    </tr>\n  </thead>\n  <tbody>\n    <tr>\n      <th>0</th>\n      <td>Consultant</td>\n      <td>HYFFN</td>\n      <td>2021-02-03</td>\n      <td>Paris</td>\n    </tr>\n    <tr>\n      <th>1</th>\n      <td>Consultant</td>\n      <td>pnlconseil</td>\n      <td>2021-02-03</td>\n      <td>Paris</td>\n    </tr>\n    <tr>\n      <th>2</th>\n      <td>Consultant.e Junior - Accenture Consulting - CDI</td>\n      <td>Accenture France</td>\n      <td>2021-01-29</td>\n      <td>Paris</td>\n    </tr>\n    <tr>\n      <th>3</th>\n      <td>Business Consulting Associate Consultant Amste...</td>\n      <td>Synechron</td>\n      <td>2021-01-25</td>\n      <td>Paris</td>\n    </tr>\n  </tbody>\n</table>\n</div>"
     },
     "execution_count": 111,
     "metadata": {},
     "output_type": "execute_result"
    }
   ],
   "source": [
    "df2 = df.join(new2, how = 'left')\n",
    "df2.drop(columns = ['Locations',1 , 2], inplace = True)\n",
    "df2.head(4)"
   ],
   "metadata": {
    "collapsed": false,
    "pycharm": {
     "name": "#%%\n"
    }
   }
  },
  {
   "cell_type": "code",
   "execution_count": 112,
   "outputs": [
    {
     "data": {
      "text/plain": "0    Paris\n1    Paris\n2    Paris\n3    Paris\n4    Paris\nName: City, dtype: object"
     },
     "execution_count": 112,
     "metadata": {},
     "output_type": "execute_result"
    }
   ],
   "source": [
    "new3 = df2.City2.str.split(' ', expand=True)\n",
    "new4 = new3.rename(columns = {0: 'City'})\n",
    "new5 = new4.City\n",
    "new5.head()"
   ],
   "metadata": {
    "collapsed": false,
    "pycharm": {
     "name": "#%%\n"
    }
   }
  },
  {
   "cell_type": "code",
   "execution_count": 113,
   "outputs": [
    {
     "data": {
      "text/plain": "                                                                                              Company  \\\nTitle                                                                                                   \nConsultant                                                                                      HYFFN   \nConsultant                                                                                 pnlconseil   \nConsultant.e Junior - Accenture Consulting - CDI                                     Accenture France   \nBusiness Consulting Associate Consultant Amsterdam                                          Synechron   \nProject Assistant                                   UNESCO - United Nations Educational, Scientifi...   \nResponsable du développement -Fintech H/F - FR8...                               Morgan Philips Group   \nSocial Impact PA Intern                                                 Boston Consulting Group (BCG)   \nAnalyst / Junior Associate (M/F)                                                        Ergon Capital   \nAnalyst - Oslo office                                                             Bryan, Garnier & Co   \nImplementation Consultant                                                          McKinsey & Company   \nConsultant - Capital Excellence                                                    McKinsey & Company   \nAnalyst (Paris/Brussels)                                                                      AVOMIND   \nConsultant PMO junior Transformation digitale –...                                   Accenture France   \nConsultant junior                                                          Enza Management Consulting   \nMergers and Acquisitions Associate                                                       Klecha & Co.   \nAssociate Partner                                                                             Gartner   \nManager, Client Consulting - Visa Consulting & ...                                               Visa   \nMarketing Asssistant Intern                                             Boston Consulting Group (BCG)   \nSolutions Consultant - AdobeSign                                                                Adobe   \nConsultant junior en Innovation Paris H/F                                                  Persuaders   \nBusiness Transformation Consultant                                                  TOLSON Consulting   \nBuyout Internship                                                                   The Ardian Buyout   \nIntern                                                                                      GlobeScan   \nHead of Impact & Sustainability Consulting                                                       INCO   \nConsultant                                                                                  FAB-Group   \nBusiness Consulting Manager                                                                 Converteo   \nSenior Consultant / Associate, Strategic Consul...                                                JLL   \nConsultant Junior en Stratégie Data et IA                                                 AI Builders   \nIntern - Data and Analytics                                                                      Visa   \nRecruitment Specialist                                                  Boston Consulting Group (BCG)   \nConsultant (m/f)                                                                   Allianz Technology   \nStrategy Value consulting (France)                                                             Oracle   \nAccenture Strategy - M&A Manager                                                            Accenture   \nConsultant junior (H/F)                                                           Omnicom Media Group   \nResearch Analyst                                                                      Compass Lexecon   \nMergers & Acquisitions Consultant (Entry Level)               ERM: Environmental Resources Management   \nChief of Staff                                                                                   Luko   \nConsultant                                                                                     Oresys   \nConsultant                                                                                  fab group   \nConsultant interne La Banque Postale Consulting...                                  La Banque Postale   \nCDI - Chef de Projet – Projets Transverses – F/...                                             RIMOWA   \nCustomer Success Manager                                                                   HelloFresh   \n\n                                                     Post Date      City  \nTitle                                                                     \nConsultant                                          2021-02-03     Paris  \nConsultant                                          2021-02-03     Paris  \nConsultant.e Junior - Accenture Consulting - CDI    2021-01-29     Paris  \nBusiness Consulting Associate Consultant Amsterdam  2021-01-25     Paris  \nProject Assistant                                   2021-02-02     Paris  \nResponsable du développement -Fintech H/F - FR8...  2021-02-03     Paris  \nSocial Impact PA Intern                             2021-01-21     Paris  \nAnalyst / Junior Associate (M/F)                    2021-02-03     Paris  \nAnalyst - Oslo office                               2021-01-28     Paris  \nImplementation Consultant                           2021-01-23     Paris  \nConsultant - Capital Excellence                     2021-01-23     Paris  \nAnalyst (Paris/Brussels)                            2020-10-15     Paris  \nConsultant PMO junior Transformation digitale –...  2021-02-02     Paris  \nConsultant junior                                   2021-01-18     Paris  \nMergers and Acquisitions Associate                  2021-01-29     Paris  \nAssociate Partner                                   2021-01-05     Paris  \nManager, Client Consulting - Visa Consulting & ...  2021-01-19     Paris  \nMarketing Asssistant Intern                         2021-01-27     Paris  \nSolutions Consultant - AdobeSign                    2021-01-06     Paris  \nConsultant junior en Innovation Paris H/F           2021-01-01     Paris  \nBusiness Transformation Consultant                  2021-01-20     Paris  \nBuyout Internship                                   2021-01-27     Paris  \nIntern                                              2021-02-02     Paris  \nHead of Impact & Sustainability Consulting          2021-01-27     Paris  \nConsultant                                          2021-01-10     Paris  \nBusiness Consulting Manager                         2021-01-30     Paris  \nSenior Consultant / Associate, Strategic Consul...  2020-12-04     Paris  \nConsultant Junior en Stratégie Data et IA           2021-01-27     Paris  \nIntern - Data and Analytics                         2021-02-02     Paris  \nRecruitment Specialist                              2021-01-26     Paris  \nConsultant (m/f)                                    2020-10-17  St.-Ouen  \nStrategy Value consulting (France)                  2021-01-20     Paris  \nAccenture Strategy - M&A Manager                    2021-02-01     Paris  \nConsultant junior (H/F)                             2021-02-03     Paris  \nResearch Analyst                                    2021-01-17     Paris  \nMergers & Acquisitions Consultant (Entry Level)     2021-01-07     Paris  \nChief of Staff                                      2021-02-02     Paris  \nConsultant                                          2020-12-28     Paris  \nConsultant                                          2021-01-21     Paris  \nConsultant interne La Banque Postale Consulting...  2021-01-15     Paris  \nCDI - Chef de Projet – Projets Transverses – F/...  2021-02-02     Paris  \nCustomer Success Manager                            2021-02-02     Paris  ",
      "text/html": "<div>\n<style scoped>\n    .dataframe tbody tr th:only-of-type {\n        vertical-align: middle;\n    }\n\n    .dataframe tbody tr th {\n        vertical-align: top;\n    }\n\n    .dataframe thead th {\n        text-align: right;\n    }\n</style>\n<table border=\"1\" class=\"dataframe\">\n  <thead>\n    <tr style=\"text-align: right;\">\n      <th></th>\n      <th>Company</th>\n      <th>Post Date</th>\n      <th>City</th>\n    </tr>\n    <tr>\n      <th>Title</th>\n      <th></th>\n      <th></th>\n      <th></th>\n    </tr>\n  </thead>\n  <tbody>\n    <tr>\n      <th>Consultant</th>\n      <td>HYFFN</td>\n      <td>2021-02-03</td>\n      <td>Paris</td>\n    </tr>\n    <tr>\n      <th>Consultant</th>\n      <td>pnlconseil</td>\n      <td>2021-02-03</td>\n      <td>Paris</td>\n    </tr>\n    <tr>\n      <th>Consultant.e Junior - Accenture Consulting - CDI</th>\n      <td>Accenture France</td>\n      <td>2021-01-29</td>\n      <td>Paris</td>\n    </tr>\n    <tr>\n      <th>Business Consulting Associate Consultant Amsterdam</th>\n      <td>Synechron</td>\n      <td>2021-01-25</td>\n      <td>Paris</td>\n    </tr>\n    <tr>\n      <th>Project Assistant</th>\n      <td>UNESCO - United Nations Educational, Scientifi...</td>\n      <td>2021-02-02</td>\n      <td>Paris</td>\n    </tr>\n    <tr>\n      <th>Responsable du développement -Fintech H/F - FR8246687</th>\n      <td>Morgan Philips Group</td>\n      <td>2021-02-03</td>\n      <td>Paris</td>\n    </tr>\n    <tr>\n      <th>Social Impact PA Intern</th>\n      <td>Boston Consulting Group (BCG)</td>\n      <td>2021-01-21</td>\n      <td>Paris</td>\n    </tr>\n    <tr>\n      <th>Analyst / Junior Associate (M/F)</th>\n      <td>Ergon Capital</td>\n      <td>2021-02-03</td>\n      <td>Paris</td>\n    </tr>\n    <tr>\n      <th>Analyst - Oslo office</th>\n      <td>Bryan, Garnier &amp; Co</td>\n      <td>2021-01-28</td>\n      <td>Paris</td>\n    </tr>\n    <tr>\n      <th>Implementation Consultant</th>\n      <td>McKinsey &amp; Company</td>\n      <td>2021-01-23</td>\n      <td>Paris</td>\n    </tr>\n    <tr>\n      <th>Consultant - Capital Excellence</th>\n      <td>McKinsey &amp; Company</td>\n      <td>2021-01-23</td>\n      <td>Paris</td>\n    </tr>\n    <tr>\n      <th>Analyst (Paris/Brussels)</th>\n      <td>AVOMIND</td>\n      <td>2020-10-15</td>\n      <td>Paris</td>\n    </tr>\n    <tr>\n      <th>Consultant PMO junior Transformation digitale – Paris</th>\n      <td>Accenture France</td>\n      <td>2021-02-02</td>\n      <td>Paris</td>\n    </tr>\n    <tr>\n      <th>Consultant junior</th>\n      <td>Enza Management Consulting</td>\n      <td>2021-01-18</td>\n      <td>Paris</td>\n    </tr>\n    <tr>\n      <th>Mergers and Acquisitions Associate</th>\n      <td>Klecha &amp; Co.</td>\n      <td>2021-01-29</td>\n      <td>Paris</td>\n    </tr>\n    <tr>\n      <th>Associate Partner</th>\n      <td>Gartner</td>\n      <td>2021-01-05</td>\n      <td>Paris</td>\n    </tr>\n    <tr>\n      <th>Manager, Client Consulting - Visa Consulting &amp; Analytics</th>\n      <td>Visa</td>\n      <td>2021-01-19</td>\n      <td>Paris</td>\n    </tr>\n    <tr>\n      <th>Marketing Asssistant Intern</th>\n      <td>Boston Consulting Group (BCG)</td>\n      <td>2021-01-27</td>\n      <td>Paris</td>\n    </tr>\n    <tr>\n      <th>Solutions Consultant - AdobeSign</th>\n      <td>Adobe</td>\n      <td>2021-01-06</td>\n      <td>Paris</td>\n    </tr>\n    <tr>\n      <th>Consultant junior en Innovation Paris H/F</th>\n      <td>Persuaders</td>\n      <td>2021-01-01</td>\n      <td>Paris</td>\n    </tr>\n    <tr>\n      <th>Business Transformation Consultant</th>\n      <td>TOLSON Consulting</td>\n      <td>2021-01-20</td>\n      <td>Paris</td>\n    </tr>\n    <tr>\n      <th>Buyout Internship</th>\n      <td>The Ardian Buyout</td>\n      <td>2021-01-27</td>\n      <td>Paris</td>\n    </tr>\n    <tr>\n      <th>Intern</th>\n      <td>GlobeScan</td>\n      <td>2021-02-02</td>\n      <td>Paris</td>\n    </tr>\n    <tr>\n      <th>Head of Impact &amp; Sustainability Consulting</th>\n      <td>INCO</td>\n      <td>2021-01-27</td>\n      <td>Paris</td>\n    </tr>\n    <tr>\n      <th>Consultant</th>\n      <td>FAB-Group</td>\n      <td>2021-01-10</td>\n      <td>Paris</td>\n    </tr>\n    <tr>\n      <th>Business Consulting Manager</th>\n      <td>Converteo</td>\n      <td>2021-01-30</td>\n      <td>Paris</td>\n    </tr>\n    <tr>\n      <th>Senior Consultant / Associate, Strategic Consulting</th>\n      <td>JLL</td>\n      <td>2020-12-04</td>\n      <td>Paris</td>\n    </tr>\n    <tr>\n      <th>Consultant Junior en Stratégie Data et IA</th>\n      <td>AI Builders</td>\n      <td>2021-01-27</td>\n      <td>Paris</td>\n    </tr>\n    <tr>\n      <th>Intern - Data and Analytics</th>\n      <td>Visa</td>\n      <td>2021-02-02</td>\n      <td>Paris</td>\n    </tr>\n    <tr>\n      <th>Recruitment Specialist</th>\n      <td>Boston Consulting Group (BCG)</td>\n      <td>2021-01-26</td>\n      <td>Paris</td>\n    </tr>\n    <tr>\n      <th>Consultant (m/f)</th>\n      <td>Allianz Technology</td>\n      <td>2020-10-17</td>\n      <td>St.-Ouen</td>\n    </tr>\n    <tr>\n      <th>Strategy Value consulting (France)</th>\n      <td>Oracle</td>\n      <td>2021-01-20</td>\n      <td>Paris</td>\n    </tr>\n    <tr>\n      <th>Accenture Strategy - M&amp;A Manager</th>\n      <td>Accenture</td>\n      <td>2021-02-01</td>\n      <td>Paris</td>\n    </tr>\n    <tr>\n      <th>Consultant junior (H/F)</th>\n      <td>Omnicom Media Group</td>\n      <td>2021-02-03</td>\n      <td>Paris</td>\n    </tr>\n    <tr>\n      <th>Research Analyst</th>\n      <td>Compass Lexecon</td>\n      <td>2021-01-17</td>\n      <td>Paris</td>\n    </tr>\n    <tr>\n      <th>Mergers &amp; Acquisitions Consultant (Entry Level)</th>\n      <td>ERM: Environmental Resources Management</td>\n      <td>2021-01-07</td>\n      <td>Paris</td>\n    </tr>\n    <tr>\n      <th>Chief of Staff</th>\n      <td>Luko</td>\n      <td>2021-02-02</td>\n      <td>Paris</td>\n    </tr>\n    <tr>\n      <th>Consultant</th>\n      <td>Oresys</td>\n      <td>2020-12-28</td>\n      <td>Paris</td>\n    </tr>\n    <tr>\n      <th>Consultant</th>\n      <td>fab group</td>\n      <td>2021-01-21</td>\n      <td>Paris</td>\n    </tr>\n    <tr>\n      <th>Consultant interne La Banque Postale Consulting H/F</th>\n      <td>La Banque Postale</td>\n      <td>2021-01-15</td>\n      <td>Paris</td>\n    </tr>\n    <tr>\n      <th>CDI - Chef de Projet – Projets Transverses – F/H - RIMOWA</th>\n      <td>RIMOWA</td>\n      <td>2021-02-02</td>\n      <td>Paris</td>\n    </tr>\n    <tr>\n      <th>Customer Success Manager</th>\n      <td>HelloFresh</td>\n      <td>2021-02-02</td>\n      <td>Paris</td>\n    </tr>\n  </tbody>\n</table>\n</div>"
     },
     "execution_count": 113,
     "metadata": {},
     "output_type": "execute_result"
    }
   ],
   "source": [
    "df4 = df2.join(new5, how = 'left')\n",
    "df4.drop(columns = [\"City2\"], inplace = True)\n",
    "df4.set_index('Title', inplace = True)\n",
    "df4"
   ],
   "metadata": {
    "collapsed": false,
    "pycharm": {
     "name": "#%%\n"
    }
   }
  },
  {
   "cell_type": "markdown",
   "source": [
    "create CSV, with todays Date"
   ],
   "metadata": {
    "collapsed": false
   }
  },
  {
   "cell_type": "code",
   "execution_count": 114,
   "outputs": [],
   "source": [
    "date_object = datetime.date.today()\n",
    "date = str(date_object) + '_'\n",
    "date\n",
    "\n",
    "df4.to_csv('C:/Users/Marc/Dropbox/01_Marc Arnold/Python Projects/04_Job Viz/02_Output/' + date + city + '_' + country + '.csv')"
   ],
   "metadata": {
    "collapsed": false,
    "pycharm": {
     "name": "#%%\n"
    }
   }
  },
  {
   "cell_type": "markdown",
   "source": [
    "concat new jobs to existing list"
   ],
   "metadata": {
    "collapsed": false
   }
  },
  {
   "cell_type": "code",
   "execution_count": 115,
   "outputs": [
    {
     "data": {
      "text/plain": "                                                       Company   Post Date  \\\nTitle                                                                        \nData Analyst                                      EPAM Systems  2021-01-15   \nGlobal Digital Data Analyst                La Prairie Group AG  2021-01-17   \nBusiness Analyst                     Tata Consultancy Services  2021-01-14   \nBusiness Intelligence Analyst (80%)       Spitex Zürich Limmat  2021-01-22   \nBusiness Analyst (m/w), Zurich                       MoneyPark  2021-01-22   \n\n                                        City  \nTitle                                         \nData Analyst                          Zurich  \nGlobal Digital Data Analyst           Zurich  \nBusiness Analyst                      Zurich  \nBusiness Intelligence Analyst (80%)   Zurich  \nBusiness Analyst (m/w), Zurich       Schlatt  ",
      "text/html": "<div>\n<style scoped>\n    .dataframe tbody tr th:only-of-type {\n        vertical-align: middle;\n    }\n\n    .dataframe tbody tr th {\n        vertical-align: top;\n    }\n\n    .dataframe thead th {\n        text-align: right;\n    }\n</style>\n<table border=\"1\" class=\"dataframe\">\n  <thead>\n    <tr style=\"text-align: right;\">\n      <th></th>\n      <th>Company</th>\n      <th>Post Date</th>\n      <th>City</th>\n    </tr>\n    <tr>\n      <th>Title</th>\n      <th></th>\n      <th></th>\n      <th></th>\n    </tr>\n  </thead>\n  <tbody>\n    <tr>\n      <th>Data Analyst</th>\n      <td>EPAM Systems</td>\n      <td>2021-01-15</td>\n      <td>Zurich</td>\n    </tr>\n    <tr>\n      <th>Global Digital Data Analyst</th>\n      <td>La Prairie Group AG</td>\n      <td>2021-01-17</td>\n      <td>Zurich</td>\n    </tr>\n    <tr>\n      <th>Business Analyst</th>\n      <td>Tata Consultancy Services</td>\n      <td>2021-01-14</td>\n      <td>Zurich</td>\n    </tr>\n    <tr>\n      <th>Business Intelligence Analyst (80%)</th>\n      <td>Spitex Zürich Limmat</td>\n      <td>2021-01-22</td>\n      <td>Zurich</td>\n    </tr>\n    <tr>\n      <th>Business Analyst (m/w), Zurich</th>\n      <td>MoneyPark</td>\n      <td>2021-01-22</td>\n      <td>Schlatt</td>\n    </tr>\n  </tbody>\n</table>\n</div>"
     },
     "execution_count": 115,
     "metadata": {},
     "output_type": "execute_result"
    }
   ],
   "source": [
    "final_df = pd.read_csv('C:/Users/Marc/Dropbox/01_Marc Arnold/Python Projects/04_Job Viz/02_Output/01_Final DF/Final_DF_LinkedIN Jobs.csv')\n",
    "final_df.set_index('Title', inplace = True)\n",
    "final_df.head()"
   ],
   "metadata": {
    "collapsed": false,
    "pycharm": {
     "name": "#%%\n"
    }
   }
  },
  {
   "cell_type": "code",
   "execution_count": 116,
   "outputs": [
    {
     "data": {
      "text/plain": "                                                       Company   Post Date  \\\nTitle                                                                        \nData Analyst                                      EPAM Systems  2021-01-15   \nGlobal Digital Data Analyst                La Prairie Group AG  2021-01-17   \nBusiness Analyst                     Tata Consultancy Services  2021-01-14   \nBusiness Intelligence Analyst (80%)       Spitex Zürich Limmat  2021-01-22   \nBusiness Analyst (m/w), Zurich                       MoneyPark  2021-01-22   \n\n                                        City  \nTitle                                         \nData Analyst                          Zurich  \nGlobal Digital Data Analyst           Zurich  \nBusiness Analyst                      Zurich  \nBusiness Intelligence Analyst (80%)   Zurich  \nBusiness Analyst (m/w), Zurich       Schlatt  ",
      "text/html": "<div>\n<style scoped>\n    .dataframe tbody tr th:only-of-type {\n        vertical-align: middle;\n    }\n\n    .dataframe tbody tr th {\n        vertical-align: top;\n    }\n\n    .dataframe thead th {\n        text-align: right;\n    }\n</style>\n<table border=\"1\" class=\"dataframe\">\n  <thead>\n    <tr style=\"text-align: right;\">\n      <th></th>\n      <th>Company</th>\n      <th>Post Date</th>\n      <th>City</th>\n    </tr>\n    <tr>\n      <th>Title</th>\n      <th></th>\n      <th></th>\n      <th></th>\n    </tr>\n  </thead>\n  <tbody>\n    <tr>\n      <th>Data Analyst</th>\n      <td>EPAM Systems</td>\n      <td>2021-01-15</td>\n      <td>Zurich</td>\n    </tr>\n    <tr>\n      <th>Global Digital Data Analyst</th>\n      <td>La Prairie Group AG</td>\n      <td>2021-01-17</td>\n      <td>Zurich</td>\n    </tr>\n    <tr>\n      <th>Business Analyst</th>\n      <td>Tata Consultancy Services</td>\n      <td>2021-01-14</td>\n      <td>Zurich</td>\n    </tr>\n    <tr>\n      <th>Business Intelligence Analyst (80%)</th>\n      <td>Spitex Zürich Limmat</td>\n      <td>2021-01-22</td>\n      <td>Zurich</td>\n    </tr>\n    <tr>\n      <th>Business Analyst (m/w), Zurich</th>\n      <td>MoneyPark</td>\n      <td>2021-01-22</td>\n      <td>Schlatt</td>\n    </tr>\n  </tbody>\n</table>\n</div>"
     },
     "execution_count": 116,
     "metadata": {},
     "output_type": "execute_result"
    }
   ],
   "source": [
    "dfWIP = pd.concat([final_df, df4], axis=0)\n",
    "dfWIP.head()"
   ],
   "metadata": {
    "collapsed": false,
    "pycharm": {
     "name": "#%%\n"
    }
   }
  },
  {
   "cell_type": "markdown",
   "source": [
    "drop duplicated rows"
   ],
   "metadata": {
    "collapsed": false,
    "pycharm": {
     "name": "#%% md\n"
    }
   }
  },
  {
   "cell_type": "code",
   "execution_count": 117,
   "outputs": [
    {
     "data": {
      "text/plain": "                                                                      Company  \\\nTitle                                                                           \nData Analyst                                                     EPAM Systems   \nGlobal Digital Data Analyst                               La Prairie Group AG   \nBusiness Analyst                                    Tata Consultancy Services   \nBusiness Intelligence Analyst (80%)                      Spitex Zürich Limmat   \nBusiness Analyst (m/w), Zurich                                      MoneyPark   \n...                                                                       ...   \nConsultant                                                             Oresys   \nConsultant                                                          fab group   \nConsultant interne La Banque Postale Consulting...          La Banque Postale   \nCDI - Chef de Projet – Projets Transverses – F/...                     RIMOWA   \nCustomer Success Manager                                           HelloFresh   \n\n                                                     Post Date     City  \nTitle                                                                    \nData Analyst                                        2021-01-15   Zurich  \nGlobal Digital Data Analyst                         2021-01-17   Zurich  \nBusiness Analyst                                    2021-01-14   Zurich  \nBusiness Intelligence Analyst (80%)                 2021-01-22   Zurich  \nBusiness Analyst (m/w), Zurich                      2021-01-22  Schlatt  \n...                                                        ...      ...  \nConsultant                                          2020-12-28    Paris  \nConsultant                                          2021-01-21    Paris  \nConsultant interne La Banque Postale Consulting...  2021-01-15    Paris  \nCDI - Chef de Projet – Projets Transverses – F/...  2021-02-02    Paris  \nCustomer Success Manager                            2021-02-02    Paris  \n\n[266 rows x 3 columns]",
      "text/html": "<div>\n<style scoped>\n    .dataframe tbody tr th:only-of-type {\n        vertical-align: middle;\n    }\n\n    .dataframe tbody tr th {\n        vertical-align: top;\n    }\n\n    .dataframe thead th {\n        text-align: right;\n    }\n</style>\n<table border=\"1\" class=\"dataframe\">\n  <thead>\n    <tr style=\"text-align: right;\">\n      <th></th>\n      <th>Company</th>\n      <th>Post Date</th>\n      <th>City</th>\n    </tr>\n    <tr>\n      <th>Title</th>\n      <th></th>\n      <th></th>\n      <th></th>\n    </tr>\n  </thead>\n  <tbody>\n    <tr>\n      <th>Data Analyst</th>\n      <td>EPAM Systems</td>\n      <td>2021-01-15</td>\n      <td>Zurich</td>\n    </tr>\n    <tr>\n      <th>Global Digital Data Analyst</th>\n      <td>La Prairie Group AG</td>\n      <td>2021-01-17</td>\n      <td>Zurich</td>\n    </tr>\n    <tr>\n      <th>Business Analyst</th>\n      <td>Tata Consultancy Services</td>\n      <td>2021-01-14</td>\n      <td>Zurich</td>\n    </tr>\n    <tr>\n      <th>Business Intelligence Analyst (80%)</th>\n      <td>Spitex Zürich Limmat</td>\n      <td>2021-01-22</td>\n      <td>Zurich</td>\n    </tr>\n    <tr>\n      <th>Business Analyst (m/w), Zurich</th>\n      <td>MoneyPark</td>\n      <td>2021-01-22</td>\n      <td>Schlatt</td>\n    </tr>\n    <tr>\n      <th>...</th>\n      <td>...</td>\n      <td>...</td>\n      <td>...</td>\n    </tr>\n    <tr>\n      <th>Consultant</th>\n      <td>Oresys</td>\n      <td>2020-12-28</td>\n      <td>Paris</td>\n    </tr>\n    <tr>\n      <th>Consultant</th>\n      <td>fab group</td>\n      <td>2021-01-21</td>\n      <td>Paris</td>\n    </tr>\n    <tr>\n      <th>Consultant interne La Banque Postale Consulting H/F</th>\n      <td>La Banque Postale</td>\n      <td>2021-01-15</td>\n      <td>Paris</td>\n    </tr>\n    <tr>\n      <th>CDI - Chef de Projet – Projets Transverses – F/H - RIMOWA</th>\n      <td>RIMOWA</td>\n      <td>2021-02-02</td>\n      <td>Paris</td>\n    </tr>\n    <tr>\n      <th>Customer Success Manager</th>\n      <td>HelloFresh</td>\n      <td>2021-02-02</td>\n      <td>Paris</td>\n    </tr>\n  </tbody>\n</table>\n<p>266 rows × 3 columns</p>\n</div>"
     },
     "execution_count": 117,
     "metadata": {},
     "output_type": "execute_result"
    }
   ],
   "source": [
    "new_final_df = dfWIP.drop_duplicates()\n",
    "new_final_df"
   ],
   "metadata": {
    "collapsed": false,
    "pycharm": {
     "name": "#%%\n"
    }
   }
  },
  {
   "cell_type": "code",
   "execution_count": 118,
   "outputs": [],
   "source": [
    "new_final_df.to_csv('C:/Users/Marc/Dropbox/01_Marc Arnold/Python Projects/04_Job Viz/02_Output/01_Final DF/Final_DF_LinkedIN Jobs.csv')\n",
    "\n"
   ],
   "metadata": {
    "collapsed": false,
    "pycharm": {
     "name": "#%%\n"
    }
   }
  }
 ],
 "metadata": {
  "kernelspec": {
   "display_name": "Python 3",
   "language": "python",
   "name": "python3"
  },
  "language_info": {
   "codemirror_mode": {
    "name": "ipython",
    "version": 2
   },
   "file_extension": ".py",
   "mimetype": "text/x-python",
   "name": "python",
   "nbconvert_exporter": "python",
   "pygments_lexer": "ipython2",
   "version": "2.7.6"
  }
 },
 "nbformat": 4,
 "nbformat_minor": 0
}